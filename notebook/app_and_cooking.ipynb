{
 "cells": [
  {
   "cell_type": "code",
   "execution_count": 1,
   "metadata": {},
   "outputs": [],
   "source": [
    "import csv\n",
    "import numpy as np\n",
    "import pandas as pd"
   ]
  },
  {
   "cell_type": "markdown",
   "metadata": {},
   "source": [
    "年間スケジュールの読み込み"
   ]
  },
  {
   "cell_type": "code",
   "execution_count": 2,
   "metadata": {},
   "outputs": [
    {
     "name": "stdout",
     "output_type": "stream",
     "text": [
      "['HI' 'W' 'W' 'W' 'W' 'W' 'HI' 'HO' 'W' 'W' 'W' 'W' 'W' 'HI' 'HI' 'W' 'W'\n",
      " 'W' 'W' 'W' 'HI' 'HO' 'W' 'W' 'W' 'W' 'W' 'HI' 'HI' 'W' 'W' 'W' 'W' 'W'\n",
      " 'HI' 'HO' 'W' 'W' 'W' 'W' 'W' 'HI' 'HI' 'W' 'W' 'W' 'W' 'W' 'HI' 'HO' 'W'\n",
      " 'W' 'W' 'W' 'W' 'HI' 'HI' 'W' 'W' 'W' 'W' 'W' 'HI' 'HO' 'W' 'W' 'W' 'W'\n",
      " 'W' 'HI' 'HI' 'W' 'W' 'W' 'W' 'W' 'HI' 'HO' 'W' 'HI' 'W' 'W' 'W' 'HI'\n",
      " 'HI' 'W' 'W' 'W' 'W' 'W' 'HI' 'HO' 'W' 'W' 'W' 'W' 'W' 'HI' 'HI' 'W' 'W'\n",
      " 'W' 'W' 'W' 'HI' 'HO' 'W' 'W' 'W' 'W' 'W' 'HI' 'HI' 'W' 'W' 'W' 'W' 'W'\n",
      " 'HI' 'HO' 'W' 'W' 'HO' 'HO' 'HI' 'HI' 'HI' 'W' 'W' 'W' 'W' 'W' 'HI' 'HO'\n",
      " 'W' 'W' 'W' 'W' 'W' 'HI' 'HI' 'W' 'W' 'W' 'W' 'W' 'HI' 'HO' 'W' 'W' 'W'\n",
      " 'W' 'W' 'HI' 'HI' 'W' 'W' 'W' 'W' 'W' 'HI' 'HO' 'W' 'W' 'W' 'W' 'W' 'HI'\n",
      " 'HI' 'W' 'W' 'W' 'W' 'W' 'HI' 'HO' 'W' 'W' 'W' 'W' 'W' 'HI' 'HI' 'W' 'W'\n",
      " 'W' 'W' 'W' 'HI' 'HO' 'W' 'W' 'W' 'W' 'W' 'HI' 'HI' 'W' 'W' 'W' 'HI' 'W'\n",
      " 'HI' 'HO' 'W' 'W' 'W' 'W' 'W' 'HI' 'HI' 'W' 'W' 'W' 'W' 'W' 'HI' 'HO' 'W'\n",
      " 'W' 'W' 'W' 'W' 'HI' 'HI' 'W' 'W' 'W' 'W' 'W' 'HI' 'HO' 'W' 'W' 'W' 'W'\n",
      " 'W' 'HI' 'HI' 'W' 'W' 'W' 'W' 'W' 'HI' 'HO' 'W' 'W' 'W' 'W' 'W' 'HI' 'HI'\n",
      " 'W' 'W' 'W' 'W' 'HO' 'HI' 'HO' 'W' 'W' 'W' 'W' 'W' 'HI' 'HI' 'W' 'W' 'W'\n",
      " 'W' 'W' 'HI' 'HO' 'W' 'W' 'W' 'W' 'W' 'HI' 'HI' 'W' 'HI' 'W' 'W' 'W' 'HI'\n",
      " 'HO' 'W' 'W' 'W' 'W' 'W' 'HI' 'HI' 'W' 'W' 'W' 'W' 'W' 'HI' 'HO' 'W' 'W'\n",
      " 'W' 'W' 'HI' 'HI' 'HI' 'W' 'W' 'W' 'W' 'W' 'HI' 'HO' 'W' 'W' 'W' 'W' 'W'\n",
      " 'HI' 'HI' 'W' 'W' 'W' 'HI' 'W' 'HI' 'HO' 'W' 'W' 'W' 'W' 'W' 'HI' 'HI'\n",
      " 'W' 'W' 'W' 'W' 'W' 'HI' 'HO' 'W' 'W' 'W' 'W' 'W' 'HI' 'HI' 'W' 'W' 'W'\n",
      " 'W' 'W' 'HI' 'HO' 'W' 'W' 'W' 'W' 'W' 'HO' 'HI']\n"
     ]
    }
   ],
   "source": [
    "schedule_app = None\n",
    "with open('schedule.csv', encoding='utf8') as f:\n",
    "    reader = csv.reader(f, delimiter='\\t')\n",
    "    rows = [row for row in reader]\n",
    "    schedule_app = [\n",
    "        {\n",
    "            '平日': 'W',\n",
    "            '休日外': 'HO',\n",
    "            '休日在': 'HI'\n",
    "        }[row[5]] for row in rows[1:366]\n",
    "    ]\n",
    "schedule_app = np.array(schedule_app)\n",
    "print(schedule_app)"
   ]
  },
  {
   "cell_type": "code",
   "execution_count": 3,
   "metadata": {},
   "outputs": [
    {
     "name": "stdout",
     "output_type": "stream",
     "text": [
      "['HI' 'W' 'W' 'W' 'W' 'W' 'HI' 'HO' 'W' 'W' 'W' 'W' 'W' 'HI' 'HI' 'W' 'W'\n",
      " 'W' 'W' 'W' 'HI' 'HO' 'W' 'W' 'W' 'W' 'W' 'HI' 'HI' 'W' 'W' 'W' 'W' 'W'\n",
      " 'HI' 'HO' 'W' 'W' 'W' 'W' 'W' 'HI' 'HI' 'W' 'W' 'W' 'W' 'W' 'HI' 'HO' 'W'\n",
      " 'W' 'W' 'W' 'W' 'HI' 'HI' 'W' 'W' 'W' 'W' 'W' 'HI' 'HO' 'W' 'W' 'W' 'W'\n",
      " 'W' 'HI' 'HI' 'W' 'W' 'W' 'W' 'W' 'HI' 'HO' 'W' 'HI' 'W' 'W' 'W' 'HI'\n",
      " 'HI' 'W' 'W' 'W' 'W' 'W' 'HI' 'HO' 'W' 'W' 'W' 'W' 'W' 'HI' 'HI' 'W' 'W'\n",
      " 'W' 'W' 'W' 'HI' 'HO' 'W' 'W' 'W' 'W' 'W' 'HI' 'HI' 'W' 'W' 'W' 'W' 'W'\n",
      " 'HI' 'HO' 'W' 'W' 'HO' 'HO' 'HI' 'HI' 'HI' 'W' 'W' 'W' 'W' 'W' 'HI' 'HO'\n",
      " 'W' 'W' 'W' 'W' 'W' 'HI' 'HI' 'W' 'W' 'W' 'W' 'W' 'HI' 'HO' 'W' 'W' 'W'\n",
      " 'W' 'W' 'HI' 'HI' 'W' 'W' 'W' 'W' 'W' 'HI' 'HO' 'W' 'W' 'W' 'W' 'W' 'HI'\n",
      " 'HI' 'W' 'W' 'W' 'W' 'W' 'HI' 'HO' 'W' 'W' 'W' 'W' 'W' 'HI' 'HI' 'W' 'W'\n",
      " 'W' 'W' 'W' 'HI' 'HO' 'W' 'W' 'W' 'W' 'W' 'HI' 'HI' 'W' 'W' 'W' 'HI' 'W'\n",
      " 'HI' 'HO' 'W' 'W' 'W' 'W' 'W' 'HI' 'HI' 'W' 'W' 'W' 'W' 'W' 'HI' 'HO' 'W'\n",
      " 'W' 'W' 'W' 'W' 'HI' 'HI' 'W' 'W' 'W' 'W' 'W' 'HI' 'HO' 'W' 'W' 'W' 'W'\n",
      " 'W' 'HI' 'HI' 'W' 'W' 'W' 'W' 'W' 'HI' 'HO' 'W' 'W' 'W' 'W' 'W' 'HI' 'HI'\n",
      " 'W' 'W' 'W' 'W' 'HO' 'HI' 'HO' 'W' 'W' 'W' 'W' 'W' 'HI' 'HI' 'W' 'W' 'W'\n",
      " 'W' 'W' 'HI' 'HO' 'W' 'W' 'W' 'W' 'W' 'HI' 'HI' 'W' 'HI' 'W' 'W' 'W' 'HI'\n",
      " 'HO' 'W' 'W' 'W' 'W' 'W' 'HI' 'HI' 'W' 'W' 'W' 'W' 'W' 'HI' 'HO' 'W' 'W'\n",
      " 'W' 'W' 'HI' 'HI' 'HI' 'W' 'W' 'W' 'W' 'W' 'HI' 'HO' 'W' 'W' 'W' 'W' 'W'\n",
      " 'HI' 'HI' 'W' 'W' 'W' 'HI' 'W' 'HI' 'HO' 'W' 'W' 'W' 'W' 'W' 'HI' 'HI'\n",
      " 'W' 'W' 'W' 'W' 'W' 'HI' 'HO' 'W' 'W' 'W' 'W' 'W' 'HI' 'HI' 'W' 'W' 'W'\n",
      " 'W' 'W' 'HI' 'HO' 'W' 'W' 'W' 'W' 'W' 'HO' 'HI']\n"
     ]
    }
   ],
   "source": [
    "schedule_cooking = None\n",
    "with open('schedule.csv', encoding='utf8') as f:\n",
    "    reader = csv.reader(f, delimiter='\\t')\n",
    "    rows = [row for row in reader]\n",
    "    schedule_cooking = [\n",
    "        {\n",
    "            '平日': 'W',\n",
    "            '休日外': 'HO',\n",
    "            '休日在': 'HI'\n",
    "        }[row[6]] for row in rows[1:366]\n",
    "    ]\n",
    "schedule_cooking = np.array(schedule_cooking)\n",
    "print(schedule_cooking)"
   ]
  },
  {
   "cell_type": "code",
   "execution_count": 4,
   "metadata": {},
   "outputs": [],
   "source": [
    "d_demand_excel = pd.read_excel('cooking_app.xlsx', sheet_name=None, index_col=0)"
   ]
  },
  {
   "cell_type": "code",
   "execution_count": 5,
   "metadata": {},
   "outputs": [],
   "source": [
    "def get_e_app_p(p: int):\n",
    "    e_app_p = np.empty(shape=(365, 24), dtype=float)\n",
    "\n",
    "    e_app_p[schedule_app=='W', :] = d_demand_excel['app']['W'+str(p)]\n",
    "    e_app_p[schedule_app=='HO', :] = d_demand_excel['app']['HO'+str(p)]\n",
    "    e_app_p[schedule_app=='HI', :] = d_demand_excel['app']['HI'+str(p)]\n",
    "\n",
    "    return e_app_p"
   ]
  },
  {
   "cell_type": "code",
   "execution_count": 6,
   "metadata": {},
   "outputs": [],
   "source": [
    "def get_e_cc_p(p: int):\n",
    "    e_cc_p = np.empty(shape=(365, 24), dtype=float)\n",
    "\n",
    "    e_cc_p[schedule_cooking=='W', :] = d_demand_excel['cooking']['W'+str(p)]\n",
    "    e_cc_p[schedule_cooking=='HO', :] = d_demand_excel['cooking']['HO'+str(p)]\n",
    "    e_cc_p[schedule_cooking=='HI', :] = d_demand_excel['cooking']['HI'+str(p)]\n",
    "\n",
    "    return e_cc_p"
   ]
  },
  {
   "cell_type": "code",
   "execution_count": 7,
   "metadata": {},
   "outputs": [],
   "source": [
    "def sum_monthly(x_d_t: np.ndarray):\n",
    "\n",
    "    d_m = np.array([31, 28, 31, 30, 31, 30, 31, 31, 30, 31, 30, 31])\n",
    "    d_end = np.cumsum(d_m)\n",
    "    d_str = np.insert(d_end[0: -1], 0, 0)\n",
    "\n",
    "    x_d = np.sum(x_d_t, axis=1)\n",
    "    \n",
    "    return np.array([x_d[d_s: d_e].sum() for (d_s, d_e) in zip(d_str, d_end)])"
   ]
  },
  {
   "cell_type": "code",
   "execution_count": 8,
   "metadata": {},
   "outputs": [],
   "source": [
    "e_e_app_p_m = np.array([\n",
    "    sum_monthly(get_e_app_p(p=1)),\n",
    "    sum_monthly(get_e_app_p(p=2)),\n",
    "    sum_monthly(get_e_app_p(p=3)),\n",
    "    sum_monthly(get_e_app_p(p=4))\n",
    "]) * 9.76\n"
   ]
  },
  {
   "cell_type": "code",
   "execution_count": 9,
   "metadata": {},
   "outputs": [],
   "source": [
    "e_e_cc_p_m = np.array([\n",
    "    sum_monthly(get_e_cc_p(p=1)),\n",
    "    sum_monthly(get_e_cc_p(p=2)),\n",
    "    sum_monthly(get_e_cc_p(p=3)),\n",
    "    sum_monthly(get_e_cc_p(p=4))\n",
    "])"
   ]
  },
  {
   "cell_type": "code",
   "execution_count": 10,
   "metadata": {},
   "outputs": [],
   "source": [
    "with pd.ExcelWriter('app_cc_table.xlsx') as writer:\n",
    "    pd.DataFrame(e_e_app_p_m).round(1).T.to_excel(writer, sheet_name='table_1')\n",
    "    pd.DataFrame(e_e_cc_p_m).round(1).T.to_excel(writer, sheet_name='table_2')\n"
   ]
  },
  {
   "cell_type": "code",
   "execution_count": null,
   "metadata": {},
   "outputs": [],
   "source": []
  }
 ],
 "metadata": {
  "kernelspec": {
   "display_name": "Python 3.9.12 ('base')",
   "language": "python",
   "name": "python3"
  },
  "language_info": {
   "codemirror_mode": {
    "name": "ipython",
    "version": 3
   },
   "file_extension": ".py",
   "mimetype": "text/x-python",
   "name": "python",
   "nbconvert_exporter": "python",
   "pygments_lexer": "ipython3",
   "version": "3.9.12 (main, Apr  4 2022, 05:22:27) [MSC v.1916 64 bit (AMD64)]"
  },
  "orig_nbformat": 4,
  "vscode": {
   "interpreter": {
    "hash": "5dbc05a467610a7a84f5bc3bbdadbd2f946f904af75a8cc4fe6969443e40c877"
   }
  }
 },
 "nbformat": 4,
 "nbformat_minor": 2
}
