{
 "cells": [
  {
   "cell_type": "code",
   "execution_count": 1,
   "metadata": {},
   "outputs": [],
   "source": [
    "import csv\n",
    "from decimal import Decimal\n",
    "import numpy as np\n",
    "import pandas as pd"
   ]
  },
  {
   "attachments": {},
   "cell_type": "markdown",
   "metadata": {},
   "source": [
    "# 根拠"
   ]
  },
  {
   "attachments": {},
   "cell_type": "markdown",
   "metadata": {},
   "source": [
    "準備"
   ]
  },
  {
   "cell_type": "markdown",
   "metadata": {},
   "source": [
    "一次エネルギー換算係数\n",
    "\n",
    "9760 kJ/kWh"
   ]
  },
  {
   "cell_type": "code",
   "execution_count": 2,
   "metadata": {},
   "outputs": [],
   "source": [
    "f_prim = 9760.0"
   ]
  },
  {
   "cell_type": "markdown",
   "metadata": {},
   "source": [
    "月ごとの日数・始点・終点"
   ]
  },
  {
   "cell_type": "code",
   "execution_count": 3,
   "metadata": {},
   "outputs": [
    {
     "data": {
      "text/plain": [
       "(array([  0,  31,  59,  90, 120, 151, 181, 212, 243, 273, 304, 334],\n",
       "       dtype=int32),\n",
       " array([ 31,  59,  90, 120, 151, 181, 212, 243, 273, 304, 334, 365],\n",
       "       dtype=int32))"
      ]
     },
     "execution_count": 3,
     "metadata": {},
     "output_type": "execute_result"
    }
   ],
   "source": [
    "d_m = np.array([31, 28, 31, 30, 31, 30, 31, 31, 30, 31, 30, 31])\n",
    "d_end = np.cumsum(d_m)\n",
    "d_str = np.insert(d_end[0: -1], 0, 0)\n",
    "d_str, d_end"
   ]
  },
  {
   "attachments": {},
   "cell_type": "markdown",
   "metadata": {},
   "source": [
    "## 機械換気設備の参照一次エネルギー消費量"
   ]
  },
  {
   "attachments": {},
   "cell_type": "markdown",
   "metadata": {},
   "source": [
    "機械換気設備の参照エネルギー消費量の計算方法を整理するにあたり、建築物省エネ法の計算方法（第5章「換気設備」）（以下、省エネ法第5章という。）をレビューする。日付$d$の時刻$t$における1時間当たりの機械換気設備の消費電力量$E_{E,V,d,t}$は、省エネ法第5章の式(1)に基づき、次式により表される。"
   ]
  },
  {
   "attachments": {},
   "cell_type": "markdown",
   "metadata": {},
   "source": [
    "$$ E_{E,V,d,t} = E_{E,VG,d,t} + E_{E,VL,d,t} \\tag{1} $$"
   ]
  },
  {
   "attachments": {},
   "cell_type": "markdown",
   "metadata": {},
   "source": [
    "$E_{E,V,d,t}$\t：日付$d$の時刻$t$における1時間当たりの機械換気設備の消費電力量, kWh/h  \n",
    "$E_{E,VG,d,t}$\t：日付$d$の時刻$t$における1時間当たりの全般換気設備の消費電力量, kWh/h  \n",
    "$E_{E,VL,d,t}$\t：日付$d$の時刻$t$における1時間当たりの局所換気設備の消費電力量, kWh/h"
   ]
  },
  {
   "attachments": {},
   "cell_type": "markdown",
   "metadata": {},
   "source": [
    "日付$d$の時刻$t$における1時間当たりの全般換気設備の消費電力量$E_{E,VG,d,t}$は、省エネ法第5章の式(2)に基づき、次式により表される。"
   ]
  },
  {
   "attachments": {},
   "cell_type": "markdown",
   "metadata": {},
   "source": [
    "$$ E_{E,VG,d,t} = f_{SFP,d,t} \\cdot V_R \\cdot 10^{-3} \\tag{2} $$"
   ]
  },
  {
   "attachments": {},
   "cell_type": "markdown",
   "metadata": {},
   "source": [
    "$f_{SFP,d,t}$\t：日付$d$の時刻$t$における全般換気設備の比消費電力, W/(m<sup>3</sup>/h))  \n",
    "$V_R$\t：全般換気設備の参照機械換気量, m<sup>3</sup>/h"
   ]
  },
  {
   "attachments": {},
   "cell_type": "markdown",
   "metadata": {},
   "source": [
    "全般換気設備の参照機械換気量$V_R$は、当該住戸の床面積の合計、参照天井高さ、換気回数及び全般換気設備の換気量の余裕率の積を、有効換気量率で除した値であり、省エネ法第5章の式(3)に基づき、次式により表される。"
   ]
  },
  {
   "attachments": {},
   "cell_type": "markdown",
   "metadata": {},
   "source": [
    "$$ V_R = \\frac{ A_A \\cdot H_R \\cdot N \\cdot a }{ e } \\tag{3} $$"
   ]
  },
  {
   "attachments": {},
   "cell_type": "markdown",
   "metadata": {},
   "source": [
    "$A_A$\t：床面積の合計, m<sup>2</sup>  \n",
    "$H_R$\t：参照天井高さ, m (= 2.4 m)  \n",
    "$N$\t：換気回数, 1/h  \n",
    "$a$\t：全般換気設備の換気量の余裕率  \n",
    "$e$\t：有効換気量率  "
   ]
  },
  {
   "attachments": {},
   "cell_type": "markdown",
   "metadata": {},
   "source": [
    "参照天井高さ$H_R$は、2.4mに等しいとされている。  \n",
    "換気回数$N$は基準値の計算においては0.5回/hである。  \n",
    "全般換気設備の換気量の余裕率$a$は1.1に等しいとされている。  \n",
    "日付$d$の時刻$t$における比消費電力$f_{SFP,d,t}$は、日付$d$の時刻$t$に依らず同じ値$f_{SFP}$に等しいとし、基準値の計算においては0.3 W/(m<sup>3</sup>/h)とされている。  \n",
    "有効換気量率$e$は基準値の設定が第一種換気ではないことから1.0とする。  \n",
    "これらを勘案すると、"
   ]
  },
  {
   "attachments": {},
   "cell_type": "markdown",
   "metadata": {},
   "source": [
    "$$\n",
    "\\begin{align*}\n",
    "E_{E,VG,d,t} &= f_{SFP,d,t} \\cdot V_R \\cdot 10^{-3} \\\\\n",
    "&= \\frac{ f_{SFP,d,t} \\cdot A_A \\cdot H_R \\cdot N \\cdot a }{ e } \\cdot 10^{-3} \\\\\n",
    "&= 0.3 \\cdot 2.4 \\cdot 0.5 \\cdot 1.1 \\cdot 10^{-3} \\cdot A_A \\\\\n",
    "&= 0.396 \\cdot 10^{-3} \\cdot A_A \\\\\n",
    "\\end{align*}\n",
    "\\tag{4}\n",
    "$$"
   ]
  },
  {
   "cell_type": "code",
   "execution_count": 4,
   "metadata": {},
   "outputs": [
    {
     "data": {
      "text/plain": [
       "0.00039600000000000003"
      ]
     },
     "execution_count": 4,
     "metadata": {},
     "output_type": "execute_result"
    }
   ],
   "source": [
    "# kWh/m2\n",
    "0.3 * 2.4 * 0.5 * 1.1 / 1.0 * 0.001"
   ]
  },
  {
   "attachments": {},
   "cell_type": "markdown",
   "metadata": {},
   "source": [
    "となり、床面積の合計に$0.396⋅10^{-3}$を乗じることで全般換気設備の消費電力量が求まることが分かる。  \n",
    "月別の消費量については、次式で計算できるとする。"
   ]
  },
  {
   "attachments": {},
   "cell_type": "markdown",
   "metadata": {},
   "source": [
    "$$ E_{E,VG,m} = a' \\cdot A_A \\tag{5} $$"
   ]
  },
  {
   "attachments": {},
   "cell_type": "markdown",
   "metadata": {},
   "source": [
    "\n",
    "\n",
    "この係数$a'$は、係数 $0.396 \\cdot 10^{-3}$に月ごとの時間数を乗じて、次表となる。\n"
   ]
  },
  {
   "attachments": {},
   "cell_type": "markdown",
   "metadata": {},
   "source": [
    "表1 係数$a'$"
   ]
  },
  {
   "cell_type": "code",
   "execution_count": 5,
   "metadata": {},
   "outputs": [
    {
     "data": {
      "text/html": [
       "<div>\n",
       "<style scoped>\n",
       "    .dataframe tbody tr th:only-of-type {\n",
       "        vertical-align: middle;\n",
       "    }\n",
       "\n",
       "    .dataframe tbody tr th {\n",
       "        vertical-align: top;\n",
       "    }\n",
       "\n",
       "    .dataframe thead th {\n",
       "        text-align: right;\n",
       "    }\n",
       "</style>\n",
       "<table border=\"1\" class=\"dataframe\">\n",
       "  <thead>\n",
       "    <tr style=\"text-align: right;\">\n",
       "      <th></th>\n",
       "      <th>月別の係数 alpha_dsh, kWh/m2</th>\n",
       "    </tr>\n",
       "  </thead>\n",
       "  <tbody>\n",
       "    <tr>\n",
       "      <th>1月</th>\n",
       "      <td>0.294624</td>\n",
       "    </tr>\n",
       "    <tr>\n",
       "      <th>2月</th>\n",
       "      <td>0.266112</td>\n",
       "    </tr>\n",
       "    <tr>\n",
       "      <th>3月</th>\n",
       "      <td>0.294624</td>\n",
       "    </tr>\n",
       "    <tr>\n",
       "      <th>4月</th>\n",
       "      <td>0.285120</td>\n",
       "    </tr>\n",
       "    <tr>\n",
       "      <th>5月</th>\n",
       "      <td>0.294624</td>\n",
       "    </tr>\n",
       "    <tr>\n",
       "      <th>6月</th>\n",
       "      <td>0.285120</td>\n",
       "    </tr>\n",
       "    <tr>\n",
       "      <th>7月</th>\n",
       "      <td>0.294624</td>\n",
       "    </tr>\n",
       "    <tr>\n",
       "      <th>8月</th>\n",
       "      <td>0.294624</td>\n",
       "    </tr>\n",
       "    <tr>\n",
       "      <th>9月</th>\n",
       "      <td>0.285120</td>\n",
       "    </tr>\n",
       "    <tr>\n",
       "      <th>10月</th>\n",
       "      <td>0.294624</td>\n",
       "    </tr>\n",
       "    <tr>\n",
       "      <th>11月</th>\n",
       "      <td>0.285120</td>\n",
       "    </tr>\n",
       "    <tr>\n",
       "      <th>12月</th>\n",
       "      <td>0.294624</td>\n",
       "    </tr>\n",
       "  </tbody>\n",
       "</table>\n",
       "</div>"
      ],
      "text/plain": [
       "     月別の係数 alpha_dsh, kWh/m2\n",
       "1月                  0.294624\n",
       "2月                  0.266112\n",
       "3月                  0.294624\n",
       "4月                  0.285120\n",
       "5月                  0.294624\n",
       "6月                  0.285120\n",
       "7月                  0.294624\n",
       "8月                  0.294624\n",
       "9月                  0.285120\n",
       "10月                 0.294624\n",
       "11月                 0.285120\n",
       "12月                 0.294624"
      ]
     },
     "execution_count": 5,
     "metadata": {},
     "output_type": "execute_result"
    }
   ],
   "source": [
    "coeff_v_g = d_m * 0.396 * 0.001 * 24\n",
    "pd.DataFrame(coeff_v_g, columns=['月別の係数 alpha_dsh, kWh/m2'], index=['1月','2月','3月','4月','5月','6月','7月','8月','9月','10月','11月','12月'])\n"
   ]
  },
  {
   "attachments": {},
   "cell_type": "markdown",
   "metadata": {},
   "source": [
    "局所換気設備の消費電力は省エネ法第5章の式(5)において居住人数で按分することになっているが、今回の用途分解では居住人数を指定することにより特定できることから、按分する式は採用しない。"
   ]
  },
  {
   "attachments": {},
   "cell_type": "markdown",
   "metadata": {},
   "source": [
    "居住人数・在室スケジュールごとに定められた時々刻々の局所換気の消費電力を読み込み、日積算値に変換する。（その過程で2進数の都合で端数がでるため値をまるめる。）"
   ]
  },
  {
   "cell_type": "code",
   "execution_count": 6,
   "metadata": {},
   "outputs": [],
   "source": [
    "weekday_raw = []\n",
    "holiday_out_raw = []\n",
    "holiday_in_raw = []\n",
    "\n",
    "with open('ventilation_local.csv') as f:\n",
    "    reader = csv.reader(f, delimiter='\\t')\n",
    "    rows = [row for row in reader]\n",
    "\n",
    "    weekday_raw.append(sum([float(row[1]) for row in rows[:24]]))\n",
    "    holiday_out_raw.append(sum([float(row[2]) for row in rows[:24]]))\n",
    "    holiday_in_raw.append(sum([float(row[3]) for row in rows[:24]]))\n",
    "    weekday_raw.append(sum([float(row[4]) for row in rows[:24]]))\n",
    "    holiday_out_raw.append(sum([float(row[5]) for row in rows[:24]]))\n",
    "    holiday_in_raw.append(sum([float(row[6]) for row in rows[:24]]))\n",
    "    weekday_raw.append(sum([float(row[7]) for row in rows[:24]]))\n",
    "    holiday_out_raw.append(sum([float(row[8]) for row in rows[:24]]))\n",
    "    holiday_in_raw.append(sum([float(row[9]) for row in rows[:24]]))\n",
    "    weekday_raw.append(sum([float(row[10]) for row in rows[:24]]))\n",
    "    holiday_out_raw.append(sum([float(row[11]) for row in rows[:24]]))\n",
    "    holiday_in_raw.append(sum([float(row[12]) for row in rows[:24]]))\n",
    "\n",
    "weekday = [Decimal(str(v)).quantize(Decimal('0.01')) for v in weekday_raw]\n",
    "holiday_out = [Decimal(str(v)).quantize(Decimal('0.01')) for v in holiday_out_raw]\n",
    "holiday_in = [Decimal(str(v)).quantize(Decimal('0.01')) for v in holiday_in_raw]\n"
   ]
  },
  {
   "attachments": {},
   "cell_type": "markdown",
   "metadata": {},
   "source": [
    "居住人数・在室スケジュールごとの日積算値は、次表のようになる。"
   ]
  },
  {
   "attachments": {},
   "cell_type": "markdown",
   "metadata": {},
   "source": [
    "表2 局所換気設備の消費電力, Wh/d"
   ]
  },
  {
   "cell_type": "code",
   "execution_count": 7,
   "metadata": {},
   "outputs": [
    {
     "data": {
      "text/html": [
       "<div>\n",
       "<style scoped>\n",
       "    .dataframe tbody tr th:only-of-type {\n",
       "        vertical-align: middle;\n",
       "    }\n",
       "\n",
       "    .dataframe tbody tr th {\n",
       "        vertical-align: top;\n",
       "    }\n",
       "\n",
       "    .dataframe thead th {\n",
       "        text-align: right;\n",
       "    }\n",
       "</style>\n",
       "<table border=\"1\" class=\"dataframe\">\n",
       "  <thead>\n",
       "    <tr style=\"text-align: right;\">\n",
       "      <th></th>\n",
       "      <th>居住人数1人</th>\n",
       "      <th>居住人数2人</th>\n",
       "      <th>居住人数3人</th>\n",
       "      <th>居住人数4人</th>\n",
       "    </tr>\n",
       "  </thead>\n",
       "  <tbody>\n",
       "    <tr>\n",
       "      <th>在室スケジュール「平日」</th>\n",
       "      <td>36.94</td>\n",
       "      <td>73.81</td>\n",
       "      <td>110.77</td>\n",
       "      <td>147.61</td>\n",
       "    </tr>\n",
       "    <tr>\n",
       "      <th>在室スケジュール「休日外出」</th>\n",
       "      <td>20.59</td>\n",
       "      <td>41.02</td>\n",
       "      <td>61.62</td>\n",
       "      <td>82.02</td>\n",
       "    </tr>\n",
       "    <tr>\n",
       "      <th>在室スケジュール「休日在宅」</th>\n",
       "      <td>40.33</td>\n",
       "      <td>80.59</td>\n",
       "      <td>120.95</td>\n",
       "      <td>161.18</td>\n",
       "    </tr>\n",
       "  </tbody>\n",
       "</table>\n",
       "</div>"
      ],
      "text/plain": [
       "               居住人数1人 居住人数2人  居住人数3人  居住人数4人\n",
       "在室スケジュール「平日」    36.94  73.81  110.77  147.61\n",
       "在室スケジュール「休日外出」  20.59  41.02   61.62   82.02\n",
       "在室スケジュール「休日在宅」  40.33  80.59  120.95  161.18"
      ]
     },
     "execution_count": 7,
     "metadata": {},
     "output_type": "execute_result"
    }
   ],
   "source": [
    "pd.DataFrame(\n",
    "    [weekday, holiday_out, holiday_in],\n",
    "    columns=['居住人数1人', '居住人数2人', '居住人数3人', '居住人数4人'],\n",
    "    index=['在室スケジュール「平日」', '在室スケジュール「休日外出」', '在室スケジュール「休日在宅」']\n",
    ")"
   ]
  },
  {
   "attachments": {},
   "cell_type": "markdown",
   "metadata": {},
   "source": [
    "これを建築物省エネ法の計算方法（第11章「その他」第1節「地域の区分と外気条件」）（以下、省エネ法第11章第1節という。）で規定される年間スケジュールに従って展開し、月ごとに積算する。"
   ]
  },
  {
   "cell_type": "markdown",
   "metadata": {},
   "source": [
    "年間のスケジュールを読み込む。"
   ]
  },
  {
   "cell_type": "code",
   "execution_count": 8,
   "metadata": {},
   "outputs": [
    {
     "name": "stdout",
     "output_type": "stream",
     "text": [
      "['HI' 'W' 'W' 'W' 'W' 'W' 'HI' 'HO' 'W' 'W' 'W' 'W' 'W' 'HI' 'HI' 'W' 'W'\n",
      " 'W' 'W' 'W' 'HI' 'HO' 'W' 'W' 'W' 'W' 'W' 'HI' 'HI' 'W' 'W' 'W' 'W' 'W'\n",
      " 'HI' 'HO' 'W' 'W' 'W' 'W' 'W' 'HI' 'HI' 'W' 'W' 'W' 'W' 'W' 'HI' 'HO' 'W'\n",
      " 'W' 'W' 'W' 'W' 'HI' 'HI' 'W' 'W' 'W' 'W' 'W' 'HI' 'HO' 'W' 'W' 'W' 'W'\n",
      " 'W' 'HI' 'HI' 'W' 'W' 'W' 'W' 'W' 'HI' 'HO' 'W' 'HI' 'W' 'W' 'W' 'HI'\n",
      " 'HI' 'W' 'W' 'W' 'W' 'W' 'HI' 'HO' 'W' 'W' 'W' 'W' 'W' 'HI' 'HI' 'W' 'W'\n",
      " 'W' 'W' 'W' 'HI' 'HO' 'W' 'W' 'W' 'W' 'W' 'HI' 'HI' 'W' 'W' 'W' 'W' 'W'\n",
      " 'HI' 'HO' 'W' 'W' 'HO' 'HO' 'HI' 'HI' 'HI' 'W' 'W' 'W' 'W' 'W' 'HI' 'HO'\n",
      " 'W' 'W' 'W' 'W' 'W' 'HI' 'HI' 'W' 'W' 'W' 'W' 'W' 'HI' 'HO' 'W' 'W' 'W'\n",
      " 'W' 'W' 'HI' 'HI' 'W' 'W' 'W' 'W' 'W' 'HI' 'HO' 'W' 'W' 'W' 'W' 'W' 'HI'\n",
      " 'HI' 'W' 'W' 'W' 'W' 'W' 'HI' 'HO' 'W' 'W' 'W' 'W' 'W' 'HI' 'HI' 'W' 'W'\n",
      " 'W' 'W' 'W' 'HI' 'HO' 'W' 'W' 'W' 'W' 'W' 'HI' 'HI' 'W' 'W' 'W' 'HI' 'W'\n",
      " 'HI' 'HO' 'W' 'W' 'W' 'W' 'W' 'HI' 'HI' 'W' 'W' 'W' 'W' 'W' 'HI' 'HO' 'W'\n",
      " 'W' 'W' 'W' 'W' 'HI' 'HI' 'W' 'W' 'W' 'W' 'W' 'HI' 'HO' 'W' 'W' 'W' 'W'\n",
      " 'W' 'HI' 'HI' 'W' 'W' 'W' 'W' 'W' 'HI' 'HO' 'W' 'W' 'W' 'W' 'W' 'HI' 'HI'\n",
      " 'W' 'W' 'W' 'W' 'HO' 'HI' 'HO' 'W' 'W' 'W' 'W' 'W' 'HI' 'HI' 'W' 'W' 'W'\n",
      " 'W' 'W' 'HI' 'HO' 'W' 'W' 'W' 'W' 'W' 'HI' 'HI' 'W' 'HI' 'W' 'W' 'W' 'HI'\n",
      " 'HO' 'W' 'W' 'W' 'W' 'W' 'HI' 'HI' 'W' 'W' 'W' 'W' 'W' 'HI' 'HO' 'W' 'W'\n",
      " 'W' 'W' 'HI' 'HI' 'HI' 'W' 'W' 'W' 'W' 'W' 'HI' 'HO' 'W' 'W' 'W' 'W' 'W'\n",
      " 'HI' 'HI' 'W' 'W' 'W' 'HI' 'W' 'HI' 'HO' 'W' 'W' 'W' 'W' 'W' 'HI' 'HI'\n",
      " 'W' 'W' 'W' 'W' 'W' 'HI' 'HO' 'W' 'W' 'W' 'W' 'W' 'HI' 'HI' 'W' 'W' 'W'\n",
      " 'W' 'W' 'HI' 'HO' 'W' 'W' 'W' 'W' 'W' 'HO' 'HI']\n"
     ]
    }
   ],
   "source": [
    "vent_schedule = None\n",
    "with open('schedule.csv', encoding='utf8') as f:\n",
    "    reader = csv.reader(f, delimiter='\\t')\n",
    "    rows = [row for row in reader]\n",
    "    vent_schedule = [\n",
    "        {\n",
    "            '平日': 'W',\n",
    "            '休日外': 'HO',\n",
    "            '休日在': 'HI'\n",
    "        }[vs[2]] for vs in rows[1:366]\n",
    "    ]\n",
    "vent_schedule = np.array(vent_schedule)\n",
    "print(vent_schedule)"
   ]
  },
  {
   "cell_type": "markdown",
   "metadata": {},
   "source": [
    "日付dの時間tにおける局所換気の消費電力を整理する。"
   ]
  },
  {
   "cell_type": "code",
   "execution_count": 9,
   "metadata": {},
   "outputs": [],
   "source": [
    "e_e_vl_1_d_t = np.zeros(shape=365, dtype=float)\n",
    "e_e_vl_2_d_t = np.zeros(shape=365, dtype=float)\n",
    "e_e_vl_3_d_t = np.zeros(shape=365, dtype=float)\n",
    "e_e_vl_4_d_t = np.zeros(shape=365, dtype=float)\n",
    "\n",
    "e_e_vl_1_d_t[vent_schedule=='W'] = weekday[0]\n",
    "e_e_vl_1_d_t[vent_schedule=='HI'] = holiday_in[0]\n",
    "e_e_vl_1_d_t[vent_schedule=='HO'] = holiday_out[0]\n",
    "\n",
    "e_e_vl_2_d_t[vent_schedule=='W'] = weekday[1]\n",
    "e_e_vl_2_d_t[vent_schedule=='HI'] = holiday_in[1]\n",
    "e_e_vl_2_d_t[vent_schedule=='HO'] = holiday_out[1]\n",
    "\n",
    "e_e_vl_3_d_t[vent_schedule=='W'] = weekday[2]\n",
    "e_e_vl_3_d_t[vent_schedule=='HI'] = holiday_in[2]\n",
    "e_e_vl_3_d_t[vent_schedule=='HO'] = holiday_out[2]\n",
    "\n",
    "e_e_vl_4_d_t[vent_schedule=='W'] = weekday[3]\n",
    "e_e_vl_4_d_t[vent_schedule=='HI'] = holiday_in[3]\n",
    "e_e_vl_4_d_t[vent_schedule=='HO'] = holiday_out[3]"
   ]
  },
  {
   "attachments": {},
   "cell_type": "markdown",
   "metadata": {},
   "source": [
    "月ごとに積算する。（小数点を2桁までに丸めてある。）"
   ]
  },
  {
   "cell_type": "code",
   "execution_count": 10,
   "metadata": {},
   "outputs": [],
   "source": [
    "e_e_vl_1_m = [np.around(e_e_vl_1_d_t[d_s: d_e].sum(), 2) for (d_s, d_e) in zip(d_str, d_end)]\n",
    "e_e_vl_2_m = [np.around(e_e_vl_2_d_t[d_s: d_e].sum(), 2) for (d_s, d_e) in zip(d_str, d_end)]\n",
    "e_e_vl_3_m = [np.around(e_e_vl_3_d_t[d_s: d_e].sum(), 2) for (d_s, d_e) in zip(d_str, d_end)]\n",
    "e_e_vl_4_m = [np.around(e_e_vl_4_d_t[d_s: d_e].sum(), 2) for (d_s, d_e) in zip(d_str, d_end)]"
   ]
  },
  {
   "attachments": {},
   "cell_type": "markdown",
   "metadata": {},
   "source": [
    "居住人数ごとに計算してきた値を縦方向：月、横方向：居住人数の2次元配列にする。"
   ]
  },
  {
   "cell_type": "code",
   "execution_count": 11,
   "metadata": {},
   "outputs": [],
   "source": [
    "e_e_vl_m = np.array([e_e_vl_1_m, e_e_vl_2_m, e_e_vl_3_m, e_e_vl_4_m]).T"
   ]
  },
  {
   "attachments": {},
   "cell_type": "markdown",
   "metadata": {},
   "source": [
    "表3 局所換気設備の消費電力（月別）, Wh"
   ]
  },
  {
   "cell_type": "code",
   "execution_count": 12,
   "metadata": {},
   "outputs": [
    {
     "data": {
      "text/html": [
       "<div>\n",
       "<style scoped>\n",
       "    .dataframe tbody tr th:only-of-type {\n",
       "        vertical-align: middle;\n",
       "    }\n",
       "\n",
       "    .dataframe tbody tr th {\n",
       "        vertical-align: top;\n",
       "    }\n",
       "\n",
       "    .dataframe thead th {\n",
       "        text-align: right;\n",
       "    }\n",
       "</style>\n",
       "<table border=\"1\" class=\"dataframe\">\n",
       "  <thead>\n",
       "    <tr style=\"text-align: right;\">\n",
       "      <th></th>\n",
       "      <th>居住人数1人</th>\n",
       "      <th>居住人数2人</th>\n",
       "      <th>居住人数3人</th>\n",
       "      <th>居住人数4人</th>\n",
       "    </tr>\n",
       "  </thead>\n",
       "  <tbody>\n",
       "    <tr>\n",
       "      <th>1月</th>\n",
       "      <td>1136.17</td>\n",
       "      <td>2269.99</td>\n",
       "      <td>3406.83</td>\n",
       "      <td>4539.72</td>\n",
       "    </tr>\n",
       "    <tr>\n",
       "      <th>2月</th>\n",
       "      <td>1021.96</td>\n",
       "      <td>2041.78</td>\n",
       "      <td>3064.34</td>\n",
       "      <td>4083.32</td>\n",
       "    </tr>\n",
       "    <tr>\n",
       "      <th>3月</th>\n",
       "      <td>1136.17</td>\n",
       "      <td>2269.99</td>\n",
       "      <td>3406.83</td>\n",
       "      <td>4539.72</td>\n",
       "    </tr>\n",
       "    <tr>\n",
       "      <th>4月</th>\n",
       "      <td>1082.88</td>\n",
       "      <td>2163.39</td>\n",
       "      <td>3246.91</td>\n",
       "      <td>4326.52</td>\n",
       "    </tr>\n",
       "    <tr>\n",
       "      <th>5月</th>\n",
       "      <td>1103.47</td>\n",
       "      <td>2204.41</td>\n",
       "      <td>3308.53</td>\n",
       "      <td>4408.54</td>\n",
       "    </tr>\n",
       "    <tr>\n",
       "      <th>6月</th>\n",
       "      <td>1095.84</td>\n",
       "      <td>2189.40</td>\n",
       "      <td>3285.88</td>\n",
       "      <td>4378.54</td>\n",
       "    </tr>\n",
       "    <tr>\n",
       "      <th>7月</th>\n",
       "      <td>1142.95</td>\n",
       "      <td>2283.55</td>\n",
       "      <td>3427.19</td>\n",
       "      <td>4566.86</td>\n",
       "    </tr>\n",
       "    <tr>\n",
       "      <th>8月</th>\n",
       "      <td>1132.78</td>\n",
       "      <td>2263.21</td>\n",
       "      <td>3396.65</td>\n",
       "      <td>4526.15</td>\n",
       "    </tr>\n",
       "    <tr>\n",
       "      <th>9月</th>\n",
       "      <td>1082.88</td>\n",
       "      <td>2163.39</td>\n",
       "      <td>3246.91</td>\n",
       "      <td>4326.52</td>\n",
       "    </tr>\n",
       "    <tr>\n",
       "      <th>10月</th>\n",
       "      <td>1119.82</td>\n",
       "      <td>2237.20</td>\n",
       "      <td>3357.68</td>\n",
       "      <td>4474.13</td>\n",
       "    </tr>\n",
       "    <tr>\n",
       "      <th>11月</th>\n",
       "      <td>1102.62</td>\n",
       "      <td>2202.96</td>\n",
       "      <td>3306.24</td>\n",
       "      <td>4405.68</td>\n",
       "    </tr>\n",
       "    <tr>\n",
       "      <th>12月</th>\n",
       "      <td>1119.82</td>\n",
       "      <td>2237.20</td>\n",
       "      <td>3357.68</td>\n",
       "      <td>4474.13</td>\n",
       "    </tr>\n",
       "  </tbody>\n",
       "</table>\n",
       "</div>"
      ],
      "text/plain": [
       "      居住人数1人   居住人数2人   居住人数3人   居住人数4人\n",
       "1月   1136.17  2269.99  3406.83  4539.72\n",
       "2月   1021.96  2041.78  3064.34  4083.32\n",
       "3月   1136.17  2269.99  3406.83  4539.72\n",
       "4月   1082.88  2163.39  3246.91  4326.52\n",
       "5月   1103.47  2204.41  3308.53  4408.54\n",
       "6月   1095.84  2189.40  3285.88  4378.54\n",
       "7月   1142.95  2283.55  3427.19  4566.86\n",
       "8月   1132.78  2263.21  3396.65  4526.15\n",
       "9月   1082.88  2163.39  3246.91  4326.52\n",
       "10月  1119.82  2237.20  3357.68  4474.13\n",
       "11月  1102.62  2202.96  3306.24  4405.68\n",
       "12月  1119.82  2237.20  3357.68  4474.13"
      ]
     },
     "execution_count": 12,
     "metadata": {},
     "output_type": "execute_result"
    }
   ],
   "source": [
    "pd.DataFrame(\n",
    "    e_e_vl_m,\n",
    "    columns=['居住人数1人', '居住人数2人', '居住人数3人', '居住人数4人'],\n",
    "    index=['1月','2月','3月','4月','5月','6月','7月','8月','9月','10月','11月','12月']\n",
    ")\n"
   ]
  },
  {
   "attachments": {},
   "cell_type": "markdown",
   "metadata": {},
   "source": [
    "表1と表3に一次エネ換算係数を乗じて一次エネルギー消費量を求める式になおすと以下のようになる。"
   ]
  },
  {
   "attachments": {},
   "cell_type": "markdown",
   "metadata": {},
   "source": [
    "$$E_{V,m} = \\alpha \\cdot A_A + \\beta$$"
   ]
  },
  {
   "attachments": {},
   "cell_type": "markdown",
   "metadata": {},
   "source": [
    "$E_{V,m}$\t：月$m$における換気設備の一次エネルギー消費量, MJ  \n",
    "$\\alpha$    ：係数$\\alpha$, MJ/m2  \n",
    "$\\beta$    ：係数$\\beta$, MJ  "
   ]
  },
  {
   "attachments": {},
   "cell_type": "markdown",
   "metadata": {},
   "source": [
    "係数α及び係数βは表4及び表5の値とする。"
   ]
  },
  {
   "attachments": {},
   "cell_type": "markdown",
   "metadata": {},
   "source": [
    "表4 係数 $\\alpha$, MJ/m2"
   ]
  },
  {
   "cell_type": "code",
   "execution_count": 13,
   "metadata": {},
   "outputs": [],
   "source": [
    "alpha = coeff_v_g * f_prim * 0.001"
   ]
  },
  {
   "cell_type": "code",
   "execution_count": 14,
   "metadata": {},
   "outputs": [
    {
     "data": {
      "text/html": [
       "<div>\n",
       "<style scoped>\n",
       "    .dataframe tbody tr th:only-of-type {\n",
       "        vertical-align: middle;\n",
       "    }\n",
       "\n",
       "    .dataframe tbody tr th {\n",
       "        vertical-align: top;\n",
       "    }\n",
       "\n",
       "    .dataframe thead th {\n",
       "        text-align: right;\n",
       "    }\n",
       "</style>\n",
       "<table border=\"1\" class=\"dataframe\">\n",
       "  <thead>\n",
       "    <tr style=\"text-align: right;\">\n",
       "      <th></th>\n",
       "      <th>月別の係数 alpha, MJ/m2</th>\n",
       "    </tr>\n",
       "  </thead>\n",
       "  <tbody>\n",
       "    <tr>\n",
       "      <th>1月</th>\n",
       "      <td>2.875530</td>\n",
       "    </tr>\n",
       "    <tr>\n",
       "      <th>2月</th>\n",
       "      <td>2.597253</td>\n",
       "    </tr>\n",
       "    <tr>\n",
       "      <th>3月</th>\n",
       "      <td>2.875530</td>\n",
       "    </tr>\n",
       "    <tr>\n",
       "      <th>4月</th>\n",
       "      <td>2.782771</td>\n",
       "    </tr>\n",
       "    <tr>\n",
       "      <th>5月</th>\n",
       "      <td>2.875530</td>\n",
       "    </tr>\n",
       "    <tr>\n",
       "      <th>6月</th>\n",
       "      <td>2.782771</td>\n",
       "    </tr>\n",
       "    <tr>\n",
       "      <th>7月</th>\n",
       "      <td>2.875530</td>\n",
       "    </tr>\n",
       "    <tr>\n",
       "      <th>8月</th>\n",
       "      <td>2.875530</td>\n",
       "    </tr>\n",
       "    <tr>\n",
       "      <th>9月</th>\n",
       "      <td>2.782771</td>\n",
       "    </tr>\n",
       "    <tr>\n",
       "      <th>10月</th>\n",
       "      <td>2.875530</td>\n",
       "    </tr>\n",
       "    <tr>\n",
       "      <th>11月</th>\n",
       "      <td>2.782771</td>\n",
       "    </tr>\n",
       "    <tr>\n",
       "      <th>12月</th>\n",
       "      <td>2.875530</td>\n",
       "    </tr>\n",
       "  </tbody>\n",
       "</table>\n",
       "</div>"
      ],
      "text/plain": [
       "     月別の係数 alpha, MJ/m2\n",
       "1月             2.875530\n",
       "2月             2.597253\n",
       "3月             2.875530\n",
       "4月             2.782771\n",
       "5月             2.875530\n",
       "6月             2.782771\n",
       "7月             2.875530\n",
       "8月             2.875530\n",
       "9月             2.782771\n",
       "10月            2.875530\n",
       "11月            2.782771\n",
       "12月            2.875530"
      ]
     },
     "execution_count": 14,
     "metadata": {},
     "output_type": "execute_result"
    }
   ],
   "source": [
    "pd.DataFrame(alpha, columns=['月別の係数 alpha, MJ/m2'], index=['1月','2月','3月','4月','5月','6月','7月','8月','9月','10月','11月','12月'])"
   ]
  },
  {
   "cell_type": "markdown",
   "metadata": {},
   "source": [
    "係数 $\\beta$\n",
    "\n",
    "MJ"
   ]
  },
  {
   "cell_type": "code",
   "execution_count": 15,
   "metadata": {},
   "outputs": [],
   "source": [
    "beta = e_e_vl_m * 0.001 * f_prim * 0.001"
   ]
  },
  {
   "cell_type": "code",
   "execution_count": 16,
   "metadata": {},
   "outputs": [
    {
     "data": {
      "text/html": [
       "<div>\n",
       "<style scoped>\n",
       "    .dataframe tbody tr th:only-of-type {\n",
       "        vertical-align: middle;\n",
       "    }\n",
       "\n",
       "    .dataframe tbody tr th {\n",
       "        vertical-align: top;\n",
       "    }\n",
       "\n",
       "    .dataframe thead th {\n",
       "        text-align: right;\n",
       "    }\n",
       "</style>\n",
       "<table border=\"1\" class=\"dataframe\">\n",
       "  <thead>\n",
       "    <tr style=\"text-align: right;\">\n",
       "      <th></th>\n",
       "      <th>居住人数1人</th>\n",
       "      <th>居住人数2人</th>\n",
       "      <th>居住人数3人</th>\n",
       "      <th>居住人数4人</th>\n",
       "    </tr>\n",
       "  </thead>\n",
       "  <tbody>\n",
       "    <tr>\n",
       "      <th>1月</th>\n",
       "      <td>11.089019</td>\n",
       "      <td>22.155102</td>\n",
       "      <td>33.250661</td>\n",
       "      <td>44.307667</td>\n",
       "    </tr>\n",
       "    <tr>\n",
       "      <th>2月</th>\n",
       "      <td>9.974330</td>\n",
       "      <td>19.927773</td>\n",
       "      <td>29.907958</td>\n",
       "      <td>39.853203</td>\n",
       "    </tr>\n",
       "    <tr>\n",
       "      <th>3月</th>\n",
       "      <td>11.089019</td>\n",
       "      <td>22.155102</td>\n",
       "      <td>33.250661</td>\n",
       "      <td>44.307667</td>\n",
       "    </tr>\n",
       "    <tr>\n",
       "      <th>4月</th>\n",
       "      <td>10.568909</td>\n",
       "      <td>21.114686</td>\n",
       "      <td>31.689842</td>\n",
       "      <td>42.226835</td>\n",
       "    </tr>\n",
       "    <tr>\n",
       "      <th>5月</th>\n",
       "      <td>10.769867</td>\n",
       "      <td>21.515042</td>\n",
       "      <td>32.291253</td>\n",
       "      <td>43.027350</td>\n",
       "    </tr>\n",
       "    <tr>\n",
       "      <th>6月</th>\n",
       "      <td>10.695398</td>\n",
       "      <td>21.368544</td>\n",
       "      <td>32.070189</td>\n",
       "      <td>42.734550</td>\n",
       "    </tr>\n",
       "    <tr>\n",
       "      <th>7月</th>\n",
       "      <td>11.155192</td>\n",
       "      <td>22.287448</td>\n",
       "      <td>33.449374</td>\n",
       "      <td>44.572554</td>\n",
       "    </tr>\n",
       "    <tr>\n",
       "      <th>8月</th>\n",
       "      <td>11.055933</td>\n",
       "      <td>22.088930</td>\n",
       "      <td>33.151304</td>\n",
       "      <td>44.175224</td>\n",
       "    </tr>\n",
       "    <tr>\n",
       "      <th>9月</th>\n",
       "      <td>10.568909</td>\n",
       "      <td>21.114686</td>\n",
       "      <td>31.689842</td>\n",
       "      <td>42.226835</td>\n",
       "    </tr>\n",
       "    <tr>\n",
       "      <th>10月</th>\n",
       "      <td>10.929443</td>\n",
       "      <td>21.835072</td>\n",
       "      <td>32.770957</td>\n",
       "      <td>43.667509</td>\n",
       "    </tr>\n",
       "    <tr>\n",
       "      <th>11月</th>\n",
       "      <td>10.761571</td>\n",
       "      <td>21.500890</td>\n",
       "      <td>32.268902</td>\n",
       "      <td>42.999437</td>\n",
       "    </tr>\n",
       "    <tr>\n",
       "      <th>12月</th>\n",
       "      <td>10.929443</td>\n",
       "      <td>21.835072</td>\n",
       "      <td>32.770957</td>\n",
       "      <td>43.667509</td>\n",
       "    </tr>\n",
       "  </tbody>\n",
       "</table>\n",
       "</div>"
      ],
      "text/plain": [
       "        居住人数1人     居住人数2人     居住人数3人     居住人数4人\n",
       "1月   11.089019  22.155102  33.250661  44.307667\n",
       "2月    9.974330  19.927773  29.907958  39.853203\n",
       "3月   11.089019  22.155102  33.250661  44.307667\n",
       "4月   10.568909  21.114686  31.689842  42.226835\n",
       "5月   10.769867  21.515042  32.291253  43.027350\n",
       "6月   10.695398  21.368544  32.070189  42.734550\n",
       "7月   11.155192  22.287448  33.449374  44.572554\n",
       "8月   11.055933  22.088930  33.151304  44.175224\n",
       "9月   10.568909  21.114686  31.689842  42.226835\n",
       "10月  10.929443  21.835072  32.770957  43.667509\n",
       "11月  10.761571  21.500890  32.268902  42.999437\n",
       "12月  10.929443  21.835072  32.770957  43.667509"
      ]
     },
     "execution_count": 16,
     "metadata": {},
     "output_type": "execute_result"
    }
   ],
   "source": [
    "pd.DataFrame(\n",
    "    beta,\n",
    "    columns=['居住人数1人', '居住人数2人', '居住人数3人', '居住人数4人'],\n",
    "    index=['1月','2月','3月','4月','5月','6月','7月','8月','9月','10月','11月','12月']\n",
    ")"
   ]
  },
  {
   "cell_type": "code",
   "execution_count": 17,
   "metadata": {},
   "outputs": [
    {
     "data": {
      "text/plain": [
       "array([2.87553024, 2.59725312, 2.87553024, 2.7827712 , 2.87553024,\n",
       "       2.7827712 , 2.87553024, 2.87553024, 2.7827712 , 2.87553024,\n",
       "       2.7827712 , 2.87553024])"
      ]
     },
     "execution_count": 17,
     "metadata": {},
     "output_type": "execute_result"
    }
   ],
   "source": [
    "alpha"
   ]
  },
  {
   "cell_type": "code",
   "execution_count": 18,
   "metadata": {},
   "outputs": [
    {
     "data": {
      "text/plain": [
       "array([[11.0890192, 22.1551024, 33.2506608, 44.3076672],\n",
       "       [ 9.9743296, 19.9277728, 29.9079584, 39.8532032],\n",
       "       [11.0890192, 22.1551024, 33.2506608, 44.3076672],\n",
       "       [10.5689088, 21.1146864, 31.6898416, 42.2268352],\n",
       "       [10.7698672, 21.5150416, 32.2912528, 43.0273504],\n",
       "       [10.6953984, 21.368544 , 32.0701888, 42.7345504],\n",
       "       [11.155192 , 22.287448 , 33.4493744, 44.5725536],\n",
       "       [11.0559328, 22.0889296, 33.151304 , 44.175224 ],\n",
       "       [10.5689088, 21.1146864, 31.6898416, 42.2268352],\n",
       "       [10.9294432, 21.835072 , 32.7709568, 43.6675088],\n",
       "       [10.7615712, 21.5008896, 32.2689024, 42.9994368],\n",
       "       [10.9294432, 21.835072 , 32.7709568, 43.6675088]])"
      ]
     },
     "execution_count": 18,
     "metadata": {},
     "output_type": "execute_result"
    }
   ],
   "source": [
    "beta"
   ]
  },
  {
   "cell_type": "code",
   "execution_count": null,
   "metadata": {},
   "outputs": [],
   "source": []
  }
 ],
 "metadata": {
  "kernelspec": {
   "display_name": "Python 3.9.12 ('base')",
   "language": "python",
   "name": "python3"
  },
  "language_info": {
   "codemirror_mode": {
    "name": "ipython",
    "version": 3
   },
   "file_extension": ".py",
   "mimetype": "text/x-python",
   "name": "python",
   "nbconvert_exporter": "python",
   "pygments_lexer": "ipython3",
   "version": "3.9.12"
  },
  "orig_nbformat": 4,
  "vscode": {
   "interpreter": {
    "hash": "5dbc05a467610a7a84f5bc3bbdadbd2f946f904af75a8cc4fe6969443e40c877"
   }
  }
 },
 "nbformat": 4,
 "nbformat_minor": 2
}
