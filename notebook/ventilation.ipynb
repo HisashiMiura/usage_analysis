{
 "cells": [
  {
   "cell_type": "code",
   "execution_count": 1,
   "metadata": {},
   "outputs": [],
   "source": [
    "import csv\n",
    "from decimal import Decimal\n",
    "import numpy as np\n",
    "import pandas as pd"
   ]
  },
  {
   "cell_type": "markdown",
   "metadata": {},
   "source": [
    "一次エネルギー換算係数\n",
    "\n",
    "9760 kJ/kWh"
   ]
  },
  {
   "cell_type": "code",
   "execution_count": 2,
   "metadata": {},
   "outputs": [],
   "source": [
    "f_prim = 9760.0"
   ]
  },
  {
   "cell_type": "markdown",
   "metadata": {},
   "source": [
    "月ごとの日数・始点・終点"
   ]
  },
  {
   "cell_type": "code",
   "execution_count": 3,
   "metadata": {},
   "outputs": [
    {
     "data": {
      "text/plain": [
       "(array([  0,  31,  59,  90, 120, 151, 181, 212, 243, 273, 304, 334],\n",
       "       dtype=int32),\n",
       " array([ 31,  59,  90, 120, 151, 181, 212, 243, 273, 304, 334, 365],\n",
       "       dtype=int32))"
      ]
     },
     "execution_count": 3,
     "metadata": {},
     "output_type": "execute_result"
    }
   ],
   "source": [
    "d_m = np.array([31, 28, 31, 30, 31, 30, 31, 31, 30, 31, 30, 31])\n",
    "d_end = np.cumsum(d_m)\n",
    "d_str = np.insert(d_end[0: -1], 0, 0)\n",
    "d_str, d_end"
   ]
  },
  {
   "cell_type": "code",
   "execution_count": 4,
   "metadata": {},
   "outputs": [
    {
     "data": {
      "text/plain": [
       "0.00039600000000000003"
      ]
     },
     "execution_count": 4,
     "metadata": {},
     "output_type": "execute_result"
    }
   ],
   "source": [
    "0.3 * 2.4 * 0.5 * 1.1 / 1.0 * 0.001\n",
    "# kWh/m2"
   ]
  },
  {
   "cell_type": "code",
   "execution_count": 5,
   "metadata": {},
   "outputs": [
    {
     "data": {
      "text/plain": [
       "array([0.294624, 0.266112, 0.294624, 0.28512 , 0.294624, 0.28512 ,\n",
       "       0.294624, 0.294624, 0.28512 , 0.294624, 0.28512 , 0.294624])"
      ]
     },
     "execution_count": 5,
     "metadata": {},
     "output_type": "execute_result"
    }
   ],
   "source": [
    "coeff_v_g = d_m * 0.396 * 0.001 * 24\n",
    "coeff_v_g"
   ]
  },
  {
   "cell_type": "markdown",
   "metadata": {},
   "source": [
    "局所換気の消費電力をCSVから読み込む。"
   ]
  },
  {
   "cell_type": "code",
   "execution_count": 6,
   "metadata": {},
   "outputs": [
    {
     "name": "stdout",
     "output_type": "stream",
     "text": [
      "平日（1人）: 36.940000000000005\n",
      "休日外出（1人）: 20.590000000000007\n",
      "休日在宅（1人）: 40.330000000000005\n",
      "平日（2人）: 73.81000000000002\n",
      "休日外出（2人）: 41.02\n",
      "休日在宅（2人）: 80.59000000000002\n",
      "平日（3人）: 110.77000000000001\n",
      "休日外出（3人）: 61.61999999999999\n",
      "休日在宅（3人）: 120.95\n",
      "平日（4人）: 147.60999999999999\n",
      "休日外出（4人）: 82.02000000000001\n",
      "休日在宅（4人）: 161.18\n"
     ]
    }
   ],
   "source": [
    "weekday_raw = []\n",
    "holiday_out_raw = []\n",
    "holiday_in_raw = []\n",
    "\n",
    "with open('ventilation_local.csv') as f:\n",
    "    reader = csv.reader(f, delimiter='\\t')\n",
    "    rows = [row for row in reader]\n",
    "\n",
    "    weekday_raw.append(sum([float(row[1]) for row in rows[:24]]))\n",
    "    holiday_out_raw.append(sum([float(row[2]) for row in rows[:24]]))\n",
    "    holiday_in_raw.append(sum([float(row[3]) for row in rows[:24]]))\n",
    "    weekday_raw.append(sum([float(row[4]) for row in rows[:24]]))\n",
    "    holiday_out_raw.append(sum([float(row[5]) for row in rows[:24]]))\n",
    "    holiday_in_raw.append(sum([float(row[6]) for row in rows[:24]]))\n",
    "    weekday_raw.append(sum([float(row[7]) for row in rows[:24]]))\n",
    "    holiday_out_raw.append(sum([float(row[8]) for row in rows[:24]]))\n",
    "    holiday_in_raw.append(sum([float(row[9]) for row in rows[:24]]))\n",
    "    weekday_raw.append(sum([float(row[10]) for row in rows[:24]]))\n",
    "    holiday_out_raw.append(sum([float(row[11]) for row in rows[:24]]))\n",
    "    holiday_in_raw.append(sum([float(row[12]) for row in rows[:24]]))\n",
    "\n",
    "for n in range(4):\n",
    "    print('平日（' + str(n+1) + '人）: ' + str(weekday_raw[n]))\n",
    "    print('休日外出（' + str(n+1) + '人）: ' + str(holiday_out_raw[n]))\n",
    "    print('休日在宅（' + str(n+1) + '人）: ' + str(holiday_in_raw[n]))\n"
   ]
  },
  {
   "cell_type": "markdown",
   "metadata": {},
   "source": [
    "値を丸める。"
   ]
  },
  {
   "cell_type": "code",
   "execution_count": 7,
   "metadata": {},
   "outputs": [
    {
     "name": "stdout",
     "output_type": "stream",
     "text": [
      "平日（1人）: 36.94\n",
      "休日外出（1人）: 20.59\n",
      "休日在宅（1人）: 40.33\n",
      "平日（2人）: 73.81\n",
      "休日外出（2人）: 41.02\n",
      "休日在宅（2人）: 80.59\n",
      "平日（3人）: 110.77\n",
      "休日外出（3人）: 61.62\n",
      "休日在宅（3人）: 120.95\n",
      "平日（4人）: 147.61\n",
      "休日外出（4人）: 82.02\n",
      "休日在宅（4人）: 161.18\n"
     ]
    }
   ],
   "source": [
    "weekday = [Decimal(str(v)).quantize(Decimal('0.01')) for v in weekday_raw]\n",
    "holiday_out = [Decimal(str(v)).quantize(Decimal('0.01')) for v in holiday_out_raw]\n",
    "holiday_in = [Decimal(str(v)).quantize(Decimal('0.01')) for v in holiday_in_raw]\n",
    "\n",
    "for n in range(4):\n",
    "    print('平日（' + str(n+1) + '人）: ' + str(weekday[n]))\n",
    "    print('休日外出（' + str(n+1) + '人）: ' + str(holiday_out[n]))\n",
    "    print('休日在宅（' + str(n+1) + '人）: ' + str(holiday_in[n]))"
   ]
  },
  {
   "cell_type": "markdown",
   "metadata": {},
   "source": [
    "年間のスケジュールを読み込む。"
   ]
  },
  {
   "cell_type": "code",
   "execution_count": 8,
   "metadata": {},
   "outputs": [
    {
     "name": "stdout",
     "output_type": "stream",
     "text": [
      "['HI' 'W' 'W' 'W' 'W' 'W' 'HI' 'HO' 'W' 'W' 'W' 'W' 'W' 'HI' 'HI' 'W' 'W'\n",
      " 'W' 'W' 'W' 'HI' 'HO' 'W' 'W' 'W' 'W' 'W' 'HI' 'HI' 'W' 'W' 'W' 'W' 'W'\n",
      " 'HI' 'HO' 'W' 'W' 'W' 'W' 'W' 'HI' 'HI' 'W' 'W' 'W' 'W' 'W' 'HI' 'HO' 'W'\n",
      " 'W' 'W' 'W' 'W' 'HI' 'HI' 'W' 'W' 'W' 'W' 'W' 'HI' 'HO' 'W' 'W' 'W' 'W'\n",
      " 'W' 'HI' 'HI' 'W' 'W' 'W' 'W' 'W' 'HI' 'HO' 'W' 'HI' 'W' 'W' 'W' 'HI'\n",
      " 'HI' 'W' 'W' 'W' 'W' 'W' 'HI' 'HO' 'W' 'W' 'W' 'W' 'W' 'HI' 'HI' 'W' 'W'\n",
      " 'W' 'W' 'W' 'HI' 'HO' 'W' 'W' 'W' 'W' 'W' 'HI' 'HI' 'W' 'W' 'W' 'W' 'W'\n",
      " 'HI' 'HO' 'W' 'W' 'HO' 'HO' 'HI' 'HI' 'HI' 'W' 'W' 'W' 'W' 'W' 'HI' 'HO'\n",
      " 'W' 'W' 'W' 'W' 'W' 'HI' 'HI' 'W' 'W' 'W' 'W' 'W' 'HI' 'HO' 'W' 'W' 'W'\n",
      " 'W' 'W' 'HI' 'HI' 'W' 'W' 'W' 'W' 'W' 'HI' 'HO' 'W' 'W' 'W' 'W' 'W' 'HI'\n",
      " 'HI' 'W' 'W' 'W' 'W' 'W' 'HI' 'HO' 'W' 'W' 'W' 'W' 'W' 'HI' 'HI' 'W' 'W'\n",
      " 'W' 'W' 'W' 'HI' 'HO' 'W' 'W' 'W' 'W' 'W' 'HI' 'HI' 'W' 'W' 'W' 'HI' 'W'\n",
      " 'HI' 'HO' 'W' 'W' 'W' 'W' 'W' 'HI' 'HI' 'W' 'W' 'W' 'W' 'W' 'HI' 'HO' 'W'\n",
      " 'W' 'W' 'W' 'W' 'HI' 'HI' 'W' 'W' 'W' 'W' 'W' 'HI' 'HO' 'W' 'W' 'W' 'W'\n",
      " 'W' 'HI' 'HI' 'W' 'W' 'W' 'W' 'W' 'HI' 'HO' 'W' 'W' 'W' 'W' 'W' 'HI' 'HI'\n",
      " 'W' 'W' 'W' 'W' 'HO' 'HI' 'HO' 'W' 'W' 'W' 'W' 'W' 'HI' 'HI' 'W' 'W' 'W'\n",
      " 'W' 'W' 'HI' 'HO' 'W' 'W' 'W' 'W' 'W' 'HI' 'HI' 'W' 'HI' 'W' 'W' 'W' 'HI'\n",
      " 'HO' 'W' 'W' 'W' 'W' 'W' 'HI' 'HI' 'W' 'W' 'W' 'W' 'W' 'HI' 'HO' 'W' 'W'\n",
      " 'W' 'W' 'HI' 'HI' 'HI' 'W' 'W' 'W' 'W' 'W' 'HI' 'HO' 'W' 'W' 'W' 'W' 'W'\n",
      " 'HI' 'HI' 'W' 'W' 'W' 'HI' 'W' 'HI' 'HO' 'W' 'W' 'W' 'W' 'W' 'HI' 'HI'\n",
      " 'W' 'W' 'W' 'W' 'W' 'HI' 'HO' 'W' 'W' 'W' 'W' 'W' 'HI' 'HI' 'W' 'W' 'W'\n",
      " 'W' 'W' 'HI' 'HO' 'W' 'W' 'W' 'W' 'W' 'HO' 'HI']\n"
     ]
    }
   ],
   "source": [
    "vent_schedule = None\n",
    "with open('schedule.csv', encoding='utf8') as f:\n",
    "    reader = csv.reader(f, delimiter='\\t')\n",
    "    rows = [row for row in reader]\n",
    "    vent_schedule = [\n",
    "        {\n",
    "            '平日': 'W',\n",
    "            '休日外': 'HO',\n",
    "            '休日在': 'HI'\n",
    "        }[vs[2]] for vs in rows[1:366]\n",
    "    ]\n",
    "vent_schedule = np.array(vent_schedule)\n",
    "print(vent_schedule)"
   ]
  },
  {
   "cell_type": "markdown",
   "metadata": {},
   "source": [
    "日付dの時間tにおける局所換気の消費電力を整理する。"
   ]
  },
  {
   "cell_type": "code",
   "execution_count": 9,
   "metadata": {},
   "outputs": [],
   "source": [
    "e_e_vl_1_d_t = np.zeros(shape=365, dtype=float)\n",
    "e_e_vl_2_d_t = np.zeros(shape=365, dtype=float)\n",
    "e_e_vl_3_d_t = np.zeros(shape=365, dtype=float)\n",
    "e_e_vl_4_d_t = np.zeros(shape=365, dtype=float)\n",
    "\n",
    "e_e_vl_1_d_t[vent_schedule=='W'] = weekday[0]\n",
    "e_e_vl_1_d_t[vent_schedule=='HI'] = holiday_in[0]\n",
    "e_e_vl_1_d_t[vent_schedule=='HO'] = holiday_out[0]\n",
    "\n",
    "e_e_vl_2_d_t[vent_schedule=='W'] = weekday[1]\n",
    "e_e_vl_2_d_t[vent_schedule=='HI'] = holiday_in[1]\n",
    "e_e_vl_2_d_t[vent_schedule=='HO'] = holiday_out[1]\n",
    "\n",
    "e_e_vl_3_d_t[vent_schedule=='W'] = weekday[2]\n",
    "e_e_vl_3_d_t[vent_schedule=='HI'] = holiday_in[2]\n",
    "e_e_vl_3_d_t[vent_schedule=='HO'] = holiday_out[2]\n",
    "\n",
    "e_e_vl_4_d_t[vent_schedule=='W'] = weekday[3]\n",
    "e_e_vl_4_d_t[vent_schedule=='HI'] = holiday_in[3]\n",
    "e_e_vl_4_d_t[vent_schedule=='HO'] = holiday_out[3]"
   ]
  },
  {
   "cell_type": "markdown",
   "metadata": {},
   "source": [
    "月ごとに積算する。"
   ]
  },
  {
   "cell_type": "code",
   "execution_count": 10,
   "metadata": {},
   "outputs": [],
   "source": [
    "e_e_vl_1_m = [np.around(e_e_vl_1_d_t[d_s: d_e].sum(), 2) for (d_s, d_e) in zip(d_str, d_end)]\n",
    "e_e_vl_2_m = [np.around(e_e_vl_2_d_t[d_s: d_e].sum(), 2) for (d_s, d_e) in zip(d_str, d_end)]\n",
    "e_e_vl_3_m = [np.around(e_e_vl_3_d_t[d_s: d_e].sum(), 2) for (d_s, d_e) in zip(d_str, d_end)]\n",
    "e_e_vl_4_m = [np.around(e_e_vl_4_d_t[d_s: d_e].sum(), 2) for (d_s, d_e) in zip(d_str, d_end)]"
   ]
  },
  {
   "cell_type": "code",
   "execution_count": 11,
   "metadata": {},
   "outputs": [
    {
     "name": "stdout",
     "output_type": "stream",
     "text": [
      "0月 1人=1136.17, 2人=2269.99, 3人=3406.83, 4人=4539.72\n",
      "1月 1人=1021.96, 2人=2041.78, 3人=3064.34, 4人=4083.32\n",
      "2月 1人=1136.17, 2人=2269.99, 3人=3406.83, 4人=4539.72\n",
      "3月 1人=1082.88, 2人=2163.39, 3人=3246.91, 4人=4326.52\n",
      "4月 1人=1103.47, 2人=2204.41, 3人=3308.53, 4人=4408.54\n",
      "5月 1人=1095.84, 2人=2189.4, 3人=3285.88, 4人=4378.54\n",
      "6月 1人=1142.95, 2人=2283.55, 3人=3427.19, 4人=4566.86\n",
      "7月 1人=1132.78, 2人=2263.21, 3人=3396.65, 4人=4526.15\n",
      "8月 1人=1082.88, 2人=2163.39, 3人=3246.91, 4人=4326.52\n",
      "9月 1人=1119.82, 2人=2237.2, 3人=3357.68, 4人=4474.13\n",
      "10月 1人=1102.62, 2人=2202.96, 3人=3306.24, 4人=4405.68\n",
      "11月 1人=1119.82, 2人=2237.2, 3人=3357.68, 4人=4474.13\n"
     ]
    }
   ],
   "source": [
    "for m in range(12):\n",
    "    print(str(m) + '月 1人=' + str(e_e_vl_1_m[m]) + ', 2人=' + str(e_e_vl_2_m[m]) + ', 3人=' + str(e_e_vl_3_m[m]) + ', 4人=' + str(e_e_vl_4_m[m]))"
   ]
  },
  {
   "cell_type": "code",
   "execution_count": 12,
   "metadata": {},
   "outputs": [
    {
     "data": {
      "text/plain": [
       "array([[1136.17, 2269.99, 3406.83, 4539.72],\n",
       "       [1021.96, 2041.78, 3064.34, 4083.32],\n",
       "       [1136.17, 2269.99, 3406.83, 4539.72],\n",
       "       [1082.88, 2163.39, 3246.91, 4326.52],\n",
       "       [1103.47, 2204.41, 3308.53, 4408.54],\n",
       "       [1095.84, 2189.4 , 3285.88, 4378.54],\n",
       "       [1142.95, 2283.55, 3427.19, 4566.86],\n",
       "       [1132.78, 2263.21, 3396.65, 4526.15],\n",
       "       [1082.88, 2163.39, 3246.91, 4326.52],\n",
       "       [1119.82, 2237.2 , 3357.68, 4474.13],\n",
       "       [1102.62, 2202.96, 3306.24, 4405.68],\n",
       "       [1119.82, 2237.2 , 3357.68, 4474.13]])"
      ]
     },
     "execution_count": 12,
     "metadata": {},
     "output_type": "execute_result"
    }
   ],
   "source": [
    "e_e_vl_m = np.array([e_e_vl_1_m, e_e_vl_2_m, e_e_vl_3_m, e_e_vl_4_m]).T\n",
    "e_e_vl_m"
   ]
  },
  {
   "cell_type": "markdown",
   "metadata": {},
   "source": [
    "係数 $\\alpha$\n",
    "\n",
    "MJ/m2"
   ]
  },
  {
   "cell_type": "code",
   "execution_count": 13,
   "metadata": {},
   "outputs": [
    {
     "data": {
      "text/plain": [
       "array([2.87553024, 2.59725312, 2.87553024, 2.7827712 , 2.87553024,\n",
       "       2.7827712 , 2.87553024, 2.87553024, 2.7827712 , 2.87553024,\n",
       "       2.7827712 , 2.87553024])"
      ]
     },
     "execution_count": 13,
     "metadata": {},
     "output_type": "execute_result"
    }
   ],
   "source": [
    "alpha = coeff_v_g * f_prim * 0.001\n",
    "alpha"
   ]
  },
  {
   "cell_type": "markdown",
   "metadata": {},
   "source": [
    "係数 $\\beta$\n",
    "\n",
    "MJ"
   ]
  },
  {
   "cell_type": "code",
   "execution_count": 14,
   "metadata": {},
   "outputs": [
    {
     "data": {
      "text/plain": [
       "array([[11.0890192, 22.1551024, 33.2506608, 44.3076672],\n",
       "       [ 9.9743296, 19.9277728, 29.9079584, 39.8532032],\n",
       "       [11.0890192, 22.1551024, 33.2506608, 44.3076672],\n",
       "       [10.5689088, 21.1146864, 31.6898416, 42.2268352],\n",
       "       [10.7698672, 21.5150416, 32.2912528, 43.0273504],\n",
       "       [10.6953984, 21.368544 , 32.0701888, 42.7345504],\n",
       "       [11.155192 , 22.287448 , 33.4493744, 44.5725536],\n",
       "       [11.0559328, 22.0889296, 33.151304 , 44.175224 ],\n",
       "       [10.5689088, 21.1146864, 31.6898416, 42.2268352],\n",
       "       [10.9294432, 21.835072 , 32.7709568, 43.6675088],\n",
       "       [10.7615712, 21.5008896, 32.2689024, 42.9994368],\n",
       "       [10.9294432, 21.835072 , 32.7709568, 43.6675088]])"
      ]
     },
     "execution_count": 14,
     "metadata": {},
     "output_type": "execute_result"
    }
   ],
   "source": [
    "beta = e_e_vl_m * 0.001 * f_prim * 0.001\n",
    "beta"
   ]
  },
  {
   "cell_type": "code",
   "execution_count": 15,
   "metadata": {},
   "outputs": [],
   "source": [
    "with pd.ExcelWriter('vent_table.xlsx') as writer:\n",
    "    pd.DataFrame(\n",
    "        coeff_v_g,\n",
    "        index=['1月','2月','3月','4月','5月','6月','7月','8月','9月','10月','11月','12月'],\n",
    "        columns=['月別の係数, kWh/m2']\n",
    "    ).to_excel(writer, sheet_name='table_1')\n",
    "    pd.DataFrame(\n",
    "        [weekday, holiday_out, holiday_in],\n",
    "        index=['平日', '休日外出', '休日在宅'],\n",
    "        columns=['1人','2人','3人','4人']\n",
    "    ).to_excel(writer, sheet_name='table_2')\n",
    "    pd.DataFrame(\n",
    "        e_e_vl_m,\n",
    "        index=['1月','2月','3月','4月','5月','6月','7月','8月','9月','10月','11月','12月'],\n",
    "        columns=['1人','2人','3人','4人']\n",
    "    ).T.to_excel(writer, sheet_name='table_3')\n",
    "    pd.DataFrame(\n",
    "        alpha,\n",
    "        index=['1月','2月','3月','4月','5月','6月','7月','8月','9月','10月','11月','12月'],\n",
    "        columns=['係数alpha, MJ/m2']\n",
    "    ).to_excel(writer, sheet_name='table_4')\n",
    "    pd.DataFrame(\n",
    "        beta,\n",
    "        index=['1月','2月','3月','4月','5月','6月','7月','8月','9月','10月','11月','12月'],\n",
    "        columns=['1人','2人','3人','4人']\n",
    "    ).to_excel(writer, sheet_name='table_5')\n",
    "\n"
   ]
  },
  {
   "cell_type": "code",
   "execution_count": null,
   "metadata": {},
   "outputs": [],
   "source": []
  }
 ],
 "metadata": {
  "kernelspec": {
   "display_name": "Python 3.9.12 ('base')",
   "language": "python",
   "name": "python3"
  },
  "language_info": {
   "codemirror_mode": {
    "name": "ipython",
    "version": 3
   },
   "file_extension": ".py",
   "mimetype": "text/x-python",
   "name": "python",
   "nbconvert_exporter": "python",
   "pygments_lexer": "ipython3",
   "version": "3.9.12 (main, Apr  4 2022, 05:22:27) [MSC v.1916 64 bit (AMD64)]"
  },
  "orig_nbformat": 4,
  "vscode": {
   "interpreter": {
    "hash": "5dbc05a467610a7a84f5bc3bbdadbd2f946f904af75a8cc4fe6969443e40c877"
   }
  }
 },
 "nbformat": 4,
 "nbformat_minor": 2
}
