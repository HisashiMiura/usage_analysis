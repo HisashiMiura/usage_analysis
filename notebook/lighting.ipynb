{
 "cells": [
  {
   "cell_type": "code",
   "execution_count": 1,
   "metadata": {},
   "outputs": [],
   "source": [
    "import csv\n",
    "from decimal import Decimal\n",
    "import numpy as np\n",
    "import pandas as pd"
   ]
  },
  {
   "cell_type": "markdown",
   "metadata": {},
   "source": [
    "## 日積算点灯時間の計算"
   ]
  },
  {
   "cell_type": "markdown",
   "metadata": {},
   "source": [
    "スケジュール・居室人数別の点灯時間を読み込む  \n",
    "3人スケジュールについては2人スケジュールと4人スケジュールを按分する"
   ]
  },
  {
   "cell_type": "code",
   "execution_count": 2,
   "metadata": {},
   "outputs": [],
   "source": [
    "sheets = pd.read_excel('lighting_time_ratio.xlsx', sheet_name=None, index_col=0)\n",
    "d_w_4 = np.array(sheets['平日4人'].sum())\n",
    "d_hi_4 = np.array(sheets['休日在宅4人'].sum())\n",
    "d_ho_4 = np.array(sheets['休日外出4人'].sum())\n",
    "d_w_2 = np.array(sheets['平日2人'].sum())\n",
    "d_hi_2 = np.array(sheets['休日在宅2人'].sum())\n",
    "d_ho_2 = np.array(sheets['休日外出2人'].sum())\n",
    "d_w_1 = np.array(sheets['平日1人'].sum())\n",
    "d_hi_1 = np.array(sheets['休日在宅1人'].sum())\n",
    "d_ho_1 = np.array(sheets['休日外出1人'].sum())\n",
    "\n",
    "d_w_3 = (d_w_4 + d_w_2) / 2\n",
    "d_hi_3 = (d_hi_4 + d_hi_2) / 2\n",
    "d_ho_3 = (d_ho_4 + d_ho_2) / 2"
   ]
  },
  {
   "cell_type": "markdown",
   "metadata": {},
   "source": [
    "日積算点灯時間の書き出し"
   ]
  },
  {
   "cell_type": "code",
   "execution_count": 3,
   "metadata": {},
   "outputs": [
    {
     "data": {
      "text/html": [
       "<div>\n",
       "<style scoped>\n",
       "    .dataframe tbody tr th:only-of-type {\n",
       "        vertical-align: middle;\n",
       "    }\n",
       "\n",
       "    .dataframe tbody tr th {\n",
       "        vertical-align: top;\n",
       "    }\n",
       "\n",
       "    .dataframe thead th {\n",
       "        text-align: right;\n",
       "    }\n",
       "</style>\n",
       "<table border=\"1\" class=\"dataframe\">\n",
       "  <thead>\n",
       "    <tr style=\"text-align: right;\">\n",
       "      <th></th>\n",
       "      <th>平日4人</th>\n",
       "      <th>休日在宅4人</th>\n",
       "      <th>休日外出4人</th>\n",
       "      <th>平日3人</th>\n",
       "      <th>休日在宅3人</th>\n",
       "      <th>休日外出3人</th>\n",
       "      <th>平日2人</th>\n",
       "      <th>休日在宅2人</th>\n",
       "      <th>休日外出2人</th>\n",
       "      <th>平日1人</th>\n",
       "      <th>休日在宅1人</th>\n",
       "      <th>休日外出1人</th>\n",
       "    </tr>\n",
       "  </thead>\n",
       "  <tbody>\n",
       "    <tr>\n",
       "      <th>1</th>\n",
       "      <td>9.75</td>\n",
       "      <td>10.50</td>\n",
       "      <td>4.75</td>\n",
       "      <td>8.500</td>\n",
       "      <td>9.875</td>\n",
       "      <td>4.375</td>\n",
       "      <td>7.25</td>\n",
       "      <td>9.25</td>\n",
       "      <td>4.00</td>\n",
       "      <td>2.50</td>\n",
       "      <td>8.50</td>\n",
       "      <td>2.75</td>\n",
       "    </tr>\n",
       "    <tr>\n",
       "      <th>2</th>\n",
       "      <td>2.00</td>\n",
       "      <td>2.25</td>\n",
       "      <td>0.25</td>\n",
       "      <td>2.125</td>\n",
       "      <td>2.125</td>\n",
       "      <td>0.375</td>\n",
       "      <td>2.25</td>\n",
       "      <td>2.00</td>\n",
       "      <td>0.50</td>\n",
       "      <td>0.75</td>\n",
       "      <td>1.75</td>\n",
       "      <td>0.50</td>\n",
       "    </tr>\n",
       "    <tr>\n",
       "      <th>3</th>\n",
       "      <td>3.25</td>\n",
       "      <td>3.00</td>\n",
       "      <td>0.75</td>\n",
       "      <td>2.750</td>\n",
       "      <td>2.750</td>\n",
       "      <td>0.750</td>\n",
       "      <td>2.25</td>\n",
       "      <td>2.50</td>\n",
       "      <td>0.75</td>\n",
       "      <td>0.25</td>\n",
       "      <td>1.75</td>\n",
       "      <td>0.75</td>\n",
       "    </tr>\n",
       "    <tr>\n",
       "      <th>4</th>\n",
       "      <td>0.25</td>\n",
       "      <td>0.25</td>\n",
       "      <td>0.00</td>\n",
       "      <td>0.125</td>\n",
       "      <td>0.125</td>\n",
       "      <td>0.000</td>\n",
       "      <td>0.00</td>\n",
       "      <td>0.00</td>\n",
       "      <td>0.00</td>\n",
       "      <td>0.00</td>\n",
       "      <td>0.00</td>\n",
       "      <td>0.00</td>\n",
       "    </tr>\n",
       "    <tr>\n",
       "      <th>5</th>\n",
       "      <td>0.75</td>\n",
       "      <td>1.25</td>\n",
       "      <td>1.00</td>\n",
       "      <td>1.000</td>\n",
       "      <td>1.125</td>\n",
       "      <td>1.000</td>\n",
       "      <td>1.25</td>\n",
       "      <td>1.00</td>\n",
       "      <td>1.00</td>\n",
       "      <td>0.50</td>\n",
       "      <td>0.75</td>\n",
       "      <td>0.75</td>\n",
       "    </tr>\n",
       "    <tr>\n",
       "      <th>6</th>\n",
       "      <td>3.50</td>\n",
       "      <td>7.75</td>\n",
       "      <td>1.50</td>\n",
       "      <td>1.750</td>\n",
       "      <td>3.875</td>\n",
       "      <td>0.750</td>\n",
       "      <td>0.00</td>\n",
       "      <td>0.00</td>\n",
       "      <td>0.00</td>\n",
       "      <td>0.00</td>\n",
       "      <td>0.00</td>\n",
       "      <td>0.00</td>\n",
       "    </tr>\n",
       "    <tr>\n",
       "      <th>7</th>\n",
       "      <td>3.50</td>\n",
       "      <td>7.00</td>\n",
       "      <td>2.25</td>\n",
       "      <td>1.750</td>\n",
       "      <td>3.500</td>\n",
       "      <td>1.125</td>\n",
       "      <td>0.00</td>\n",
       "      <td>0.00</td>\n",
       "      <td>0.00</td>\n",
       "      <td>0.00</td>\n",
       "      <td>0.00</td>\n",
       "      <td>0.00</td>\n",
       "    </tr>\n",
       "    <tr>\n",
       "      <th>8</th>\n",
       "      <td>2.75</td>\n",
       "      <td>3.25</td>\n",
       "      <td>2.00</td>\n",
       "      <td>2.625</td>\n",
       "      <td>2.750</td>\n",
       "      <td>2.250</td>\n",
       "      <td>2.50</td>\n",
       "      <td>2.25</td>\n",
       "      <td>2.50</td>\n",
       "      <td>0.75</td>\n",
       "      <td>1.50</td>\n",
       "      <td>1.50</td>\n",
       "    </tr>\n",
       "    <tr>\n",
       "      <th>9</th>\n",
       "      <td>1.75</td>\n",
       "      <td>2.25</td>\n",
       "      <td>1.75</td>\n",
       "      <td>1.375</td>\n",
       "      <td>1.625</td>\n",
       "      <td>1.375</td>\n",
       "      <td>1.00</td>\n",
       "      <td>1.00</td>\n",
       "      <td>1.00</td>\n",
       "      <td>0.25</td>\n",
       "      <td>0.50</td>\n",
       "      <td>0.50</td>\n",
       "    </tr>\n",
       "    <tr>\n",
       "      <th>10</th>\n",
       "      <td>2.75</td>\n",
       "      <td>2.25</td>\n",
       "      <td>1.75</td>\n",
       "      <td>2.125</td>\n",
       "      <td>1.875</td>\n",
       "      <td>1.625</td>\n",
       "      <td>1.50</td>\n",
       "      <td>1.50</td>\n",
       "      <td>1.50</td>\n",
       "      <td>0.50</td>\n",
       "      <td>1.00</td>\n",
       "      <td>1.00</td>\n",
       "    </tr>\n",
       "    <tr>\n",
       "      <th>11</th>\n",
       "      <td>2.75</td>\n",
       "      <td>1.50</td>\n",
       "      <td>0.50</td>\n",
       "      <td>2.250</td>\n",
       "      <td>1.125</td>\n",
       "      <td>0.625</td>\n",
       "      <td>1.75</td>\n",
       "      <td>0.75</td>\n",
       "      <td>0.75</td>\n",
       "      <td>0.50</td>\n",
       "      <td>0.75</td>\n",
       "      <td>0.75</td>\n",
       "    </tr>\n",
       "    <tr>\n",
       "      <th>12</th>\n",
       "      <td>4.25</td>\n",
       "      <td>5.00</td>\n",
       "      <td>3.25</td>\n",
       "      <td>3.375</td>\n",
       "      <td>3.750</td>\n",
       "      <td>3.000</td>\n",
       "      <td>2.50</td>\n",
       "      <td>2.50</td>\n",
       "      <td>2.75</td>\n",
       "      <td>0.75</td>\n",
       "      <td>1.75</td>\n",
       "      <td>1.75</td>\n",
       "    </tr>\n",
       "    <tr>\n",
       "      <th>13</th>\n",
       "      <td>0.25</td>\n",
       "      <td>0.25</td>\n",
       "      <td>0.00</td>\n",
       "      <td>0.125</td>\n",
       "      <td>0.125</td>\n",
       "      <td>0.000</td>\n",
       "      <td>0.00</td>\n",
       "      <td>0.00</td>\n",
       "      <td>0.00</td>\n",
       "      <td>0.00</td>\n",
       "      <td>0.00</td>\n",
       "      <td>0.00</td>\n",
       "    </tr>\n",
       "    <tr>\n",
       "      <th>14</th>\n",
       "      <td>1.50</td>\n",
       "      <td>4.25</td>\n",
       "      <td>2.00</td>\n",
       "      <td>1.375</td>\n",
       "      <td>2.625</td>\n",
       "      <td>1.500</td>\n",
       "      <td>1.25</td>\n",
       "      <td>1.00</td>\n",
       "      <td>1.00</td>\n",
       "      <td>0.50</td>\n",
       "      <td>0.75</td>\n",
       "      <td>0.75</td>\n",
       "    </tr>\n",
       "    <tr>\n",
       "      <th>15</th>\n",
       "      <td>0.75</td>\n",
       "      <td>0.50</td>\n",
       "      <td>0.25</td>\n",
       "      <td>0.375</td>\n",
       "      <td>0.250</td>\n",
       "      <td>0.125</td>\n",
       "      <td>0.00</td>\n",
       "      <td>0.00</td>\n",
       "      <td>0.00</td>\n",
       "      <td>0.00</td>\n",
       "      <td>0.00</td>\n",
       "      <td>0.00</td>\n",
       "    </tr>\n",
       "    <tr>\n",
       "      <th>16</th>\n",
       "      <td>0.75</td>\n",
       "      <td>0.50</td>\n",
       "      <td>0.25</td>\n",
       "      <td>0.375</td>\n",
       "      <td>0.250</td>\n",
       "      <td>0.125</td>\n",
       "      <td>0.00</td>\n",
       "      <td>0.00</td>\n",
       "      <td>0.00</td>\n",
       "      <td>0.00</td>\n",
       "      <td>0.00</td>\n",
       "      <td>0.00</td>\n",
       "    </tr>\n",
       "    <tr>\n",
       "      <th>17</th>\n",
       "      <td>1.75</td>\n",
       "      <td>4.25</td>\n",
       "      <td>2.25</td>\n",
       "      <td>1.500</td>\n",
       "      <td>2.625</td>\n",
       "      <td>1.625</td>\n",
       "      <td>1.25</td>\n",
       "      <td>1.00</td>\n",
       "      <td>1.00</td>\n",
       "      <td>0.50</td>\n",
       "      <td>0.75</td>\n",
       "      <td>0.75</td>\n",
       "    </tr>\n",
       "    <tr>\n",
       "      <th>18</th>\n",
       "      <td>0.50</td>\n",
       "      <td>0.75</td>\n",
       "      <td>0.50</td>\n",
       "      <td>0.625</td>\n",
       "      <td>0.750</td>\n",
       "      <td>0.625</td>\n",
       "      <td>0.75</td>\n",
       "      <td>0.75</td>\n",
       "      <td>0.75</td>\n",
       "      <td>0.25</td>\n",
       "      <td>0.50</td>\n",
       "      <td>0.50</td>\n",
       "    </tr>\n",
       "    <tr>\n",
       "      <th>19</th>\n",
       "      <td>0.75</td>\n",
       "      <td>0.25</td>\n",
       "      <td>0.25</td>\n",
       "      <td>0.500</td>\n",
       "      <td>0.250</td>\n",
       "      <td>0.250</td>\n",
       "      <td>0.25</td>\n",
       "      <td>0.25</td>\n",
       "      <td>0.25</td>\n",
       "      <td>0.25</td>\n",
       "      <td>0.00</td>\n",
       "      <td>0.25</td>\n",
       "    </tr>\n",
       "  </tbody>\n",
       "</table>\n",
       "</div>"
      ],
      "text/plain": [
       "    平日4人  休日在宅4人  休日外出4人   平日3人  休日在宅3人  休日外出3人  平日2人  休日在宅2人  休日外出2人  平日1人  \\\n",
       "1   9.75   10.50    4.75  8.500   9.875   4.375  7.25    9.25    4.00  2.50   \n",
       "2   2.00    2.25    0.25  2.125   2.125   0.375  2.25    2.00    0.50  0.75   \n",
       "3   3.25    3.00    0.75  2.750   2.750   0.750  2.25    2.50    0.75  0.25   \n",
       "4   0.25    0.25    0.00  0.125   0.125   0.000  0.00    0.00    0.00  0.00   \n",
       "5   0.75    1.25    1.00  1.000   1.125   1.000  1.25    1.00    1.00  0.50   \n",
       "6   3.50    7.75    1.50  1.750   3.875   0.750  0.00    0.00    0.00  0.00   \n",
       "7   3.50    7.00    2.25  1.750   3.500   1.125  0.00    0.00    0.00  0.00   \n",
       "8   2.75    3.25    2.00  2.625   2.750   2.250  2.50    2.25    2.50  0.75   \n",
       "9   1.75    2.25    1.75  1.375   1.625   1.375  1.00    1.00    1.00  0.25   \n",
       "10  2.75    2.25    1.75  2.125   1.875   1.625  1.50    1.50    1.50  0.50   \n",
       "11  2.75    1.50    0.50  2.250   1.125   0.625  1.75    0.75    0.75  0.50   \n",
       "12  4.25    5.00    3.25  3.375   3.750   3.000  2.50    2.50    2.75  0.75   \n",
       "13  0.25    0.25    0.00  0.125   0.125   0.000  0.00    0.00    0.00  0.00   \n",
       "14  1.50    4.25    2.00  1.375   2.625   1.500  1.25    1.00    1.00  0.50   \n",
       "15  0.75    0.50    0.25  0.375   0.250   0.125  0.00    0.00    0.00  0.00   \n",
       "16  0.75    0.50    0.25  0.375   0.250   0.125  0.00    0.00    0.00  0.00   \n",
       "17  1.75    4.25    2.25  1.500   2.625   1.625  1.25    1.00    1.00  0.50   \n",
       "18  0.50    0.75    0.50  0.625   0.750   0.625  0.75    0.75    0.75  0.25   \n",
       "19  0.75    0.25    0.25  0.500   0.250   0.250  0.25    0.25    0.25  0.25   \n",
       "\n",
       "    休日在宅1人  休日外出1人  \n",
       "1     8.50    2.75  \n",
       "2     1.75    0.50  \n",
       "3     1.75    0.75  \n",
       "4     0.00    0.00  \n",
       "5     0.75    0.75  \n",
       "6     0.00    0.00  \n",
       "7     0.00    0.00  \n",
       "8     1.50    1.50  \n",
       "9     0.50    0.50  \n",
       "10    1.00    1.00  \n",
       "11    0.75    0.75  \n",
       "12    1.75    1.75  \n",
       "13    0.00    0.00  \n",
       "14    0.75    0.75  \n",
       "15    0.00    0.00  \n",
       "16    0.00    0.00  \n",
       "17    0.75    0.75  \n",
       "18    0.50    0.50  \n",
       "19    0.00    0.25  "
      ]
     },
     "execution_count": 3,
     "metadata": {},
     "output_type": "execute_result"
    }
   ],
   "source": [
    "d_daily = pd.DataFrame(\n",
    "    data=[d_w_4, d_hi_4, d_ho_4, d_w_3, d_hi_3, d_ho_3, d_w_2, d_hi_2, d_ho_2, d_w_1, d_hi_1, d_ho_1],\n",
    "    index=['平日4人', '休日在宅4人', '休日外出4人', '平日3人', '休日在宅3人', '休日外出3人', '平日2人', '休日在宅2人', '休日外出2人', '平日1人', '休日在宅1人', '休日外出1人'],\n",
    "    columns=['1', '2', '3', '4', '5','6', '7', '8', '9', '10', '11', '12', '13', '14', '15', '16', '17', '18', '19']\n",
    ").T\n",
    "d_daily"
   ]
  },
  {
   "cell_type": "markdown",
   "metadata": {},
   "source": [
    "## 年間点灯時間の計算"
   ]
  },
  {
   "cell_type": "markdown",
   "metadata": {},
   "source": [
    "年間スケジュールの読み込み"
   ]
  },
  {
   "cell_type": "code",
   "execution_count": 4,
   "metadata": {},
   "outputs": [
    {
     "name": "stdout",
     "output_type": "stream",
     "text": [
      "['HI' 'W' 'W' 'W' 'W' 'W' 'HI' 'HO' 'W' 'W' 'W' 'W' 'W' 'HI' 'HI' 'W' 'W'\n",
      " 'W' 'W' 'W' 'HI' 'HO' 'W' 'W' 'W' 'W' 'W' 'HI' 'HI' 'W' 'W' 'W' 'W' 'W'\n",
      " 'HI' 'HO' 'W' 'W' 'W' 'W' 'W' 'HI' 'HI' 'W' 'W' 'W' 'W' 'W' 'HI' 'HO' 'W'\n",
      " 'W' 'W' 'W' 'W' 'HI' 'HI' 'W' 'W' 'W' 'W' 'W' 'HI' 'HO' 'W' 'W' 'W' 'W'\n",
      " 'W' 'HI' 'HI' 'W' 'W' 'W' 'W' 'W' 'HI' 'HO' 'W' 'HI' 'W' 'W' 'W' 'HI'\n",
      " 'HI' 'W' 'W' 'W' 'W' 'W' 'HI' 'HO' 'W' 'W' 'W' 'W' 'W' 'HI' 'HI' 'W' 'W'\n",
      " 'W' 'W' 'W' 'HI' 'HO' 'W' 'W' 'W' 'W' 'W' 'HI' 'HI' 'W' 'W' 'W' 'W' 'W'\n",
      " 'HI' 'HO' 'W' 'W' 'HO' 'HO' 'HI' 'HI' 'HI' 'W' 'W' 'W' 'W' 'W' 'HI' 'HO'\n",
      " 'W' 'W' 'W' 'W' 'W' 'HI' 'HI' 'W' 'W' 'W' 'W' 'W' 'HI' 'HO' 'W' 'W' 'W'\n",
      " 'W' 'W' 'HI' 'HI' 'W' 'W' 'W' 'W' 'W' 'HI' 'HO' 'W' 'W' 'W' 'W' 'W' 'HI'\n",
      " 'HI' 'W' 'W' 'W' 'W' 'W' 'HI' 'HO' 'W' 'W' 'W' 'W' 'W' 'HI' 'HI' 'W' 'W'\n",
      " 'W' 'W' 'W' 'HI' 'HO' 'W' 'W' 'W' 'W' 'W' 'HI' 'HI' 'W' 'W' 'W' 'HI' 'W'\n",
      " 'HI' 'HO' 'W' 'W' 'W' 'W' 'W' 'HI' 'HI' 'W' 'W' 'W' 'W' 'W' 'HI' 'HO' 'W'\n",
      " 'W' 'W' 'W' 'W' 'HI' 'HI' 'W' 'W' 'W' 'W' 'W' 'HI' 'HO' 'W' 'W' 'W' 'W'\n",
      " 'W' 'HI' 'HI' 'W' 'W' 'W' 'W' 'W' 'HI' 'HO' 'W' 'W' 'W' 'W' 'W' 'HI' 'HI'\n",
      " 'W' 'W' 'W' 'W' 'HO' 'HI' 'HO' 'W' 'W' 'W' 'W' 'W' 'HI' 'HI' 'W' 'W' 'W'\n",
      " 'W' 'W' 'HI' 'HO' 'W' 'W' 'W' 'W' 'W' 'HI' 'HI' 'W' 'HI' 'W' 'W' 'W' 'HI'\n",
      " 'HO' 'W' 'W' 'W' 'W' 'W' 'HI' 'HI' 'W' 'W' 'W' 'W' 'W' 'HI' 'HO' 'W' 'W'\n",
      " 'W' 'W' 'HI' 'HI' 'HI' 'W' 'W' 'W' 'W' 'W' 'HI' 'HO' 'W' 'W' 'W' 'W' 'W'\n",
      " 'HI' 'HI' 'W' 'W' 'W' 'HI' 'W' 'HI' 'HO' 'W' 'W' 'W' 'W' 'W' 'HI' 'HI'\n",
      " 'W' 'W' 'W' 'W' 'W' 'HI' 'HO' 'W' 'W' 'W' 'W' 'W' 'HI' 'HI' 'W' 'W' 'W'\n",
      " 'W' 'W' 'HI' 'HO' 'W' 'W' 'W' 'W' 'W' 'HO' 'HI']\n"
     ]
    }
   ],
   "source": [
    "vent_schedule = None\n",
    "with open('schedule.csv', encoding='utf8') as f:\n",
    "    reader = csv.reader(f, delimiter='\\t')\n",
    "    rows = [row for row in reader]\n",
    "    vent_schedule = [\n",
    "        {\n",
    "            '平日': 'W',\n",
    "            '休日外': 'HO',\n",
    "            '休日在': 'HI'\n",
    "        }[row[4]] for row in rows[1:366]\n",
    "    ]\n",
    "vent_schedule = np.array(vent_schedule)\n",
    "print(vent_schedule)"
   ]
  },
  {
   "cell_type": "markdown",
   "metadata": {},
   "source": [
    "室・居住人数ごとに日積算点灯時間を反映する。"
   ]
  },
  {
   "cell_type": "code",
   "execution_count": 5,
   "metadata": {},
   "outputs": [
    {
     "data": {
      "text/plain": [
       "{'1人': array([[8.5 , 1.75, 1.75, ..., 0.75, 0.5 , 0.  ],\n",
       "        [2.5 , 0.75, 0.25, ..., 0.5 , 0.25, 0.25],\n",
       "        [2.5 , 0.75, 0.25, ..., 0.5 , 0.25, 0.25],\n",
       "        ...,\n",
       "        [2.5 , 0.75, 0.25, ..., 0.5 , 0.25, 0.25],\n",
       "        [2.75, 0.5 , 0.75, ..., 0.75, 0.5 , 0.25],\n",
       "        [8.5 , 1.75, 1.75, ..., 0.75, 0.5 , 0.  ]]),\n",
       " '2人': array([[9.25, 2.  , 2.5 , ..., 1.  , 0.75, 0.25],\n",
       "        [7.25, 2.25, 2.25, ..., 1.25, 0.75, 0.25],\n",
       "        [7.25, 2.25, 2.25, ..., 1.25, 0.75, 0.25],\n",
       "        ...,\n",
       "        [7.25, 2.25, 2.25, ..., 1.25, 0.75, 0.25],\n",
       "        [4.  , 0.5 , 0.75, ..., 1.  , 0.75, 0.25],\n",
       "        [9.25, 2.  , 2.5 , ..., 1.  , 0.75, 0.25]]),\n",
       " '3人': array([[9.875, 2.125, 2.75 , ..., 2.625, 0.75 , 0.25 ],\n",
       "        [8.5  , 2.125, 2.75 , ..., 1.5  , 0.625, 0.5  ],\n",
       "        [8.5  , 2.125, 2.75 , ..., 1.5  , 0.625, 0.5  ],\n",
       "        ...,\n",
       "        [8.5  , 2.125, 2.75 , ..., 1.5  , 0.625, 0.5  ],\n",
       "        [4.375, 0.375, 0.75 , ..., 1.625, 0.625, 0.25 ],\n",
       "        [9.875, 2.125, 2.75 , ..., 2.625, 0.75 , 0.25 ]]),\n",
       " '4人': array([[10.5 ,  2.25,  3.  , ...,  4.25,  0.75,  0.25],\n",
       "        [ 9.75,  2.  ,  3.25, ...,  1.75,  0.5 ,  0.75],\n",
       "        [ 9.75,  2.  ,  3.25, ...,  1.75,  0.5 ,  0.75],\n",
       "        ...,\n",
       "        [ 9.75,  2.  ,  3.25, ...,  1.75,  0.5 ,  0.75],\n",
       "        [ 4.75,  0.25,  0.75, ...,  2.25,  0.5 ,  0.25],\n",
       "        [10.5 ,  2.25,  3.  , ...,  4.25,  0.75,  0.25]])}"
      ]
     },
     "execution_count": 5,
     "metadata": {},
     "output_type": "execute_result"
    }
   ],
   "source": [
    "t_i_1_d = np.zeros(shape=(365, 19), dtype=float)\n",
    "t_i_2_d = np.zeros(shape=(365, 19), dtype=float)\n",
    "t_i_3_d = np.zeros(shape=(365, 19), dtype=float)\n",
    "t_i_4_d = np.zeros(shape=(365, 19), dtype=float)\n",
    "\n",
    "t_i_1_d[vent_schedule=='W', :] = d_w_1\n",
    "t_i_1_d[vent_schedule=='HI', :] = d_hi_1\n",
    "t_i_1_d[vent_schedule=='HO', :] = d_ho_1\n",
    "\n",
    "t_i_2_d[vent_schedule=='W', :] = d_w_2\n",
    "t_i_2_d[vent_schedule=='HI', :] = d_hi_2\n",
    "t_i_2_d[vent_schedule=='HO', :] = d_ho_2\n",
    "\n",
    "t_i_3_d[vent_schedule=='W', :] = d_w_3\n",
    "t_i_3_d[vent_schedule=='HI', :] = d_hi_3\n",
    "t_i_3_d[vent_schedule=='HO', :] = d_ho_3\n",
    "\n",
    "t_i_4_d[vent_schedule=='W', :] = d_w_4\n",
    "t_i_4_d[vent_schedule=='HI', :] = d_hi_4\n",
    "t_i_4_d[vent_schedule=='HO', :] = d_ho_4\n",
    "\n",
    "{\n",
    "    '1人': t_i_1_d,\n",
    "    '2人': t_i_2_d,\n",
    "    '3人': t_i_3_d,\n",
    "    '4人': t_i_4_d\n",
    "}"
   ]
  },
  {
   "cell_type": "markdown",
   "metadata": {},
   "source": [
    "月ごとの日にちの始点・終点"
   ]
  },
  {
   "cell_type": "code",
   "execution_count": 6,
   "metadata": {},
   "outputs": [
    {
     "data": {
      "text/plain": [
       "(array([  0,  31,  59,  90, 120, 151, 181, 212, 243, 273, 304, 334],\n",
       "       dtype=int32),\n",
       " array([ 31,  59,  90, 120, 151, 181, 212, 243, 273, 304, 334, 365],\n",
       "       dtype=int32))"
      ]
     },
     "execution_count": 6,
     "metadata": {},
     "output_type": "execute_result"
    }
   ],
   "source": [
    "d_m = np.array([31, 28, 31, 30, 31, 30, 31, 31, 30, 31, 30, 31])\n",
    "d_end = np.cumsum(d_m)\n",
    "d_str = np.insert(d_end[0: -1], 0, 0)\n",
    "d_str, d_end"
   ]
  },
  {
   "cell_type": "markdown",
   "metadata": {},
   "source": [
    "室ごとに月積算値を計算する"
   ]
  },
  {
   "cell_type": "code",
   "execution_count": 7,
   "metadata": {},
   "outputs": [],
   "source": [
    "t_i_1_m = np.array([t_i_1_d[d_s:d_e, :].sum(axis=0) for (d_s, d_e) in zip(d_str, d_end)])\n",
    "t_i_2_m = np.array([t_i_2_d[d_s:d_e, :].sum(axis=0) for (d_s, d_e) in zip(d_str, d_end)])\n",
    "t_i_3_m = np.array([t_i_3_d[d_s:d_e, :].sum(axis=0) for (d_s, d_e) in zip(d_str, d_end)])\n",
    "t_i_4_m = np.array([t_i_4_d[d_s:d_e, :].sum(axis=0) for (d_s, d_e) in zip(d_str, d_end)])"
   ]
  },
  {
   "cell_type": "code",
   "execution_count": 8,
   "metadata": {},
   "outputs": [
    {
     "data": {
      "text/plain": [
       "(19, 4, 12)"
      ]
     },
     "execution_count": 8,
     "metadata": {},
     "output_type": "execute_result"
    }
   ],
   "source": [
    "t_i_p_m = np.array([[t_i_1_m[:,i], t_i_2_m[:,i], t_i_3_m[:,i], t_i_4_m[:,i]]  for i in range(19)])\n",
    "t_i_p_m.shape"
   ]
  },
  {
   "cell_type": "markdown",
   "metadata": {},
   "source": [
    "## 係数Cの計算"
   ]
  },
  {
   "cell_type": "code",
   "execution_count": 9,
   "metadata": {},
   "outputs": [],
   "source": [
    "le = np.array([70.0, 70.0, 70.0, 70.0, 70.0, 70.0, 70.0, 70.0, 70.0, 70.0, 70.0, 70.0, 70.0, 70.0, 70.0, 70.0, 70.0, 70.0])\n",
    "ce = np.array([1.0 ,0.5 ,1.0 ,1.0 ,0.8 ,1.0 ,1.0 ,1.0 ,1.0 ,1.0 ,1.0 ,0.5 ,1.0 ,1.0 ,1.0 ,1.0 ,0.5 ,1.0])\n",
    "f_1 = np.array([232 ,232 ,232 ,232 ,232 ,232 ,232 ,232 ,232 ,177 ,232 ,177 ,232 ,232 ,177 ,177 ,177 ,232])\n",
    "f_2 = np.array([817 ,817 ,817 ,817 ,817 ,817 ,817 ,817 ,817 ,369 ,817 ,369 ,817 ,817 ,369 ,369 ,369 ,817])\n",
    "e = np.array([100 ,100 ,100 ,100 ,100 ,100 ,100 ,100 ,50 ,50 ,50 ,50 ,50 ,50 ,50 ,100 ,50 ,50])\n",
    "a_lz_r = np.array([13.031 ,7.929 ,7.194 ,13.031 ,12.816 ,10.587 ,10.373 ,3.094 ,3.097 ,1.601 ,4.699 ,5.168 ,1.242 ,3.301 ,1.496 ,0.773 ,6.800 ,4.699])\n",
    "a_ref = np.array([29.81 ,29.81 ,29.81 ,51.34 ,51.34 ,51.34 ,51.34 ,38.93 ,38.93 ,38.93 ,38.93 ,38.93 ,38.93 ,38.93 ,38.93 ,38.93 ,38.93 ,38.93])"
   ]
  },
  {
   "cell_type": "code",
   "execution_count": 10,
   "metadata": {},
   "outputs": [],
   "source": [
    "c_1_i_p_m = (f_1 / 1.65 * a_lz_r / a_ref * e / 50.0 * ce / le)[:, np.newaxis, np.newaxis] * t_i_p_m[0:18,:,:] * 0.001"
   ]
  },
  {
   "cell_type": "code",
   "execution_count": 11,
   "metadata": {},
   "outputs": [],
   "source": [
    "c_2_p_m = np.sum((f_2 * e / 50.0 * ce / le)[:, np.newaxis, np.newaxis] * t_i_p_m[0:18, :, :] * 0.001, axis=0) + 12 * t_i_p_m[18] * 0.001\n"
   ]
  },
  {
   "cell_type": "code",
   "execution_count": 12,
   "metadata": {},
   "outputs": [],
   "source": [
    "f_prim = 9760.0\n",
    "alpha_p_m = np.sum(c_1_i_p_m[0:3, :, :], axis=0) * f_prim * 0.001\n",
    "beta_p_m = np.sum(c_1_i_p_m[3:7, :, :], axis=0) * f_prim * 0.001\n",
    "gamma_p_m = np.sum(c_1_i_p_m[7:18, :, :], axis=0) * f_prim * 0.001\n",
    "delta_p_m = c_2_p_m * f_prim * 0.001"
   ]
  },
  {
   "cell_type": "code",
   "execution_count": 13,
   "metadata": {},
   "outputs": [
    {
     "data": {
      "text/plain": [
       "array([[2.39403574, 2.1244135 , 2.39403574, 2.35262263, 2.40946056,\n",
       "        2.22266454, 2.6385271 , 2.27179007, 2.35262263, 2.40174815,\n",
       "        2.4671559 , 2.40174815],\n",
       "       [4.96517919, 4.4579829 , 4.96517919, 4.72887161, 4.80713409,\n",
       "        4.77255296, 5.03586161, 4.92983798, 4.72887161, 4.88615664,\n",
       "        4.84323537, 4.88615664],\n",
       "       [5.63392265, 5.061989  , 5.63392265, 5.35238291, 5.43642093,\n",
       "        5.42756676, 5.68105664, 5.61035565, 5.35238291, 5.53517179,\n",
       "        5.47470076, 5.53517179],\n",
       "       [6.3026661 , 5.66599509, 6.3026661 , 5.9758942 , 6.06570778,\n",
       "        6.08258057, 6.32625168, 6.29087331, 5.9758942 , 6.18418694,\n",
       "        6.10616615, 6.18418694]])"
      ]
     },
     "execution_count": 13,
     "metadata": {},
     "output_type": "execute_result"
    }
   ],
   "source": [
    "alpha_p_m"
   ]
  },
  {
   "cell_type": "code",
   "execution_count": 14,
   "metadata": {},
   "outputs": [
    {
     "data": {
      "text/plain": [
       "array([[0.13898592, 0.12528308, 0.13898592, 0.13702837, 0.14290101,\n",
       "        0.13311327, 0.14290101, 0.13702837, 0.13702837, 0.14094346,\n",
       "        0.13702837, 0.14094346],\n",
       "       [0.28580202, 0.25839635, 0.28580202, 0.27405674, 0.28188693,\n",
       "        0.27797183, 0.28188693, 0.28775957, 0.27405674, 0.28384448,\n",
       "        0.27405674, 0.28384448],\n",
       "       [1.34530722, 1.20202195, 1.34530722, 1.2939394 , 1.3167459 ,\n",
       "        1.27619627, 1.40935479, 1.31328343, 1.2939394 , 1.33102656,\n",
       "        1.34024384, 1.33102656],\n",
       "       [2.40481242, 2.14564754, 2.40481242, 2.31382206, 2.35160486,\n",
       "        2.27442071, 2.53682266, 2.33880729, 2.31382206, 2.37820864,\n",
       "        2.40643095, 2.37820864]])"
      ]
     },
     "execution_count": 14,
     "metadata": {},
     "output_type": "execute_result"
    }
   ],
   "source": [
    "beta_p_m"
   ]
  },
  {
   "cell_type": "code",
   "execution_count": 15,
   "metadata": {},
   "outputs": [
    {
     "data": {
      "text/plain": [
       "array([[0.2717588 , 0.24469148, 0.2717588 , 0.27067326, 0.28366415,\n",
       "        0.25876791, 0.28366415, 0.26580613, 0.27067326, 0.27771148,\n",
       "        0.27067326, 0.27771148],\n",
       "       [0.66088452, 0.59762839, 0.66088452, 0.635643  , 0.65516392,\n",
       "        0.64239083, 0.65310945, 0.66477205, 0.635643  , 0.65802422,\n",
       "        0.63461576, 0.65802422],\n",
       "       [0.82579878, 0.7441251 , 0.82579878, 0.79355888, 0.81441279,\n",
       "        0.7972189 , 0.82986473, 0.8237658 , 0.79355888, 0.82010578,\n",
       "        0.80128485, 0.82010578],\n",
       "       [0.99071303, 0.8906218 , 0.99071303, 0.95147476, 0.97366165,\n",
       "        0.95204696, 1.00662001, 0.98275954, 0.95147476, 0.98218734,\n",
       "        0.96795394, 0.98218734]])"
      ]
     },
     "execution_count": 15,
     "metadata": {},
     "output_type": "execute_result"
    }
   ],
   "source": [
    "gamma_p_m"
   ]
  },
  {
   "cell_type": "code",
   "execution_count": 16,
   "metadata": {},
   "outputs": [
    {
     "data": {
      "text/plain": [
       "array([[ 54.52375897,  48.64623817,  54.52375897,  53.82239143,\n",
       "         55.58499863,  51.11021291,  58.88687634,  52.34220029,\n",
       "         53.82239143,  55.0543788 ,  55.47333029,  55.0543788 ],\n",
       "       [121.51423783, 109.39528766, 121.51423783, 116.08270371,\n",
       "        118.57527874, 117.3193968 , 121.97981074, 121.28145137,\n",
       "        116.08270371, 120.04475829, 117.78496971, 120.04475829],\n",
       "       [172.18348871, 154.64964   , 172.18348871, 164.4019784 ,\n",
       "        167.45539614, 165.48456806, 174.74640197, 170.90203209,\n",
       "        164.4019784 , 169.81944243, 168.04748131, 169.81944243],\n",
       "       [222.8527396 , 199.90399234, 222.8527396 , 212.72125309,\n",
       "        216.33551354, 213.64973931, 227.5129932 , 220.5226128 ,\n",
       "        212.72125309, 219.59412657, 218.30999291, 219.59412657]])"
      ]
     },
     "execution_count": 16,
     "metadata": {},
     "output_type": "execute_result"
    }
   ],
   "source": [
    "delta_p_m"
   ]
  },
  {
   "cell_type": "code",
   "execution_count": 17,
   "metadata": {},
   "outputs": [],
   "source": [
    "with pd.ExcelWriter('lighting_table.xlsx') as writer:\n",
    "    d_daily.to_excel(writer, sheet_name='table_2')\n",
    "    pd.DataFrame(\n",
    "        t_i_1_m,\n",
    "        index=['1月', '2月', '3月', '4月', '5月', '6月', '7月', '8月', '9月', '10月', '11月', '12月'],\n",
    "        columns=['1', '2', '3', '4', '5','6', '7', '8', '9', '10', '11', '12', '13', '14', '15', '16', '17', '18', '19']\n",
    "    ).T.to_excel(writer, sheet_name='table_3a')\n",
    "    pd.DataFrame(\n",
    "        t_i_2_m,\n",
    "        index=['1月', '2月', '3月', '4月', '5月', '6月', '7月', '8月', '9月', '10月', '11月', '12月'],\n",
    "        columns=['1', '2', '3', '4', '5','6', '7', '8', '9', '10', '11', '12', '13', '14', '15', '16', '17', '18', '19']\n",
    "    ).T.to_excel(writer, sheet_name='table_3b')\n",
    "    pd.DataFrame(\n",
    "        t_i_3_m,\n",
    "        index=['1月', '2月', '3月', '4月', '5月', '6月', '7月', '8月', '9月', '10月', '11月', '12月'],\n",
    "        columns=['1', '2', '3', '4', '5','6', '7', '8', '9', '10', '11', '12', '13', '14', '15', '16', '17', '18', '19']\n",
    "    ).T.to_excel(writer, sheet_name='table_3c')\n",
    "    pd.DataFrame(\n",
    "        t_i_4_m,\n",
    "        index=['1月', '2月', '3月', '4月', '5月', '6月', '7月', '8月', '9月', '10月', '11月', '12月'],\n",
    "        columns=['1', '2', '3', '4', '5','6', '7', '8', '9', '10', '11', '12', '13', '14', '15', '16', '17', '18', '19']\n",
    "    ).T.to_excel(writer, sheet_name='table_3d')\n",
    "    pd.DataFrame(\n",
    "        alpha_p_m.round(3),\n",
    "        columns=['1月', '2月', '3月', '4月', '5月', '6月', '7月', '8月', '9月', '10月', '11月', '12月'],\n",
    "        index=['1人', '2人', '3人', '4人']\n",
    "    ).to_excel(writer, sheet_name='table_4')\n",
    "    pd.DataFrame(\n",
    "        beta_p_m.round(3),\n",
    "        columns=['1月', '2月', '3月', '4月', '5月', '6月', '7月', '8月', '9月', '10月', '11月', '12月'],\n",
    "        index=['1人', '2人', '3人', '4人']\n",
    "    ).to_excel(writer, sheet_name='table_5')\n",
    "    pd.DataFrame(\n",
    "        gamma_p_m.round(3),\n",
    "        columns=['1月', '2月', '3月', '4月', '5月', '6月', '7月', '8月', '9月', '10月', '11月', '12月'],\n",
    "        index=['1人', '2人', '3人', '4人']\n",
    "    ).to_excel(writer, sheet_name='table_6')\n",
    "    pd.DataFrame(\n",
    "        delta_p_m.round(2),\n",
    "        columns=['1月', '2月', '3月', '4月', '5月', '6月', '7月', '8月', '9月', '10月', '11月', '12月'],\n",
    "        index=['1人', '2人', '3人', '4人']\n",
    "    ).to_excel(writer, sheet_name='table_7')\n"
   ]
  },
  {
   "cell_type": "code",
   "execution_count": null,
   "metadata": {},
   "outputs": [],
   "source": []
  }
 ],
 "metadata": {
  "kernelspec": {
   "display_name": "Python 3.9.12 ('base')",
   "language": "python",
   "name": "python3"
  },
  "language_info": {
   "codemirror_mode": {
    "name": "ipython",
    "version": 3
   },
   "file_extension": ".py",
   "mimetype": "text/x-python",
   "name": "python",
   "nbconvert_exporter": "python",
   "pygments_lexer": "ipython3",
   "version": "3.9.12"
  },
  "orig_nbformat": 4,
  "vscode": {
   "interpreter": {
    "hash": "5dbc05a467610a7a84f5bc3bbdadbd2f946f904af75a8cc4fe6969443e40c877"
   }
  }
 },
 "nbformat": 4,
 "nbformat_minor": 2
}
