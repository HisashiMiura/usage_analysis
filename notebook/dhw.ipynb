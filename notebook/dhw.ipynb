{
 "cells": [
  {
   "cell_type": "code",
   "execution_count": 1,
   "metadata": {},
   "outputs": [],
   "source": [
    "import pandas as pd\n",
    "import numpy as np\n",
    "import csv\n",
    "from enum import Enum"
   ]
  },
  {
   "cell_type": "markdown",
   "metadata": {},
   "source": [
    "列挙型の定義"
   ]
  },
  {
   "cell_type": "code",
   "execution_count": 2,
   "metadata": {},
   "outputs": [],
   "source": [
    "class NPerson(Enum):\n",
    "    ONE = 1\n",
    "    TWO = 2\n",
    "    THREE = 3\n",
    "    FOUR = 4\n",
    "\n",
    "    @property\n",
    "    def index(self):\n",
    "        return self.value - 1"
   ]
  },
  {
   "cell_type": "code",
   "execution_count": 3,
   "metadata": {},
   "outputs": [],
   "source": [
    "class Region(Enum):\n",
    "    REGION1 = 1\n",
    "    REGION2 = 2\n",
    "    REGION3 = 3\n",
    "    REGION4 = 4\n",
    "    REGION5 = 5\n",
    "    REGION6 = 6\n",
    "    REGION7 = 7\n",
    "    REGION8 = 8\n",
    "\n",
    "    @property\n",
    "    def index(self) -> int:\n",
    "        return self.value - 1"
   ]
  },
  {
   "cell_type": "markdown",
   "metadata": {},
   "source": [
    "給湯需要・入浴回数の読み込み"
   ]
  },
  {
   "cell_type": "code",
   "execution_count": 4,
   "metadata": {},
   "outputs": [],
   "source": [
    "d_demand_excel = pd.read_excel('dhw_demand.xlsx', sheet_name=None, index_col=0)\n",
    "\n",
    "def get_schedule(p: NPerson, key_name: str):\n",
    "    sheet = d_demand_excel[str(p.value)]\n",
    "    return {\n",
    "        'HIL': np.array(sheet[key_name + '_HIL']),\n",
    "        'HIS': np.array(sheet[key_name + '_HIS']),\n",
    "        'WL': np.array(sheet[key_name + '_WL']),\n",
    "        'WM': np.array(sheet[key_name + '_WM']),\n",
    "        'WS': np.array(sheet[key_name + '_WS']),\n",
    "        'HO': np.array(sheet[key_name + '_HO'])\n",
    "    }"
   ]
  },
  {
   "cell_type": "markdown",
   "metadata": {},
   "source": [
    "年間スケジュールの読み込み"
   ]
  },
  {
   "cell_type": "code",
   "execution_count": 5,
   "metadata": {},
   "outputs": [
    {
     "name": "stdout",
     "output_type": "stream",
     "text": [
      "['HIL' 'WM' 'WS' 'WM' 'WM' 'WM' 'HIS' 'HO' 'WM' 'WS' 'WL' 'WS' 'WM' 'HIS'\n",
      " 'HIL' 'WM' 'WS' 'WM' 'WM' 'WM' 'HIS' 'HO' 'WM' 'WS' 'WL' 'WS' 'WM' 'HIS'\n",
      " 'HIL' 'WM' 'WS' 'WM' 'WM' 'WM' 'HIS' 'HO' 'WM' 'WS' 'WL' 'WS' 'WM' 'HIS'\n",
      " 'HIL' 'WM' 'WS' 'WM' 'WM' 'WM' 'HIS' 'HO' 'WM' 'WS' 'WL' 'WS' 'WM' 'HIS'\n",
      " 'HIL' 'WM' 'WS' 'WM' 'WM' 'WM' 'HIS' 'HO' 'WM' 'WS' 'WL' 'WS' 'WM' 'HIS'\n",
      " 'HIL' 'WM' 'WS' 'WM' 'WM' 'WM' 'HIS' 'HO' 'WM' 'HIS' 'WL' 'WS' 'WM' 'HIS'\n",
      " 'HIL' 'WM' 'WS' 'WM' 'WM' 'WM' 'HIS' 'HO' 'WM' 'WS' 'WL' 'WS' 'WM' 'HIS'\n",
      " 'HIL' 'WM' 'WS' 'WM' 'WM' 'WM' 'HIS' 'HO' 'WM' 'WS' 'WL' 'WS' 'WM' 'HIS'\n",
      " 'HIL' 'WM' 'WS' 'WM' 'WM' 'WM' 'HIS' 'HO' 'WM' 'WS' 'HO' 'HO' 'HIS' 'HIS'\n",
      " 'HIL' 'WM' 'WS' 'WM' 'WM' 'WM' 'HIS' 'HO' 'WM' 'WS' 'WL' 'WS' 'WM' 'HIS'\n",
      " 'HIL' 'WM' 'WS' 'WM' 'WM' 'WM' 'HIS' 'HO' 'WM' 'WS' 'WL' 'WS' 'WM' 'HIS'\n",
      " 'HIL' 'WM' 'WS' 'WM' 'WM' 'WM' 'HIS' 'HO' 'WM' 'WS' 'WL' 'WS' 'WM' 'HIS'\n",
      " 'HIL' 'WM' 'WS' 'WM' 'WM' 'WM' 'HIS' 'HO' 'WM' 'WS' 'WL' 'WS' 'WM' 'HIS'\n",
      " 'HIL' 'WM' 'WS' 'WM' 'WM' 'WM' 'HIS' 'HO' 'WM' 'WS' 'WL' 'WS' 'WM' 'HIS'\n",
      " 'HIL' 'WM' 'WS' 'WM' 'HIS' 'WM' 'HIS' 'HO' 'WM' 'WS' 'WL' 'WS' 'WM' 'HIS'\n",
      " 'HIL' 'WM' 'WS' 'WM' 'WM' 'WM' 'HIS' 'HO' 'WM' 'WS' 'WL' 'WS' 'WM' 'HIS'\n",
      " 'HIL' 'WM' 'WS' 'WM' 'WM' 'WM' 'HIS' 'HO' 'WM' 'WS' 'WL' 'WS' 'WM' 'HIS'\n",
      " 'HIL' 'WM' 'WS' 'WM' 'WM' 'WM' 'HIS' 'HO' 'WM' 'WS' 'WL' 'WS' 'WM' 'HIS'\n",
      " 'HIL' 'WM' 'WS' 'WM' 'WM' 'HO' 'HIS' 'HO' 'WM' 'WS' 'WL' 'WS' 'WM' 'HIS'\n",
      " 'HIL' 'WM' 'WS' 'WM' 'WM' 'WM' 'HIS' 'HO' 'WM' 'WS' 'WL' 'WS' 'WM' 'HIS'\n",
      " 'HIL' 'WM' 'HIS' 'WM' 'WM' 'WM' 'HIS' 'HO' 'WM' 'WS' 'WL' 'WS' 'WM' 'HIS'\n",
      " 'HIL' 'WM' 'WS' 'WM' 'WM' 'WM' 'HIS' 'HO' 'WM' 'WS' 'WL' 'WS' 'HIS' 'HIS'\n",
      " 'HIL' 'WM' 'WS' 'WM' 'WM' 'WM' 'HIS' 'HO' 'WM' 'WS' 'WL' 'WS' 'WM' 'HIS'\n",
      " 'HIL' 'WM' 'WS' 'WM' 'HIS' 'WM' 'HIS' 'HO' 'WM' 'WS' 'WL' 'WS' 'WM' 'HIS'\n",
      " 'HIL' 'WM' 'WS' 'WM' 'WM' 'WM' 'HIS' 'HO' 'WM' 'WS' 'WL' 'WS' 'WM' 'HIS'\n",
      " 'HIL' 'WM' 'WS' 'WM' 'WM' 'WM' 'HIS' 'HO' 'WM' 'WS' 'WL' 'WS' 'WM' 'HO'\n",
      " 'HIS']\n"
     ]
    }
   ],
   "source": [
    "schedule_d = None\n",
    "with open('schedule.csv', encoding='utf8') as f:\n",
    "    reader = csv.reader(f, delimiter='\\t')\n",
    "    rows = [row for row in reader]\n",
    "    schedule_d = [\n",
    "        {\n",
    "            '休日在宅（大）': 'HIL',\n",
    "            '休日在宅（小）': 'HIS',\n",
    "            '平日（大）': 'WL',\n",
    "            '平日（中）': 'WM',\n",
    "            '平日（小）': 'WS',\n",
    "            '休日外出': 'HO'\n",
    "        }[row[3]] for row in rows[1:366]\n",
    "    ]\n",
    "schedule_d = np.array(schedule_d)\n",
    "print(schedule_d)"
   ]
  },
  {
   "cell_type": "markdown",
   "metadata": {},
   "source": [
    "給湯需要・入浴回数の年間展開"
   ]
  },
  {
   "cell_type": "code",
   "execution_count": 6,
   "metadata": {},
   "outputs": [],
   "source": [
    "def get_x_d_t(p: NPerson, key_name: str):\n",
    "    x_dict = get_schedule(p=p, key_name=key_name)\n",
    "    x_d_t = np.zeros(shape=[365, 24], dtype=float)\n",
    "    x_d_t[schedule_d=='HIL'] = x_dict['HIL']\n",
    "    x_d_t[schedule_d=='HIS'] = x_dict['HIS']\n",
    "    x_d_t[schedule_d=='WL'] = x_dict['WL']\n",
    "    x_d_t[schedule_d=='WM'] = x_dict['WM']\n",
    "    x_d_t[schedule_d=='WS'] = x_dict['WS']\n",
    "    x_d_t[schedule_d=='HO'] = x_dict['HO']\n",
    "    return x_d_t\n",
    "\n",
    "# 台所需要\n",
    "def get_w_k_d_t(p: NPerson):\n",
    "    return get_x_d_t(p=p, key_name='w_k')\n",
    "\n",
    "# シャワー需要\n",
    "def get_w_s_d_t(p: NPerson):\n",
    "    return get_x_d_t(p=p, key_name='w_s')\n",
    "\n",
    "# 洗面需要\n",
    "def get_w_w_d_t(p: NPerson):\n",
    "    return get_x_d_t(p=p, key_name='w_w')\n",
    "\n",
    "# 湯張り需要\n",
    "def get_w_b_d_t(p: NPerson):\n",
    "    return get_x_d_t(p=p, key_name='w_b')\n",
    "\n",
    "# 入浴回数\n",
    "def get_n_b_d_t(p: NPerson):\n",
    "    return get_x_d_t(p=p, key_name='n_b')\n"
   ]
  },
  {
   "cell_type": "markdown",
   "metadata": {},
   "source": [
    "外気温度の読み込み"
   ]
  },
  {
   "cell_type": "code",
   "execution_count": 7,
   "metadata": {},
   "outputs": [],
   "source": [
    "def get_theta_ex_d_t(region: Region):\n",
    "    df_outdoor = pd.read_csv('outdoor_temp.csv', names=('1','2','3','4','5','6','7','8'))\n",
    "    theta_ex_r_d_t = (np.array(df_outdoor).T).reshape([8, 365, 24])\n",
    "    return theta_ex_r_d_t[region.index]"
   ]
  },
  {
   "cell_type": "markdown",
   "metadata": {},
   "source": [
    "夜間平均外気温度"
   ]
  },
  {
   "cell_type": "code",
   "execution_count": 8,
   "metadata": {},
   "outputs": [],
   "source": [
    "def get_theta_ex_nave_d(region: Region) -> np.ndarray:\n",
    "    theta_ex_d_t = get_theta_ex_d_t(region=region)\n",
    "    return np.average(np.roll(theta_ex_d_t, 1)[:, 0:8], axis=1)"
   ]
  },
  {
   "cell_type": "markdown",
   "metadata": {},
   "source": [
    "日平均外気温度"
   ]
  },
  {
   "cell_type": "code",
   "execution_count": 9,
   "metadata": {},
   "outputs": [],
   "source": [
    "def get_theta_ex_ave_d(region: Region) -> np.ndarray:\n",
    "    theta_ex_d_t = get_theta_ex_d_t(region=region)\n",
    "    return np.average(theta_ex_d_t, axis=1)"
   ]
  },
  {
   "cell_type": "markdown",
   "metadata": {},
   "source": [
    "日付dを基準とした期間平均外気温度"
   ]
  },
  {
   "cell_type": "code",
   "execution_count": 10,
   "metadata": {},
   "outputs": [],
   "source": [
    "def get_theta_ex_prd_ave_d(region: Region) -> np.ndarray:\n",
    "    theta_ex_ave_d = get_theta_ex_ave_d(region=region)\n",
    "    return np.convolve(np.concatenate([theta_ex_ave_d[355:], theta_ex_ave_d[:364]]), np.ones(10)/10, mode='valid')"
   ]
  },
  {
   "cell_type": "markdown",
   "metadata": {},
   "source": [
    "日平均給水温度"
   ]
  },
  {
   "cell_type": "code",
   "execution_count": 11,
   "metadata": {},
   "outputs": [],
   "source": [
    "def get_theta_wtr_d(region: Region) -> np.ndarray:\n",
    "    theta_ex_prd_ave_d = get_theta_ex_prd_ave_d(region=region)\n",
    "    a_wtr = [0.6639, 0.6639, 0.6054, 0.6054, 0.8660, 0.8516, 0.9223, 0.6921][region.index]\n",
    "    b_wtr = [3.466, 3.466, 4.515, 4.515, 1.665, 2.473, 2.097, 7.167][region.index]\n",
    "    return np.maximum(a_wtr * theta_ex_prd_ave_d + b_wtr, 0.5)"
   ]
  },
  {
   "cell_type": "markdown",
   "metadata": {},
   "source": [
    "浴槽沸かし直しによる給湯熱負荷"
   ]
  },
  {
   "cell_type": "code",
   "execution_count": 12,
   "metadata": {},
   "outputs": [],
   "source": [
    "def get_l_ba_d_t(region: Region, p: NPerson) -> np.ndarray:\n",
    "    theta_ex_ave_d = get_theta_ex_ave_d(region=region)\n",
    "\n",
    "    def get_l_ba(theta_ex_ave, p):\n",
    "        if theta_ex_ave < 7.0:\n",
    "            a_ba = [0.0, -0.06, -0.10, -0.12][p.index]\n",
    "            b_ba = [0.0, 3.02, 4.91, 6.00][p.index]\n",
    "        elif theta_ex_ave < 16.0:\n",
    "            a_ba = [0.0, -0.06, -0.10, -0.13][p.index]\n",
    "            b_ba = [0.0, 3.04, 4.93, 6.04][p.index]\n",
    "        elif theta_ex_ave < 25.0:\n",
    "            a_ba = [0.0, -0.07, -0.11, -0.14][p.index]\n",
    "            b_ba = [0.0, 3.13, 5.07, 6.21][p.index]\n",
    "        else:\n",
    "            a_ba = [0.0, -0.06, -0.10, -0.12][p.index]\n",
    "            b_ba = [0.0, 2.92, 4.77, 5.81][p.index]\n",
    "        return a_ba * theta_ex_ave + b_ba\n",
    "\n",
    "    n_b_d_t = get_n_b_d_t(p=p)\n",
    "    n_b_d = n_b_d_t.sum(axis=1)\n",
    "    n_b_d_dsh = n_b_d\n",
    "    # ゼロ割を回避するために分母がゼロの場合は9999に置換する\n",
    "    n_b_d_dsh[n_b_d == 0.0] = 9999.0\n",
    "\n",
    "    return np.vectorize(get_l_ba)(theta_ex_ave=theta_ex_ave_d, p=p)[:, np.newaxis] * n_b_d_t / n_b_d_dsh[:, np.newaxis]\n"
   ]
  },
  {
   "cell_type": "markdown",
   "metadata": {},
   "source": [
    "浴槽自動湯はり時における基準給湯量"
   ]
  },
  {
   "cell_type": "code",
   "execution_count": 13,
   "metadata": {},
   "outputs": [],
   "source": [
    "def get_w_b2_d_t(p: NPerson):\n",
    "    return get_w_b_d_t(p=p)"
   ]
  },
  {
   "cell_type": "markdown",
   "metadata": {},
   "source": [
    "節湯補正給湯量  \n",
    "今回の基準では節湯措置を見込まないので、削減量はゼロで計算する。  \n",
    "浴槽水栓湯張りは使わないので定義しない。"
   ]
  },
  {
   "cell_type": "code",
   "execution_count": 14,
   "metadata": {},
   "outputs": [],
   "source": [
    "def get_w_dsh_k_d_t(p: NPerson):\n",
    "    return get_w_k_d_t(p=p)\n",
    "\n",
    "def get_w_dsh_s_d_t(p: NPerson):\n",
    "    return get_w_s_d_t(p=p)\n",
    "\n",
    "def get_w_dsh_w_d_t(p: NPerson):\n",
    "    return get_w_w_d_t(p=p)\n",
    "\n",
    "def get_w_dsh_b2_d_t(p: NPerson):\n",
    "    return get_w_b2_d_t(p=p)"
   ]
  },
  {
   "cell_type": "markdown",
   "metadata": {},
   "source": [
    "基準給湯温度"
   ]
  },
  {
   "cell_type": "code",
   "execution_count": 15,
   "metadata": {},
   "outputs": [],
   "source": [
    "def get_theta_sw_k():\n",
    "    return 40.0\n",
    "\n",
    "def get_theta_sw_s():\n",
    "    return 40.0\n",
    "\n",
    "def get_theta_sw_w():\n",
    "    return 40.0\n",
    "\n",
    "def get_theta_sw_b2():\n",
    "    return 40.0\n"
   ]
  },
  {
   "cell_type": "markdown",
   "metadata": {},
   "source": [
    "節湯補正給湯熱負荷"
   ]
  },
  {
   "cell_type": "code",
   "execution_count": 16,
   "metadata": {},
   "outputs": [],
   "source": [
    "def get_l_dsh_k_d_t(region: Region, p: NPerson):\n",
    "    return get_w_dsh_k_d_t(p=p) * (get_theta_sw_k() - get_theta_wtr_d(region=region))[:, np.newaxis] * 4.186 * 0.001\n",
    "\n",
    "def get_l_dsh_s_d_t(region: Region, p: NPerson):\n",
    "    return get_w_dsh_s_d_t(p=p) * (get_theta_sw_s() - get_theta_wtr_d(region=region))[:, np.newaxis] * 4.186 * 0.001\n",
    "\n",
    "def get_l_dsh_w_d_t(region: Region, p: NPerson):\n",
    "    return get_w_dsh_w_d_t(p=p) * (get_theta_sw_w() - get_theta_wtr_d(region=region))[:, np.newaxis] * 4.186 * 0.001\n",
    "\n",
    "def get_l_dsh_b1_d_t():\n",
    "    return np.zeros(shape=(365, 24), dtype=float)\n",
    "\n",
    "def get_l_dsh_b2_d_t(region: Region, p: NPerson):\n",
    "    return get_w_dsh_b2_d_t(p=p) * (get_theta_sw_b2() - get_theta_wtr_d(region=region))[:, np.newaxis] * 4.186 * 0.001\n",
    "\n",
    "def get_l_dsh_ba1_d_t():\n",
    "    return np.zeros(shape=(365, 24), dtype=float)\n",
    "\n",
    "def get_l_dsh_ba2_d_t(region: Region, p: NPerson):\n",
    "    return get_l_ba_d_t(region=region, p=p) * 1.25"
   ]
  },
  {
   "cell_type": "markdown",
   "metadata": {},
   "source": [
    "太陽熱補正熱負荷  \n",
    "太陽熱を今回は見込まないため、節湯補正給湯熱負荷に等しいとする。  \n",
    "記号はダッシュがつく数が異なるが、読み替えることで対応する。"
   ]
  },
  {
   "cell_type": "markdown",
   "metadata": {},
   "source": [
    "ガス給湯機・石油給湯機共通"
   ]
  },
  {
   "cell_type": "code",
   "execution_count": 17,
   "metadata": {},
   "outputs": [],
   "source": [
    "def get_l_dsh_k_d(region: Region, p: NPerson) -> np.ndarray:\n",
    "    return np.sum(get_l_dsh_k_d_t(region=region, p=p), axis=1)\n",
    "\n",
    "def get_l_dsh_s_d(region: Region, p: NPerson) -> np.ndarray:\n",
    "    return np.sum(get_l_dsh_s_d_t(region=region, p=p), axis=1)\n",
    "\n",
    "def get_l_dsh_w_d(region: Region, p: NPerson) -> np.ndarray:\n",
    "    return np.sum(get_l_dsh_w_d_t(region=region, p=p), axis=1)\n",
    "\n",
    "def get_l_dsh_b1_d(region: Region, p: NPerson) -> np.ndarray:\n",
    "    return np.sum(get_l_dsh_b1_d_t(region=region, p=p), axis=1)\n",
    "\n",
    "def get_l_dsh_b2_d(region: Region, p: NPerson) -> np.ndarray:\n",
    "    return np.sum(get_l_dsh_b2_d_t(region=region, p=p), axis=1)\n",
    "\n",
    "def get_l_dsh_ba1_d(region: Region, p: NPerson) -> np.ndarray:\n",
    "    return np.sum(get_l_dsh_ba1_d_t(region=region, p=p), axis=1)\n",
    "\n",
    "def get_l_dsh_ba2_d(region: Region, p: NPerson) -> np.ndarray:\n",
    "    return np.sum(get_l_dsh_ba2_d_t(region=region, p=p), axis=1)"
   ]
  },
  {
   "cell_type": "code",
   "execution_count": 18,
   "metadata": {},
   "outputs": [],
   "source": [
    "def get_e_gk_hs_d_t(region: Region, p: NPerson, a_std_u, b_std_u, c_std_u, f_hs):\n",
    "\n",
    "    # ['k', 's', 'w', 'b1', 'b2', 'ba1', 'ba2']\n",
    "    a_u = [a_std * f_hs for a_std in a_std_u] \n",
    "    b_u = [b_std * f_hs for b_std in b_std_u] \n",
    "    c_u = [c_std * f_hs for c_std in c_std_u]\n",
    "\n",
    "    e_k_d = a_u[0] * get_theta_ex_ave_d(region=region) + b_u[0] * (get_l_dsh_k_d(region=region, p=p) + get_l_dsh_w_d(region=region, p=p)) + c_u[0]\n",
    "    e_s_d = a_u[1] * get_theta_ex_ave_d(region=region) + b_u[1] * get_l_dsh_s_d(region=region, p=p) + c_u[1]\n",
    "    e_w_d = a_u[2] * get_theta_ex_ave_d(region=region) + b_u[2] * (get_l_dsh_k_d(region=region, p=p) + get_l_dsh_w_d(region=region, p=p)) + c_u[2]\n",
    "    e_b2_d = a_u[4] * get_theta_ex_ave_d(region=region) + b_u[4] * get_l_dsh_b2_d(region=region, p=p) + c_u[4]\n",
    "    e_ba2_d = a_u[6] * get_theta_ex_ave_d(region=region) + b_u[6] * get_l_dsh_ba2_d(region=region, p=p) + c_u[6]\n",
    "\n",
    "    e_g_hs_d_t \\\n",
    "        = get_l_dsh_k_d_t(region=region, p=p) / e_k_d[:, np.newaxis] \\\n",
    "        + get_l_dsh_s_d_t(region=region, p=p) / e_s_d[:, np.newaxis] \\\n",
    "        + get_l_dsh_w_d_t(region=region, p=p) / e_w_d[:, np.newaxis] \\\n",
    "        + get_l_dsh_b2_d_t(region=region, p=p) / e_b2_d[:, np.newaxis] \\\n",
    "        + get_l_dsh_ba2_d_t(region=region, p=p) / e_ba2_d[:, np.newaxis]\n",
    "    \n",
    "    return e_g_hs_d_t\n"
   ]
  },
  {
   "cell_type": "code",
   "execution_count": 19,
   "metadata": {},
   "outputs": [],
   "source": [
    "def get_e_e_hs_d_t(region: Region, p: NPerson, eq2, eq4):\n",
    "\n",
    "    l_dsh_ba2_d_t = get_l_dsh_ba2_d_t(region=region, p=p)\n",
    "    l_dsh_ba2_d = get_l_dsh_ba2_d(region=region, p=p)\n",
    "    l_dsh_ba2_d_dsh = l_dsh_ba2_d\n",
    "    l_dsh_ba2_d_dsh[l_dsh_ba2_d==0.0] = 9999.0\n",
    "    e_e_hs_aux3_d_t = ((eq4[0] * l_dsh_ba2_d + eq4[1]) * 1000 / 3600 / l_dsh_ba2_d)[:, np.newaxis] * l_dsh_ba2_d_t\n",
    "    e_e_hs_aux3_d_t[l_dsh_ba2_d==0.0, :] = 0.0\n",
    "\n",
    "    w_dsh_b2_d_t = get_w_dsh_b2_d_t(p=p)\n",
    "    w_dsh_b2_d = np.sum(w_dsh_b2_d_t, axis=1)\n",
    "    w_dsh_b2_d[w_dsh_b2_d==0.0] = 9999.0\n",
    "    e_e_hs_aux2_d_t = 0.07 * 1000 / 3600 * w_dsh_b2_d_t / w_dsh_b2_d[:, np.newaxis]\n",
    "\n",
    "    e_e_hs_aux1_d_t = (\n",
    "        ((eq2[0] * get_theta_ex_ave_d(region=region) + eq2[1]) / 24)[:, np.newaxis]\n",
    "        + eq2[2] * (get_w_dsh_k_d_t(p=p) + get_w_dsh_s_d_t(p=p) + get_w_dsh_w_d_t(p=p))\n",
    "    ) * 1000 / 3600\n",
    "\n",
    "    return e_e_hs_aux1_d_t + e_e_hs_aux2_d_t + e_e_hs_aux3_d_t"
   ]
  },
  {
   "cell_type": "code",
   "execution_count": 20,
   "metadata": {},
   "outputs": [],
   "source": [
    "def get_e_g_hs_d_t(region: Region, p: NPerson):\n",
    "    \n",
    "    e_rtd = 0.782\n",
    "\n",
    "    e_gk_hs_d_t = get_e_gk_hs_d_t(\n",
    "        region=region,\n",
    "        p=p,\n",
    "        a_std_u=[0.0019, 0.0006, 0.0019, 0.0000, 0.0000, 0.0000, 0.0033],\n",
    "        b_std_u=[0.0013, 0.0005, 0.0013, 0.0002, -0.0005, 0.0002, 0.0194],\n",
    "        c_std_u=[0.6533, 0.7414, 0.6533, 0.7839, 0.7828, 0.7839, 0.5776],\n",
    "        f_hs=(0.8754 * e_rtd + 0.06) / 0.745\n",
    "    )\n",
    "\n",
    "    e_e_hs_d_t = get_e_e_hs_d_t(\n",
    "        region=region,\n",
    "        p=p,\n",
    "        eq2=(-0.00172, 0.2822, 0.000393),\n",
    "        eq4=(0.01723, 0.06099)\n",
    "    )\n",
    "\n",
    "    return e_e_hs_d_t * 9.76 + e_gk_hs_d_t\n"
   ]
  },
  {
   "cell_type": "code",
   "execution_count": 21,
   "metadata": {},
   "outputs": [],
   "source": [
    "def get_e_k_hs_d_t(region: Region, p: NPerson):\n",
    "    \n",
    "    e_rtd = 0.813\n",
    "\n",
    "    e_gk_hs_d_t = get_e_gk_hs_d_t(\n",
    "        region=region,\n",
    "        p=p,\n",
    "        a_std_u=[0.0005, 0.0024, 0.0005,  0.0000,  0.0000,  0.0000, 0.0062],\n",
    "        b_std_u=[0.0028, 0.0021, 0.0028, -0.0027, -0.0024, -0.0027, 0.0462],\n",
    "        c_std_u=[0.6818, 0.7560, 0.6818,  0.9026,  0.8885,  0.9026, 0.4001],\n",
    "        f_hs=(0.8669 * e_rtd + 0.091) / 0.796\n",
    "    )\n",
    "\n",
    "    e_e_hs_d_t = get_e_e_hs_d_t(\n",
    "        region=region,\n",
    "        p=p,\n",
    "        eq2=(-0.00235, 0.3388, 0.000780),\n",
    "        eq4=(0.02102, 0.12852)\n",
    "    )\n",
    "\n",
    "    return e_e_hs_d_t * 9.76 + e_gk_hs_d_t"
   ]
  },
  {
   "cell_type": "markdown",
   "metadata": {},
   "source": [
    "基準の結果との比較確認"
   ]
  },
  {
   "cell_type": "markdown",
   "metadata": {},
   "source": [
    "1地域"
   ]
  },
  {
   "cell_type": "code",
   "execution_count": 22,
   "metadata": {},
   "outputs": [
    {
     "data": {
      "text/plain": [
       "(11949.156874373364, 11946.505700000002)"
      ]
     },
     "execution_count": 22,
     "metadata": {},
     "output_type": "execute_result"
    }
   ],
   "source": [
    "get_e_k_hs_d_t(region=Region.REGION1, p=NPerson.ONE).sum(), 234.4362 * 30 + 4913.4197"
   ]
  },
  {
   "cell_type": "code",
   "execution_count": 23,
   "metadata": {},
   "outputs": [
    {
     "data": {
      "text/plain": [
       "(18979.59355465561, 18979.5952)"
      ]
     },
     "execution_count": 23,
     "metadata": {},
     "output_type": "execute_result"
    }
   ],
   "source": [
    "get_e_k_hs_d_t(region=Region.REGION1, p=NPerson.TWO).sum(), 307.3813 * 60 + 536.7172"
   ]
  },
  {
   "cell_type": "code",
   "execution_count": 24,
   "metadata": {},
   "outputs": [
    {
     "data": {
      "text/plain": [
       "(28201.031730029063, 28201.0305)"
      ]
     },
     "execution_count": 24,
     "metadata": {},
     "output_type": "execute_result"
    }
   ],
   "source": [
    "get_e_k_hs_d_t(region=Region.REGION1, p=NPerson.THREE).sum(), 109.6993 * 90 + 18328.0935"
   ]
  },
  {
   "cell_type": "code",
   "execution_count": 25,
   "metadata": {},
   "outputs": [
    {
     "data": {
      "text/plain": [
       "(31492.01112773883, 31492.0111)"
      ]
     },
     "execution_count": 25,
     "metadata": {},
     "output_type": "execute_result"
    }
   ],
   "source": [
    "get_e_k_hs_d_t(region=Region.REGION1, p=NPerson.FOUR).sum(), 31492.0111"
   ]
  },
  {
   "cell_type": "markdown",
   "metadata": {},
   "source": [
    "2地域"
   ]
  },
  {
   "cell_type": "code",
   "execution_count": 26,
   "metadata": {},
   "outputs": [
    {
     "data": {
      "text/plain": [
       "(11702.133395666227, 11696.1294)"
      ]
     },
     "execution_count": 26,
     "metadata": {},
     "output_type": "execute_result"
    }
   ],
   "source": [
    "get_e_k_hs_d_t(region=Region.REGION2, p=NPerson.ONE).sum(), 228.3869 * 30 + 4844.5224"
   ]
  },
  {
   "cell_type": "code",
   "execution_count": 27,
   "metadata": {},
   "outputs": [
    {
     "data": {
      "text/plain": [
       "(18547.73928113309, 18547.7416)"
      ]
     },
     "execution_count": 27,
     "metadata": {},
     "output_type": "execute_result"
    }
   ],
   "source": [
    "get_e_k_hs_d_t(region=Region.REGION2, p=NPerson.TWO).sum(), 300.6392 * 60 + 509.3896"
   ]
  },
  {
   "cell_type": "code",
   "execution_count": 28,
   "metadata": {},
   "outputs": [
    {
     "data": {
      "text/plain": [
       "(27566.914123099807, 27566.9171)"
      ]
     },
     "execution_count": 28,
     "metadata": {},
     "output_type": "execute_result"
    }
   ],
   "source": [
    "get_e_k_hs_d_t(region=Region.REGION2, p=NPerson.THREE).sum(), 107.3577 * 90 + 17904.7241"
   ]
  },
  {
   "cell_type": "code",
   "execution_count": 29,
   "metadata": {},
   "outputs": [
    {
     "data": {
      "text/plain": [
       "(30787.64413860073, 30787.6441)"
      ]
     },
     "execution_count": 29,
     "metadata": {},
     "output_type": "execute_result"
    }
   ],
   "source": [
    "get_e_k_hs_d_t(region=Region.REGION2, p=NPerson.FOUR).sum(), 30787.6441"
   ]
  },
  {
   "cell_type": "markdown",
   "metadata": {},
   "source": [
    "3地域"
   ]
  },
  {
   "cell_type": "code",
   "execution_count": 30,
   "metadata": {},
   "outputs": [
    {
     "data": {
      "text/plain": [
       "(10903.029064166461, 10892.3673)"
      ]
     },
     "execution_count": 30,
     "metadata": {},
     "output_type": "execute_result"
    }
   ],
   "source": [
    "get_e_k_hs_d_t(region=Region.REGION3, p=NPerson.ONE).sum(), 212.0339 * 30 + 4531.3503"
   ]
  },
  {
   "cell_type": "code",
   "execution_count": 31,
   "metadata": {},
   "outputs": [
    {
     "data": {
      "text/plain": [
       "(17253.382671995725, 17253.3821)"
      ]
     },
     "execution_count": 31,
     "metadata": {},
     "output_type": "execute_result"
    }
   ],
   "source": [
    "get_e_k_hs_d_t(region=Region.REGION3, p=NPerson.TWO).sum(), 280.6827 * 60 + 412.4201"
   ]
  },
  {
   "cell_type": "code",
   "execution_count": 32,
   "metadata": {},
   "outputs": [
    {
     "data": {
      "text/plain": [
       "(25673.8639713445, 25673.859900000003)"
      ]
     },
     "execution_count": 32,
     "metadata": {},
     "output_type": "execute_result"
    }
   ],
   "source": [
    "get_e_k_hs_d_t(region=Region.REGION3, p=NPerson.THREE).sum(), 100.5938 * 90 + 16620.4179"
   ]
  },
  {
   "cell_type": "code",
   "execution_count": 33,
   "metadata": {},
   "outputs": [
    {
     "data": {
      "text/plain": [
       "(28691.679322596818, 28691.6793)"
      ]
     },
     "execution_count": 33,
     "metadata": {},
     "output_type": "execute_result"
    }
   ],
   "source": [
    "get_e_k_hs_d_t(region=Region.REGION3, p=NPerson.FOUR).sum(), 28691.6793"
   ]
  },
  {
   "cell_type": "markdown",
   "metadata": {},
   "source": [
    "4地域"
   ]
  },
  {
   "cell_type": "code",
   "execution_count": 34,
   "metadata": {},
   "outputs": [
    {
     "data": {
      "text/plain": [
       "(10586.81678757223, 10575.218)"
      ]
     },
     "execution_count": 34,
     "metadata": {},
     "output_type": "execute_result"
    }
   ],
   "source": [
    "get_e_k_hs_d_t(region=Region.REGION4, p=NPerson.ONE).sum(), 205.3253 * 30 + 4415.4590"
   ]
  },
  {
   "cell_type": "code",
   "execution_count": 35,
   "metadata": {},
   "outputs": [
    {
     "data": {
      "text/plain": [
       "(16734.97562574866, 16734.9766)"
      ]
     },
     "execution_count": 35,
     "metadata": {},
     "output_type": "execute_result"
    }
   ],
   "source": [
    "get_e_k_hs_d_t(region=Region.REGION4, p=NPerson.TWO).sum(), 272.2243 * 60 + 401.5186"
   ]
  },
  {
   "cell_type": "code",
   "execution_count": 36,
   "metadata": {},
   "outputs": [
    {
     "data": {
      "text/plain": [
       "(24901.704140979084, 24901.7061)"
      ]
     },
     "execution_count": 36,
     "metadata": {},
     "output_type": "execute_result"
    }
   ],
   "source": [
    "get_e_k_hs_d_t(region=Region.REGION4, p=NPerson.THREE).sum(), 97.7986 * 90 + 16099.8321"
   ]
  },
  {
   "cell_type": "code",
   "execution_count": 37,
   "metadata": {},
   "outputs": [
    {
     "data": {
      "text/plain": [
       "(27835.66149708824, 27835.6615)"
      ]
     },
     "execution_count": 37,
     "metadata": {},
     "output_type": "execute_result"
    }
   ],
   "source": [
    "get_e_k_hs_d_t(region=Region.REGION4, p=NPerson.FOUR).sum(), 27835.6615"
   ]
  },
  {
   "cell_type": "markdown",
   "metadata": {},
   "source": [
    "5地域"
   ]
  },
  {
   "cell_type": "code",
   "execution_count": 38,
   "metadata": {},
   "outputs": [
    {
     "data": {
      "text/plain": [
       "(10469.321613949627, 10440.1375)"
      ]
     },
     "execution_count": 38,
     "metadata": {},
     "output_type": "execute_result"
    }
   ],
   "source": [
    "get_e_g_hs_d_t(region=Region.REGION5, p=NPerson.ONE).sum(), 200.6680 * 30 + 4420.0975"
   ]
  },
  {
   "cell_type": "code",
   "execution_count": 39,
   "metadata": {},
   "outputs": [
    {
     "data": {
      "text/plain": [
       "(16460.17887396076, 16460.177499999998)"
      ]
     },
     "execution_count": 39,
     "metadata": {},
     "output_type": "execute_result"
    }
   ],
   "source": [
    "get_e_g_hs_d_t(region=Region.REGION5, p=NPerson.TWO).sum(), 276.3005 * 60 - 117.8525"
   ]
  },
  {
   "cell_type": "code",
   "execution_count": 40,
   "metadata": {},
   "outputs": [
    {
     "data": {
      "text/plain": [
       "(24749.19456524703, 24749.1972)"
      ]
     },
     "execution_count": 40,
     "metadata": {},
     "output_type": "execute_result"
    }
   ],
   "source": [
    "get_e_g_hs_d_t(region=Region.REGION5, p=NPerson.THREE).sum(), 103.8316 * 90 + 15404.3532"
   ]
  },
  {
   "cell_type": "code",
   "execution_count": 41,
   "metadata": {},
   "outputs": [
    {
     "data": {
      "text/plain": [
       "27864.141671200367"
      ]
     },
     "execution_count": 41,
     "metadata": {},
     "output_type": "execute_result"
    }
   ],
   "source": [
    "get_e_g_hs_d_t(region=Region.REGION5, p=NPerson.FOUR).sum()"
   ]
  },
  {
   "cell_type": "markdown",
   "metadata": {},
   "source": [
    "6地域"
   ]
  },
  {
   "cell_type": "code",
   "execution_count": 42,
   "metadata": {},
   "outputs": [
    {
     "data": {
      "text/plain": [
       "(9425.830953756358, 9401.7577)"
      ]
     },
     "execution_count": 42,
     "metadata": {},
     "output_type": "execute_result"
    }
   ],
   "source": [
    "get_e_g_hs_d_t(region=Region.REGION6, p=NPerson.ONE).sum(), 181.3259 * 30 + 3961.9807"
   ]
  },
  {
   "cell_type": "code",
   "execution_count": 43,
   "metadata": {},
   "outputs": [
    {
     "data": {
      "text/plain": [
       "(14841.533190864859, 14841.5316)"
      ]
     },
     "execution_count": 43,
     "metadata": {},
     "output_type": "execute_result"
    }
   ],
   "source": [
    "get_e_g_hs_d_t(region=Region.REGION6, p=NPerson.TWO).sum(), 249.7700 * 60 - 144.6684"
   ]
  },
  {
   "cell_type": "code",
   "execution_count": 44,
   "metadata": {},
   "outputs": [
    {
     "data": {
      "text/plain": [
       "(22334.63400116704, 22334.6307)"
      ]
     },
     "execution_count": 44,
     "metadata": {},
     "output_type": "execute_result"
    }
   ],
   "source": [
    "get_e_g_hs_d_t(region=Region.REGION6, p=NPerson.THREE).sum(), 93.9853 * 90 + 13875.9537"
   ]
  },
  {
   "cell_type": "code",
   "execution_count": 45,
   "metadata": {},
   "outputs": [
    {
     "data": {
      "text/plain": [
       "(25154.194116361934, 25154.1941)"
      ]
     },
     "execution_count": 45,
     "metadata": {},
     "output_type": "execute_result"
    }
   ],
   "source": [
    "get_e_g_hs_d_t(region=Region.REGION6, p=NPerson.FOUR).sum(), 25154.1941"
   ]
  },
  {
   "cell_type": "markdown",
   "metadata": {},
   "source": [
    "7地域"
   ]
  },
  {
   "cell_type": "code",
   "execution_count": 46,
   "metadata": {},
   "outputs": [
    {
     "data": {
      "text/plain": [
       "(8518.947208951698, 8499.664)"
      ]
     },
     "execution_count": 46,
     "metadata": {},
     "output_type": "execute_result"
    }
   ],
   "source": [
    "get_e_g_hs_d_t(region=Region.REGION7, p=NPerson.ONE).sum(), 165.2424 * 30 + 3542.3920"
   ]
  },
  {
   "cell_type": "code",
   "execution_count": 47,
   "metadata": {},
   "outputs": [
    {
     "data": {
      "text/plain": [
       "(13456.938053881042, 13456.9362)"
      ]
     },
     "execution_count": 47,
     "metadata": {},
     "output_type": "execute_result"
    }
   ],
   "source": [
    "get_e_g_hs_d_t(region=Region.REGION7, p=NPerson.TWO).sum(), 227.0405 * 60 - 165.4938"
   ]
  },
  {
   "cell_type": "code",
   "execution_count": 48,
   "metadata": {},
   "outputs": [
    {
     "data": {
      "text/plain": [
       "(20268.154003897933, 20268.1552)"
      ]
     },
     "execution_count": 48,
     "metadata": {},
     "output_type": "execute_result"
    }
   ],
   "source": [
    "get_e_g_hs_d_t(region=Region.REGION7, p=NPerson.THREE).sum(), 85.4735 * 90 + 12575.5402"
   ]
  },
  {
   "cell_type": "code",
   "execution_count": 49,
   "metadata": {},
   "outputs": [
    {
     "data": {
      "text/plain": [
       "(22832.35860391573, 22832.3586)"
      ]
     },
     "execution_count": 49,
     "metadata": {},
     "output_type": "execute_result"
    }
   ],
   "source": [
    "get_e_g_hs_d_t(region=Region.REGION7, p=NPerson.FOUR).sum(), 22832.3586"
   ]
  },
  {
   "cell_type": "markdown",
   "metadata": {},
   "source": [
    "8地域"
   ]
  },
  {
   "cell_type": "code",
   "execution_count": 50,
   "metadata": {},
   "outputs": [
    {
     "data": {
      "text/plain": [
       "(6681.282680304047, 6672.4234)"
      ]
     },
     "execution_count": 50,
     "metadata": {},
     "output_type": "execute_result"
    }
   ],
   "source": [
    "get_e_g_hs_d_t(region=Region.REGION8, p=NPerson.ONE).sum(), 130.0332 * 30 + 2771.4274"
   ]
  },
  {
   "cell_type": "code",
   "execution_count": 51,
   "metadata": {},
   "outputs": [
    {
     "data": {
      "text/plain": [
       "(10573.420626700175, 10573.4194)"
      ]
     },
     "execution_count": 51,
     "metadata": {},
     "output_type": "execute_result"
    }
   ],
   "source": [
    "get_e_g_hs_d_t(region=Region.REGION8, p=NPerson.TWO).sum(), 178.9496 * 60 - 163.5566"
   ]
  },
  {
   "cell_type": "code",
   "execution_count": 52,
   "metadata": {},
   "outputs": [
    {
     "data": {
      "text/plain": [
       "(15941.909223571707, 15941.908099999999)"
      ]
     },
     "execution_count": 52,
     "metadata": {},
     "output_type": "execute_result"
    }
   ],
   "source": [
    "get_e_g_hs_d_t(region=Region.REGION8, p=NPerson.THREE).sum(), 67.5958 * 90 + 9858.2861"
   ]
  },
  {
   "cell_type": "code",
   "execution_count": 53,
   "metadata": {},
   "outputs": [
    {
     "data": {
      "text/plain": [
       "(17969.783584981727, 17969.7836)"
      ]
     },
     "execution_count": 53,
     "metadata": {},
     "output_type": "execute_result"
    }
   ],
   "source": [
    "get_e_g_hs_d_t(region=Region.REGION8, p=NPerson.FOUR).sum(), 17969.7836"
   ]
  },
  {
   "cell_type": "markdown",
   "metadata": {},
   "source": [
    "月別の値の算出"
   ]
  },
  {
   "cell_type": "code",
   "execution_count": 54,
   "metadata": {},
   "outputs": [],
   "source": [
    "def sum_monthly(x_d_t: np.ndarray):\n",
    "\n",
    "    d_m = np.array([31, 28, 31, 30, 31, 30, 31, 31, 30, 31, 30, 31])\n",
    "    d_end = np.cumsum(d_m)\n",
    "    d_str = np.insert(d_end[0: -1], 0, 0)\n",
    "\n",
    "    x_d = np.sum(x_d_t, axis=1)\n",
    "    \n",
    "    return np.array([x_d[d_s: d_e].sum() for (d_s, d_e) in zip(d_str, d_end)])"
   ]
  },
  {
   "cell_type": "code",
   "execution_count": 55,
   "metadata": {},
   "outputs": [
    {
     "data": {
      "text/plain": [
       "(4, 8, 12)"
      ]
     },
     "execution_count": 55,
     "metadata": {},
     "output_type": "execute_result"
    }
   ],
   "source": [
    "result = np.array([\n",
    "    [\n",
    "        sum_monthly(get_e_k_hs_d_t(region=Region.REGION1, p=p)),\n",
    "        sum_monthly(get_e_k_hs_d_t(region=Region.REGION2, p=p)),\n",
    "        sum_monthly(get_e_k_hs_d_t(region=Region.REGION3, p=p)),\n",
    "        sum_monthly(get_e_k_hs_d_t(region=Region.REGION4, p=p)),\n",
    "        sum_monthly(get_e_g_hs_d_t(region=Region.REGION5, p=p)),\n",
    "        sum_monthly(get_e_g_hs_d_t(region=Region.REGION6, p=p)),\n",
    "        sum_monthly(get_e_g_hs_d_t(region=Region.REGION7, p=p)),\n",
    "        sum_monthly(get_e_g_hs_d_t(region=Region.REGION8, p=p))\n",
    "    ]\n",
    "    for p\n",
    "    in [NPerson.ONE, NPerson.TWO, NPerson.THREE, NPerson.FOUR]\n",
    "]).round(1)\n",
    "\n",
    "result.shape\n"
   ]
  },
  {
   "cell_type": "code",
   "execution_count": 56,
   "metadata": {},
   "outputs": [],
   "source": [
    "with pd.ExcelWriter('dhw_table.xlsx') as writer:\n",
    "    pd.DataFrame(result[0]).T.to_excel(writer, sheet_name='ONE')\n",
    "    pd.DataFrame(result[1]).T.to_excel(writer, sheet_name='TWO')\n",
    "    pd.DataFrame(result[2]).T.to_excel(writer, sheet_name='THREE')\n",
    "    pd.DataFrame(result[3]).T.to_excel(writer, sheet_name='FOUR')\n"
   ]
  },
  {
   "cell_type": "code",
   "execution_count": null,
   "metadata": {},
   "outputs": [],
   "source": []
  }
 ],
 "metadata": {
  "kernelspec": {
   "display_name": "Python 3.9.12 ('base')",
   "language": "python",
   "name": "python3"
  },
  "language_info": {
   "codemirror_mode": {
    "name": "ipython",
    "version": 3
   },
   "file_extension": ".py",
   "mimetype": "text/x-python",
   "name": "python",
   "nbconvert_exporter": "python",
   "pygments_lexer": "ipython3",
   "version": "3.9.12 (main, Apr  4 2022, 05:22:27) [MSC v.1916 64 bit (AMD64)]"
  },
  "orig_nbformat": 4,
  "vscode": {
   "interpreter": {
    "hash": "5dbc05a467610a7a84f5bc3bbdadbd2f946f904af75a8cc4fe6969443e40c877"
   }
  }
 },
 "nbformat": 4,
 "nbformat_minor": 2
}
