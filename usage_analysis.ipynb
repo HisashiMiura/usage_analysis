{
 "cells": [
  {
   "cell_type": "code",
   "execution_count": 1,
   "metadata": {},
   "outputs": [],
   "source": [
    "import numpy as np\n",
    "import matplotlib.pyplot as plt\n",
    "import pandas as pd\n",
    "\n",
    "import core\n",
    "from core import Region, NPerson, EP"
   ]
  },
  {
   "cell_type": "markdown",
   "metadata": {},
   "source": [
    "# 用途分解の計算"
   ]
  },
  {
   "cell_type": "markdown",
   "metadata": {},
   "source": [
    "## 1. 概要"
   ]
  },
  {
   "cell_type": "markdown",
   "metadata": {},
   "source": [
    "本ファイルは、用途分解の計算方法について記しています。  \n",
    "ここで用途分解とは、家庭におけるエネルギー種別ごとの消費量つまり、消費電力、ガス消費量、灯油消費量から、家庭における用途別エネルギー消費量を推計する方法を言います。  \n",
    "用途は、暖房・冷房・換気・給湯・照明・家電・調理に分類されます。\n",
    "消費電力、ガス消費量、および灯油消費量は、領収書などから月単位で把握できているものとします。  \n",
    "エネルギー種別の単位は以下のとおりです。  \n",
    "- 消費電力  kwh\n",
    "- ガス消費量  m<sup>3</sup>\n",
    "- 灯油消費量  L"
   ]
  },
  {
   "cell_type": "markdown",
   "metadata": {},
   "source": [
    "用途別エネルギーの推計は、エネルギー種別ごとに行います。  \n",
    "電力を消費する用途としては、全ての用途が考えられます。  \n",
    "ガスを消費する用途としては、暖房・給湯・調理が考えられます。  \n",
    "灯油を消費する用途としては、暖房・給湯が考えられます。"
   ]
  },
  {
   "cell_type": "markdown",
   "metadata": {},
   "source": [
    "用途が1つに限られている場合、例えば、灯油を暖房にしか使用していない場合などは、用途分解をするまでもなく用途が決定します。  \n",
    "用途が複数にわたる場合、例えば、灯油を暖房と給湯に使用している場合などは、暖房は冬期にしか使用しないことから、灯油消費量の月別の推移を見ておおよそ暖房と給湯に分解します。  \n",
    "電力の用途分解は非常に難しく、例えば電力を換気と照明に分類する場合、換気も照明も季節的な変動が見られないため、用途を分解するのは困難です。本方法では、一般的な家庭を想定した結果をデフォルト値として示しますので、家庭の事情（例えば日中照明を良く使っているなど）をヒアリングして、消費量を修正してください。"
   ]
  },
  {
   "cell_type": "markdown",
   "metadata": {},
   "source": [
    "## 結果の描画"
   ]
  },
  {
   "cell_type": "markdown",
   "metadata": {},
   "source": [
    "### 1) グラフ"
   ]
  },
  {
   "cell_type": "code",
   "execution_count": 2,
   "metadata": {},
   "outputs": [],
   "source": [
    "def plot_fig(htg, clg, hws, vnt, lgt, eap, ckg):\n",
    "    \n",
    "    y_htg = np.array(htg)\n",
    "    y_clg = np.array(clg)\n",
    "    y_hws = np.array(hws)\n",
    "    y_vnt = np.array(vnt)\n",
    "    y_lgt = np.array(lgt)\n",
    "    y_eap = np.array(eap)\n",
    "    y_ckg = np.array(ckg)\n",
    "    \n",
    "    figure, ax  = plt.subplots(1,1,figsize=(15,8))\n",
    "    x = range(12)\n",
    "    \n",
    "    ax.bar(x, y_ckg, color='k', width=0.9, label='cooking')\n",
    "    ax.bar(x, y_eap, color='g', width=0.9, label='electric appliances', bottom = y_ckg)\n",
    "    ax.bar(x, y_lgt, color='y', width=0.9, label='lighting', bottom = y_ckg+y_eap)\n",
    "    ax.bar(x, y_vnt, color='c', width=0.9, label='ventilation', bottom = y_ckg+y_eap+y_lgt)\n",
    "    ax.bar(x, y_hws, color='m', width=0.9, label='how water supply', bottom = y_ckg+y_eap+y_lgt+y_vnt)\n",
    "    ax.bar(x, y_clg, color='b', width=0.9, label='cooling', bottom = y_ckg+y_eap+y_lgt+y_vnt+y_hws)\n",
    "    ax.bar(x, y_htg, color='r', width=0.9, label='heating', bottom = y_ckg+y_eap+y_lgt+y_vnt+y_hws+y_clg)\n",
    "    \n",
    "    ax.set_xticks(range(12))\n",
    "    ax.set_xticklabels(['Jan','Feb','Mar','Apr','May','Jun','Jly','Aug','Sep','Otc','Nov','Dec'])\n",
    "    ax.legend()\n",
    "    plt.show()"
   ]
  },
  {
   "cell_type": "markdown",
   "metadata": {},
   "source": [
    "### 2) 表"
   ]
  },
  {
   "cell_type": "code",
   "execution_count": 3,
   "metadata": {},
   "outputs": [],
   "source": [
    "def plot_table(htg, clg, hws, vnt, lgt, eap, ckg, consumption):\n",
    "    df = pd.DataFrame({'暖房': list(map(int, htg)),\n",
    "                       '冷房': list(map(int, clg)),\n",
    "                       '給湯': list(map(int, hws)),\n",
    "                       '換気': list(map(int, vnt)),\n",
    "                       '照明': list(map(int, lgt)),\n",
    "                       '家電': list(map(int, eap)),\n",
    "                       '調理': list(map(int, ckg)),\n",
    "                       '分解前': list(map(int, consumption))},\n",
    "                       index=['Jan','Feb','Mar','Apr','May','Jun','Jly','Aug','Sep','Otc','Nov','Dec'])\n",
    "    return df.T"
   ]
  },
  {
   "cell_type": "markdown",
   "metadata": {},
   "source": [
    "## 14. 最終的な関数"
   ]
  },
  {
   "cell_type": "code",
   "execution_count": 4,
   "metadata": {},
   "outputs": [],
   "source": [
    "def analysis(d):\n",
    "\n",
    "    general = d['general']\n",
    "    region = core.Region(general['region'])\n",
    "    p = core.NPerson(general['number_of_people'])\n",
    "    a_mr = float(general['main_habitable_room_floor_area'])\n",
    "    a_or = float(general['other_habitable_room_floor_area'])\n",
    "    a_a = float(general['total_floor_area'])\n",
    "    u_e = bool(general['electric_use'])\n",
    "    u_g = bool(general['gas_use'])\n",
    "    u_k = bool(general['kerosene_use'])\n",
    "\n",
    "    if u_e:\n",
    "        electricity = d['electricity']\n",
    "        s_e_m = electricity['consumption']\n",
    "        u_e_h_m = electricity['heating']['use']\n",
    "        u_e_c_m = electricity['cooling']['use']\n",
    "        u_e_v = bool(electricity['ventilation']['use'])\n",
    "        c_e_v = float(electricity['ventilation']['coeff']) if u_e_v else None\n",
    "        u_e_hw = bool(electricity['hot_water_supply']['use'])\n",
    "        c_e_hw = float(electricity['hot_water_supply']['coeff']) if u_e_hw else None\n",
    "        u_e_l = bool(electricity['lighting']['use'])\n",
    "        c_e_l = float(electricity['lighting']['coeff']) if u_e_l else None\n",
    "        u_e_ap = bool(electricity['electric_appliance']['use'])\n",
    "        c_e_ap = float(electricity['electric_appliance']['coeff']) if u_e_ap else None\n",
    "        u_e_cc = bool(electricity['cooking']['use'])\n",
    "        c_e_cc = float(electricity['cooking']['coeff']) if u_e_cc else None\n",
    "        f_pe_e_default = True\n",
    "        f_pe_e = None\n",
    "    else:\n",
    "        s_e_m = None\n",
    "        u_e_h_m = None\n",
    "        u_e_c_m = None\n",
    "        u_e_v = None\n",
    "        c_e_v = None\n",
    "        u_e_hw = None\n",
    "        c_e_hw = None\n",
    "        u_e_l = None\n",
    "        c_e_l = None\n",
    "        u_e_ap = None\n",
    "        c_e_ap = None\n",
    "        u_e_cc = None\n",
    "        c_e_cc = None\n",
    "        f_pe_e_default = None\n",
    "        f_pe_e = None\n",
    "\n",
    "    if u_g:\n",
    "        gas = d['gas']\n",
    "        s_g_m = gas['consumption']\n",
    "        u_g_h_m = gas['heating']['use']\n",
    "        u_g_hw = bool(gas['hot_water_supply']['use'])\n",
    "        c_g_hw = float(gas['hot_water_supply']['coeff']) if u_g_hw else None\n",
    "        u_g_cc = bool(gas['cooking']['use'])\n",
    "        c_g_cc = float(gas['cooking']['coeff']) if u_g_cc else None\n",
    "        f_pe_g_default = True\n",
    "        gas_type = 'city_gas'\n",
    "        f_pe_g = None\n",
    "    else:\n",
    "        s_g_m = None\n",
    "        u_g_h_m = None\n",
    "        u_g_hw = None\n",
    "        c_g_hw = None\n",
    "        u_g_cc = None\n",
    "        c_g_cc = None\n",
    "        f_pe_g_default = True\n",
    "        gas_type = None\n",
    "        f_pe_g = None\n",
    "\n",
    "    if u_k:\n",
    "        kerosene = d['kerosene']\n",
    "        s_k_m = kerosene['consumption']\n",
    "        u_k_h_m = kerosene['heating']['use']\n",
    "        u_k_hw = bool(kerosene['hot_water_supply']['use'])\n",
    "        c_k_hw = float(kerosene['hot_water_supply']['coeff']) if u_k_hw else None\n",
    "        f_pe_k_default = True\n",
    "        f_pe_k = None\n",
    "    else:\n",
    "        s_k_m = None\n",
    "        u_k_h_m = None\n",
    "        u_k_hw = None\n",
    "        c_k_hw = None\n",
    "        f_pe_k_default = None\n",
    "        f_pe_k = None\n",
    "\n",
    "    e_p_e, e_p_g, e_p_k, e_p = core.kernel(\n",
    "        region=region, p=p, a_mr=a_mr, a_or=a_or, a_a=a_a, u_e=u_e, u_g=u_g, u_k=u_k,\n",
    "        s_e_m=s_e_m, u_e_h_m=u_e_h_m, u_e_c_m=u_e_c_m, u_e_v=u_e_v, c_e_v=c_e_v, u_e_hw=u_e_hw, c_e_hw=c_e_hw, u_e_l=u_e_l, c_e_l=c_e_l, u_e_ap=u_e_ap, c_e_ap=c_e_ap, u_e_cc=u_e_cc, c_e_cc=c_e_cc, f_pe_e_default=f_pe_e_default, f_pe_e=f_pe_e,\n",
    "        s_g_m=s_g_m, u_g_h_m=u_g_h_m, u_g_hw=u_g_hw, c_g_hw=c_g_hw, u_g_cc=u_g_cc, c_g_cc=c_g_cc, f_pe_g_default=f_pe_g_default, gas_type=gas_type, f_pe_g=f_pe_g,\n",
    "        s_k_m=s_k_m, u_k_h_m=u_k_h_m, u_k_hw=u_k_hw, c_k_hw=c_k_hw, f_pe_k_default=f_pe_k_default, f_pe_k=f_pe_k\n",
    "    )\n",
    "\n",
    "    if u_e:\n",
    "        return e_p_e.h_m, e_p_e.c_m, e_p_e.v_m, e_p_e.l_m, e_p_e.hw_m, e_p_e.ap_m, e_p_e.cc_m\n",
    "    if u_g:\n",
    "        return e_p_g.h_m, e_p_g.c_m, e_p_g.v_m, e_p_g.l_m, e_p_g.hw_m, e_p_g.ap_m, e_p_g.cc_m\n",
    "    if u_k:\n",
    "        return e_p_k.h_m, e_p_k.c_m, e_p_k.v_m, e_p_k.l_m, e_p_k.hw_m, e_p_k.ap_m, e_p_k.cc_m\n",
    "    else:\n",
    "        raise Exception()\n",
    "\n"
   ]
  },
  {
   "cell_type": "code",
   "execution_count": 5,
   "metadata": {},
   "outputs": [],
   "source": [
    "def analysis_and_plot(d):\n",
    "    htg, clg, vnt, lgt, hws, eap, ckg = analysis(d)\n",
    "    plot_fig(htg, clg, hws, vnt, lgt, eap, ckg)\n",
    "    general = d['general']\n",
    "    u_e = bool(general['electric_use'])\n",
    "    u_g = bool(general['gas_use'])\n",
    "    u_k = bool(general['kerosene_use'])\n",
    "    if u_e:\n",
    "        consumption = d['electricity']['consumption']\n",
    "    elif u_g:\n",
    "        consumption = d['gas']['consumption']\n",
    "    elif u_k:\n",
    "        consumption = d['kerosene']['consumption']\n",
    "    else:\n",
    "        raise Exception()\n",
    "\n",
    "    print(plot_table(htg, clg, hws, vnt, lgt, eap, ckg, consumption))"
   ]
  },
  {
   "cell_type": "markdown",
   "metadata": {},
   "source": [
    "## 15. 使用例"
   ]
  },
  {
   "cell_type": "markdown",
   "metadata": {},
   "source": [
    "### 15.1 入力データ"
   ]
  },
  {
   "cell_type": "markdown",
   "metadata": {},
   "source": [
    "#### 1) 全体"
   ]
  },
  {
   "cell_type": "markdown",
   "metadata": {},
   "source": [
    "辞書型データのKeyとして、  \n",
    "\n",
    "- general\n",
    "- consumption\n",
    "- heating\n",
    "- cooling\n",
    "- ventilation\n",
    "- hot_water_supply\n",
    "- lighting\n",
    "- electric_appliance\n",
    "- cooking\n",
    "\n",
    "を持ちます。"
   ]
  },
  {
   "cell_type": "markdown",
   "metadata": {},
   "source": [
    "#### 2) general"
   ]
  },
  {
   "cell_type": "markdown",
   "metadata": {},
   "source": [
    "'general'はさらに、\n",
    "\n",
    "- number_of_people\n",
    "- main_habitable_room_floor_area\n",
    "- other_habitale_room_floor_area\n",
    "- total_floor_area\n",
    "\n",
    "を持ちます。"
   ]
  },
  {
   "cell_type": "markdown",
   "metadata": {},
   "source": [
    "'number_of_people': 世帯の人数です。1～4人の数字を入力します。5人以上の計算には対応していないため、その場合は4人として推計してください。  \n",
    "'main_habitable_room_floor_area': 主たる居室の床面積(m2)です。  \n",
    "'othera_habitable_room_floor_area': その他の居室の床面積(m2)です。  \n",
    "'total_floor_area': 述べ床面積(m2)です。  \n",
    "主たる居室の床面積とその他の居室の床面積の合計が、述べ床面積を超えないようにしてください。"
   ]
  },
  {
   "cell_type": "markdown",
   "metadata": {},
   "source": [
    "```\n",
    "'general' : {\n",
    "    'number_of_people' : 4,\n",
    "    'main_habitable_room_floor_area' : 29.81,\n",
    "    'other_habitable_room_floor_area' : 54.34,\n",
    "    'total_floor_area' : 120.08,\n",
    "}\n",
    "```"
   ]
  },
  {
   "cell_type": "markdown",
   "metadata": {},
   "source": [
    "#### 3) consumption"
   ]
  },
  {
   "cell_type": "markdown",
   "metadata": {},
   "source": [
    "'consumption'は月ごとのエネルギー消費量であり、電力の場合はkWhまたはMJ、ガスの場合はm3またはMJ、灯油の場合はLまたはMJで入力します。月ごとの値はリストで指定します。リストの長さは必ず12でないといけません。"
   ]
  },
  {
   "cell_type": "markdown",
   "metadata": {},
   "source": [
    "```\n",
    "'consumption' : [ 0.0, 0.0, 0.0, 0.0, 0.0, 0.0, 0.0, 0.0, 0.0, 0.0, 0.0, 0.0 ]\n",
    "```"
   ]
  },
  {
   "cell_type": "markdown",
   "metadata": {},
   "source": [
    "#### 4) heating"
   ]
  },
  {
   "cell_type": "markdown",
   "metadata": {},
   "source": [
    "'heating'はさらに、\n",
    "\n",
    "- use\n",
    "\n",
    "を持ちます。"
   ]
  },
  {
   "cell_type": "markdown",
   "metadata": {},
   "source": [
    "'use'は暖房の使用月であり、長さ12のリストで指定します。暖房を使用している場合は、Trueを、使用していない場合は、Falseを指定します。"
   ]
  },
  {
   "cell_type": "markdown",
   "metadata": {},
   "source": [
    "```\n",
    "'heating' : {\n",
    "    'use' : [True, True, True, True, False, False, False, False, False, False, True, True]\n",
    "}\n",
    "```"
   ]
  },
  {
   "cell_type": "markdown",
   "metadata": {},
   "source": [
    "#### 5) cooling"
   ]
  },
  {
   "cell_type": "markdown",
   "metadata": {},
   "source": [
    "'cooling'はさらに、\n",
    "\n",
    "- use\n",
    "\n",
    "を持ちます。"
   ]
  },
  {
   "cell_type": "markdown",
   "metadata": {},
   "source": [
    "'use'は暖房の使用月であり、長さ12のリストで指定します。暖房を使用している場合は、Trueを、使用していない場合は、Falseを指定します。"
   ]
  },
  {
   "cell_type": "markdown",
   "metadata": {},
   "source": [
    "```\n",
    "'cooling' : {\n",
    "    'use' : [False, False, False, False, True, True, True, True, True, False, False, False]\n",
    "}\n",
    "```"
   ]
  },
  {
   "cell_type": "markdown",
   "metadata": {},
   "source": [
    "#### 6) ventilation / hot_water_supply / lighting / electric_appliance / cooking"
   ]
  },
  {
   "cell_type": "markdown",
   "metadata": {},
   "source": [
    "'ventilation' 'ventilation' 'hot_water_supply' 'lighting' 'electric_appliance' 'cooking' それぞれ、はさらに、\n",
    "\n",
    "- use\n",
    "- coef\n",
    "\n",
    "を持ちます。"
   ]
  },
  {
   "cell_type": "markdown",
   "metadata": {},
   "source": [
    "'use'は、その用途にエネルギーが使われているかを指定します。True / False で指定します。Falsew を指定した場合は、'coef'の値は無視されます。  \n",
    "'coef'は、調整係数を表します。調整係数とは、本計算方法によって計算された分解後の用途別給湯消費量を調整する役割を表しています。係数=1.0の場合は調整なしです。係数を1.0より大きくすると、該当する用途の消費量が増え、代わりにその他の用途の消費量が減ります。係数を1.0より小さくすると、該当する用途の消費量が減り、代わりにその他の用途の消費量が増えます。使用実態や居住者へのヒアリング結果などを踏まえて、係数の調整をしてください。係数の調整の仕方がわからない場合は、デフォルト値の1.0としておいてください。"
   ]
  },
  {
   "cell_type": "markdown",
   "metadata": {},
   "source": [
    "```\n",
    "'ventilation' : { 'use' : True, 'coeff' : 1.0 },\n",
    "'hot_water_supply' : { 'use' : False, 'coeff' : 1.0 },\n",
    "'lighting' : { 'use' : True, 'coeff' : 1.0 },\n",
    "'electric_appliance' : { 'use' : True, 'coeff' : 1.0 },\n",
    "'cooking' : { 'use' : True, 'coeff' : 1.0 }\n",
    "```"
   ]
  },
  {
   "cell_type": "markdown",
   "metadata": {},
   "source": [
    "### 15.2 計算例"
   ]
  },
  {
   "cell_type": "markdown",
   "metadata": {},
   "source": [
    "給湯を除く暖冷房・換気・照明・家電・調理に電力を使用する場合"
   ]
  },
  {
   "cell_type": "code",
   "execution_count": 6,
   "metadata": {},
   "outputs": [
    {
     "data": {
      "image/png": "[encoded data removed]",
      "text/plain": [
       "<Figure size 1080x576 with 1 Axes>"
      ]
     },
     "metadata": {
      "needs_background": "light"
     },
     "output_type": "display_data"
    },
    {
     "name": "stdout",
     "output_type": "stream",
     "text": [
      "       Jan    Feb    Mar    Apr    May    Jun    Jly    Aug    Sep    Otc  \\\n",
      "暖房   36144  32968  27058   7510      0      0      0      0      0      0   \n",
      "冷房       0      0      0      0    571   3485  15281  16218   5460      0   \n",
      "給湯       0      0      0      0      0      0      0      0      0      0   \n",
      "換気    5216   4709   5216   5039   5199   5046   5220   5214   5039   5208   \n",
      "照明    7726   6928   7726   7374   7497   7401   7901   7638   7374   7611   \n",
      "家電   19842  17858  19842  19067  19542  19108  20058  19734  19067  19692   \n",
      "調理    4454   4000   4454   4166   4188   4310   4437   4464   4166   4322   \n",
      "分解前   7519   6810   6588   4422   3791   4032   5420   5458   4212   3774   \n",
      "\n",
      "       Nov    Dec  \n",
      "暖房    9248  28606  \n",
      "冷房       0      0  \n",
      "給湯       0      0  \n",
      "換気    5050   5208  \n",
      "照明    7576   7611  \n",
      "家電   19324  19692  \n",
      "調理    4291   4322  \n",
      "分解前   4661   6705  \n"
     ]
    }
   ],
   "source": [
    "analysis_and_plot({\n",
    "    'general' : {\n",
    "        'region': 6,\n",
    "        'number_of_people': 4,\n",
    "        'main_habitable_room_floor_area': 29.81,\n",
    "        'other_habitable_room_floor_area': 54.34,\n",
    "        'total_floor_area': 120.08,\n",
    "        'electric_use': True,\n",
    "        'gas_use': False,\n",
    "        'kerosene_use': False\n",
    "    },\n",
    "    'electricity': {\n",
    "        'consumption': [7519, 6810, 6588, 4422, 3791, 4032, 5420, 5458, 4212, 3774, 4661, 6705], \n",
    "        'heating': {\n",
    "            'use': [True, True, True, True, False, False, False, False, False, False, True, True]\n",
    "        },\n",
    "        'cooling': {\n",
    "            'use': [False, False, False, False, True, True, True, True, True, False, False, False]\n",
    "        },\n",
    "        'ventilation': {'use': True, 'coeff': 1.0},\n",
    "        'hot_water_supply': {'use': False},\n",
    "        'lighting': {'use': True, 'coeff': 1.0},\n",
    "        'electric_appliance': {'use': True, 'coeff': 1.0},\n",
    "        'cooking': {'use': True, 'coeff': 1.0}\n",
    "    }\n",
    "})"
   ]
  },
  {
   "cell_type": "markdown",
   "metadata": {},
   "source": [
    "全用途に電力を使用する場合"
   ]
  },
  {
   "cell_type": "code",
   "execution_count": 7,
   "metadata": {
    "collapsed": true
   },
   "outputs": [
    {
     "data": {
      "image/png": "[encoded data removed]",
      "text/plain": [
       "<Figure size 1080x576 with 1 Axes>"
      ]
     },
     "metadata": {
      "needs_background": "light"
     },
     "output_type": "display_data"
    },
    {
     "name": "stdout",
     "output_type": "stream",
     "text": [
      "       Jan    Feb    Mar    Apr    May    Jun    Jly    Aug    Sep    Otc  \\\n",
      "暖房   27556  25356  19686   4441      0      0      0      0      0      0   \n",
      "冷房       0      0      0      0    202   5711  19681  21669   8599      0   \n",
      "給湯   23760  21258  22543  17592  15210  12386  10925   9643  11384  15006   \n",
      "換気    3091   2790   3091   2986   3081   2990   3093   3090   2986   3086   \n",
      "照明    4578   4105   4578   4370   4443   4386   4682   4526   4370   4510   \n",
      "家電   11758  10582  11758  11299  11580  11323  11886  11694  11299  11669   \n",
      "調理    2639   2370   2639   2469   2482   2554   2629   2645   2469   2561   \n",
      "分解前   7519   6810   6588   4422   3791   4032   5420   5458   4212   3774   \n",
      "\n",
      "       Nov    Dec  \n",
      "暖房    5625  22119  \n",
      "冷房       0      0  \n",
      "給湯   18388  21493  \n",
      "換気    2992   3086  \n",
      "照明    4489   4510  \n",
      "家電   11451  11669  \n",
      "調理    2543   2561  \n",
      "分解前   4661   6705  \n"
     ]
    }
   ],
   "source": [
    "analysis_and_plot({\n",
    "    'general' : {\n",
    "        'region': 6,\n",
    "        'number_of_people' : 4,\n",
    "        'main_habitable_room_floor_area' : 29.81,\n",
    "        'other_habitable_room_floor_area' : 54.34,\n",
    "        'total_floor_area' : 120.08,\n",
    "        'electric_use': True,\n",
    "        'gas_use': False,\n",
    "        'kerosene_use': False\n",
    "    },\n",
    "    'electricity': {\n",
    "        'consumption' : [7519, 6810, 6588, 4422, 3791, 4032, 5420, 5458, 4212, 3774, 4661, 6705], \n",
    "        'heating' : {\n",
    "            'use' : [True, True, True, True, False, False, False, False, False, False, True, True]\n",
    "        },\n",
    "        'cooling' : {\n",
    "            'use' : [False, False, False, False, True, True, True, True, True, False, False, False]\n",
    "        },\n",
    "        'ventilation' : { 'use' : True, 'coeff' : 1.0 },\n",
    "        'hot_water_supply' : { 'use' : True, 'coeff' : 1.0 },\n",
    "        'lighting' : { 'use' : True, 'coeff' : 1.0 },\n",
    "        'electric_appliance' : { 'use' : True, 'coeff' : 1.0 },\n",
    "        'cooking' : { 'use' : True, 'coeff' : 1.0 }\n",
    "    }\n",
    "})"
   ]
  },
  {
   "cell_type": "markdown",
   "metadata": {},
   "source": [
    "暖房・給湯・調理にガスを使用する場合"
   ]
  },
  {
   "cell_type": "code",
   "execution_count": 8,
   "metadata": {},
   "outputs": [
    {
     "data": {
      "image/png": "[encoded data removed]",
      "text/plain": [
       "<Figure size 1080x576 with 1 Axes>"
      ]
     },
     "metadata": {
      "needs_background": "light"
     },
     "output_type": "display_data"
    },
    {
     "name": "stdout",
     "output_type": "stream",
     "text": [
      "        Jan     Feb    Mar    Apr    May    Jun    Jly    Aug    Sep    Otc  \\\n",
      "暖房   135315  124221  97742  21703      0      0      0      0      0      0   \n",
      "冷房        0       0      0      0      0      0      0      0      0      0   \n",
      "給湯    83551   74756  79274  61862  53039  43686  39280  34571  39789  51700   \n",
      "換気        0       0      0      0      0      0      0      0      0      0   \n",
      "照明        0       0      0      0      0      0      0      0      0      0   \n",
      "家電        0       0      0      0      0      0      0      0      0      0   \n",
      "調理     9283    8337   9283   8683   8655   9008   9454   9483   8630   8824   \n",
      "分解前    5070    4607   4140   2050   1371   1171   1083    979   1076   1345   \n",
      "\n",
      "       Nov     Dec  \n",
      "暖房   28768  107875  \n",
      "冷房       0       0  \n",
      "給湯   64664   75582  \n",
      "換気       0       0  \n",
      "照明       0       0  \n",
      "家電       0       0  \n",
      "調理    8942    9006  \n",
      "分解前   2275    4277  \n"
     ]
    }
   ],
   "source": [
    "analysis_and_plot({\n",
    "    'general' : {\n",
    "        'region': 6,\n",
    "        'number_of_people' : 4,\n",
    "        'main_habitable_room_floor_area' : 29.81,\n",
    "        'other_habitable_room_floor_area' : 54.34,\n",
    "        'total_floor_area' : 120.08,\n",
    "        'electric_use': False,\n",
    "        'gas_use': True,\n",
    "        'kerosene_use': False\n",
    "    },\n",
    "    'gas': {\n",
    "        'consumption' : [5070, 4607, 4140, 2050, 1371, 1171, 1083, 979, 1076, 1345, 2275, 4277],\n",
    "        'heating' : {\n",
    "            'use' : [True, True, True, True, False, False, False, False, False, False, True, True]\n",
    "        },\n",
    "        'cooling' : {\n",
    "            'use' : [False, False, False, False, False, False, False, False, False, False, False, False]\n",
    "        },\n",
    "        'ventilation' : { 'use' : False, 'coeff' : 1.0 },\n",
    "        'hot_water_supply' : { 'use' : True, 'coeff' : 1.0 },\n",
    "        'lighting' : { 'use' : False, 'coeff' : 1.0 },\n",
    "        'electric_appliance' : { 'use' : False, 'coeff' : 1.0 },\n",
    "        'cooking' : { 'use' : True, 'coeff' : 1.0 }\n",
    "    }\n",
    "})"
   ]
  },
  {
   "cell_type": "markdown",
   "metadata": {},
   "source": [
    "暖房・調理にガスを使用する場合"
   ]
  },
  {
   "cell_type": "code",
   "execution_count": 9,
   "metadata": {},
   "outputs": [
    {
     "data": {
      "image/png": "[encoded data removed]",
      "text/plain": [
       "<Figure size 1080x576 with 1 Axes>"
      ]
     },
     "metadata": {
      "needs_background": "light"
     },
     "output_type": "display_data"
    },
    {
     "name": "stdout",
     "output_type": "stream",
     "text": [
      "       Jan    Feb    Mar    Apr    May    Jun    Jly   Aug    Sep    Otc  \\\n",
      "暖房   37685  34368  28608   8972      0      0      0     0      0      0   \n",
      "冷房       0      0      0      0      0      0      0     0      0      0   \n",
      "給湯       0      0      0      0      0      0      0     0      0      0   \n",
      "換気       0      0      0      0      0      0      0     0      0      0   \n",
      "照明       0      0      0      0      0      0      0     0      0      0   \n",
      "家電       0      0      0      0      0      0      0     0      0      0   \n",
      "調理   11797  10595  11797  11035  13380  11428  10570  9555  10501  13127   \n",
      "分解前   5070   4607   4140   2050   1371   1171   1083   979   1076   1345   \n",
      "\n",
      "       Nov    Dec  \n",
      "暖房   10838  30296  \n",
      "冷房       0      0  \n",
      "給湯       0      0  \n",
      "換気       0      0  \n",
      "照明       0      0  \n",
      "家電       0      0  \n",
      "調理   11365  11446  \n",
      "分解前   2275   4277  \n"
     ]
    }
   ],
   "source": [
    "analysis_and_plot({\n",
    "    'general' : {\n",
    "        'region': 6,\n",
    "        'number_of_people' : 4,\n",
    "        'main_habitable_room_floor_area' : 29.81,\n",
    "        'other_habitable_room_floor_area' : 54.34,\n",
    "        'total_floor_area' : 120.08,\n",
    "        'electric_use': True,\n",
    "        'gas_use': False,\n",
    "        'kerosene_use': False\n",
    "    },\n",
    "    'electricity': {\n",
    "        'consumption' : [5070, 4607, 4140, 2050, 1371, 1171, 1083, 979, 1076, 1345, 2275, 4277],\n",
    "        'heating' : {\n",
    "            'use' : [True, True, True, True, False, False, False, False, False, False, True, True]\n",
    "        },\n",
    "        'cooling' : {\n",
    "            'use' : [False, False, False, False, False, False, False, False, False, False, False, False]\n",
    "        },\n",
    "        'ventilation' : { 'use' : False, 'coeff' : 1.0 },\n",
    "        'hot_water_supply' : { 'use' : False, 'coeff' : 1.0 },\n",
    "        'lighting' : { 'use' : False, 'coeff' : 1.0 },\n",
    "        'electric_appliance' : { 'use' : False, 'coeff' : 1.0 },\n",
    "        'cooking' : { 'use' : True, 'coeff' : 1.0 }\n",
    "    }\n",
    "})"
   ]
  },
  {
   "cell_type": "markdown",
   "metadata": {},
   "source": [
    "暖房・給湯に石油を使用する場合"
   ]
  },
  {
   "cell_type": "code",
   "execution_count": 10,
   "metadata": {},
   "outputs": [
    {
     "data": {
      "image/png": "[encoded data removed]",
      "text/plain": [
       "<Figure size 1080x576 with 1 Axes>"
      ]
     },
     "metadata": {
      "needs_background": "light"
     },
     "output_type": "display_data"
    },
    {
     "name": "stdout",
     "output_type": "stream",
     "text": [
      "        Jan     Feb    Mar    Apr    May    Jun    Jly    Aug    Sep    Otc  \\\n",
      "暖房   115276  105685  83902  19525      0      0      0      0      0      0   \n",
      "冷房        0       0      0      0      0      0      0      0      0      0   \n",
      "給湯    60029   53710  56956  44447  39146  31413  27787  23865  28305  37851   \n",
      "換気        0       0      0      0      0      0      0      0      0      0   \n",
      "照明        0       0      0      0      0      0      0      0      0      0   \n",
      "家電        0       0      0      0      0      0      0      0      0      0   \n",
      "調理        0       0      0      0      0      0      0      0      0      0   \n",
      "分解前    4738    4308   3807   1729   1058    849    751    645    765   1023   \n",
      "\n",
      "       Nov    Dec  \n",
      "暖房   25838  92030  \n",
      "冷房       0      0  \n",
      "給湯   46459  54304  \n",
      "換気       0      0  \n",
      "照明       0      0  \n",
      "家電       0      0  \n",
      "調理       0      0  \n",
      "分解前   1954   3955  \n"
     ]
    }
   ],
   "source": [
    "analysis_and_plot({\n",
    "    'general' : {\n",
    "        'region': 6,\n",
    "        'number_of_people' : 4,\n",
    "        'main_habitable_room_floor_area' : 29.81,\n",
    "        'other_habitable_room_floor_area' : 54.34,\n",
    "        'total_floor_area' : 120.08,\n",
    "        'electric_use': False,\n",
    "        'gas_use': False,\n",
    "        'kerosene_use': True\n",
    "    },\n",
    "    'kerosene': {\n",
    "        'consumption' : [4738, 4308, 3807, 1729, 1058, 849, 751, 645, 765, 1023, 1954, 3955],\n",
    "        'heating' : {\n",
    "            'use' : [True, True, True, True, False, False, False, False, False, False, True, True]\n",
    "        },\n",
    "        'cooling' : {\n",
    "            'use' : [False, False, False, False, False, False, False, False, False, False, False, False]\n",
    "        },\n",
    "        'ventilation' : { 'use' : False, 'coeff' : 1.0 },\n",
    "        'hot_water_supply' : { 'use' : True, 'coeff' : 1.0 },\n",
    "        'lighting' : { 'use' : False, 'coeff' : 1.0 },\n",
    "        'electric_appliance' : { 'use' : False, 'coeff' : 1.0 },\n",
    "        'cooking' : { 'use' : False, 'coeff' : 1.0 }\n",
    "    }\n",
    "})"
   ]
  },
  {
   "cell_type": "code",
   "execution_count": 11,
   "metadata": {},
   "outputs": [
    {
     "data": {
      "image/png": "[encoded data removed]",
      "text/plain": [
       "<Figure size 1080x576 with 1 Axes>"
      ]
     },
     "metadata": {
      "needs_background": "light"
     },
     "output_type": "display_data"
    },
    {
     "name": "stdout",
     "output_type": "stream",
     "text": [
      "       Jan    Feb    Mar    Apr    May   Jun   Jly   Aug   Sep   Otc    Nov  \\\n",
      "暖房       0      0      0      0      0     0     0     0     0     0      0   \n",
      "冷房       0      0      0      0      0     0     0     0     0     0      0   \n",
      "給湯   46242  42046  37156  16875  10326  8286  7329  6295  7466  9984  19071   \n",
      "換気       0      0      0      0      0     0     0     0     0     0      0   \n",
      "照明       0      0      0      0      0     0     0     0     0     0      0   \n",
      "家電       0      0      0      0      0     0     0     0     0     0      0   \n",
      "調理       0      0      0      0      0     0     0     0     0     0      0   \n",
      "分解前   4738   4308   3807   1729   1058   849   751   645   765  1023   1954   \n",
      "\n",
      "       Dec  \n",
      "暖房       0  \n",
      "冷房       0  \n",
      "給湯   38600  \n",
      "換気       0  \n",
      "照明       0  \n",
      "家電       0  \n",
      "調理       0  \n",
      "分解前   3955  \n"
     ]
    }
   ],
   "source": [
    "analysis_and_plot({\n",
    "    'general' : {\n",
    "        'region': 6,\n",
    "        'number_of_people' : 4,\n",
    "        'main_habitable_room_floor_area' : 29.81,\n",
    "        'other_habitable_room_floor_area' : 54.34,\n",
    "        'total_floor_area' : 120.08,\n",
    "        'electric_use': True,\n",
    "        'gas_use': False,\n",
    "        'kerosene_use': False\n",
    "    },\n",
    "    'electricity': {\n",
    "        'consumption' : [4738, 4308, 3807, 1729, 1058, 849, 751, 645, 765, 1023, 1954, 3955],\n",
    "        'heating' : {\n",
    "            'use' : [False, False, False, False, False, False, False, False, False, False, False, False]\n",
    "        },\n",
    "        'cooling' : {\n",
    "            'use' : [False, False, False, False, False, False, False, False, False, False, False, False]\n",
    "        },\n",
    "        'ventilation' : { 'use' : False, 'coeff' : 1.0 },\n",
    "        'hot_water_supply' : { 'use' : True, 'coeff' : 1.0 },\n",
    "        'lighting' : { 'use' : False, 'coeff' : 1.0 },\n",
    "        'electric_appliance' : { 'use' : False, 'coeff' : 1.0 },\n",
    "        'cooking' : { 'use' : False, 'coeff' : 1.0 }\n",
    "    }\n",
    "})"
   ]
  },
  {
   "cell_type": "code",
   "execution_count": null,
   "metadata": {},
   "outputs": [],
   "source": []
  }
 ],
 "metadata": {
  "kernelspec": {
   "display_name": "Python 3.9.12 ('base')",
   "language": "python",
   "name": "python3"
  },
  "language_info": {
   "codemirror_mode": {
    "name": "ipython",
    "version": 3
   },
   "file_extension": ".py",
   "mimetype": "text/x-python",
   "name": "python",
   "nbconvert_exporter": "python",
   "pygments_lexer": "ipython3",
   "version": "3.9.12"
  },
  "vscode": {
   "interpreter": {
    "hash": "5dbc05a467610a7a84f5bc3bbdadbd2f946f904af75a8cc4fe6969443e40c877"
   }
  }
 },
 "nbformat": 4,
 "nbformat_minor": 2
}
